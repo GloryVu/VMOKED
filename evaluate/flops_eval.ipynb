{
 "cells": [
  {
   "cell_type": "code",
   "execution_count": 1,
   "metadata": {},
   "outputs": [
    {
     "name": "stdout",
     "output_type": "stream",
     "text": [
      "Looking in indexes: https://pypi.org/simple, https://pypi.ngc.nvidia.com\n",
      "Requirement already satisfied: torchprofile in /home/iec-ptit/anaconda3/envs/yolonas/lib/python3.9/site-packages (0.0.4)\n",
      "Requirement already satisfied: numpy>=1.14 in /home/iec-ptit/.local/lib/python3.9/site-packages (from torchprofile) (1.26.4)\n",
      "Requirement already satisfied: torch>=1.4 in /home/iec-ptit/anaconda3/envs/yolonas/lib/python3.9/site-packages (from torchprofile) (1.11.0)\n",
      "Requirement already satisfied: torchvision>=0.4 in /home/iec-ptit/anaconda3/envs/yolonas/lib/python3.9/site-packages (from torchprofile) (0.12.0)\n",
      "Requirement already satisfied: typing-extensions in /home/iec-ptit/anaconda3/envs/yolonas/lib/python3.9/site-packages (from torch>=1.4->torchprofile) (4.10.0)\n",
      "Requirement already satisfied: requests in /home/iec-ptit/anaconda3/envs/yolonas/lib/python3.9/site-packages (from torchvision>=0.4->torchprofile) (2.31.0)\n",
      "Requirement already satisfied: pillow!=8.3.*,>=5.3.0 in /home/iec-ptit/anaconda3/envs/yolonas/lib/python3.9/site-packages (from torchvision>=0.4->torchprofile) (10.0.0)\n",
      "Requirement already satisfied: charset-normalizer<4,>=2 in /home/iec-ptit/anaconda3/envs/yolonas/lib/python3.9/site-packages (from requests->torchvision>=0.4->torchprofile) (3.2.0)\n",
      "Requirement already satisfied: idna<4,>=2.5 in /home/iec-ptit/anaconda3/envs/yolonas/lib/python3.9/site-packages (from requests->torchvision>=0.4->torchprofile) (2.10)\n",
      "Requirement already satisfied: urllib3<3,>=1.21.1 in /home/iec-ptit/anaconda3/envs/yolonas/lib/python3.9/site-packages (from requests->torchvision>=0.4->torchprofile) (1.26.16)\n",
      "Requirement already satisfied: certifi>=2017.4.17 in /home/iec-ptit/anaconda3/envs/yolonas/lib/python3.9/site-packages (from requests->torchvision>=0.4->torchprofile) (2022.12.7)\n",
      "Looking in indexes: https://pypi.org/simple, https://pypi.ngc.nvidia.com\n",
      "Requirement already satisfied: segmentation-models-pytorch in /home/iec-ptit/anaconda3/envs/yolonas/lib/python3.9/site-packages (0.3.3)\n",
      "Requirement already satisfied: Albumentations in /home/iec-ptit/.local/lib/python3.9/site-packages (1.4.3)\n",
      "Requirement already satisfied: torchvision>=0.5.0 in /home/iec-ptit/anaconda3/envs/yolonas/lib/python3.9/site-packages (from segmentation-models-pytorch) (0.12.0)\n",
      "Requirement already satisfied: pretrainedmodels==0.7.4 in /home/iec-ptit/anaconda3/envs/yolonas/lib/python3.9/site-packages (from segmentation-models-pytorch) (0.7.4)\n",
      "Requirement already satisfied: efficientnet-pytorch==0.7.1 in /home/iec-ptit/anaconda3/envs/yolonas/lib/python3.9/site-packages (from segmentation-models-pytorch) (0.7.1)\n",
      "Requirement already satisfied: timm==0.9.7 in /home/iec-ptit/anaconda3/envs/yolonas/lib/python3.9/site-packages (from segmentation-models-pytorch) (0.9.7)\n",
      "Requirement already satisfied: tqdm in /home/iec-ptit/anaconda3/envs/yolonas/lib/python3.9/site-packages (from segmentation-models-pytorch) (4.65.0)\n",
      "Requirement already satisfied: pillow in /home/iec-ptit/anaconda3/envs/yolonas/lib/python3.9/site-packages (from segmentation-models-pytorch) (10.0.0)\n",
      "Requirement already satisfied: six in /home/iec-ptit/anaconda3/envs/yolonas/lib/python3.9/site-packages (from segmentation-models-pytorch) (1.16.0)\n",
      "Requirement already satisfied: torch in /home/iec-ptit/anaconda3/envs/yolonas/lib/python3.9/site-packages (from efficientnet-pytorch==0.7.1->segmentation-models-pytorch) (1.11.0)\n",
      "Requirement already satisfied: munch in /home/iec-ptit/anaconda3/envs/yolonas/lib/python3.9/site-packages (from pretrainedmodels==0.7.4->segmentation-models-pytorch) (4.0.0)\n",
      "Requirement already satisfied: pyyaml in /home/iec-ptit/anaconda3/envs/yolonas/lib/python3.9/site-packages (from timm==0.9.7->segmentation-models-pytorch) (6.0.1)\n",
      "Requirement already satisfied: huggingface-hub in /home/iec-ptit/anaconda3/envs/yolonas/lib/python3.9/site-packages (from timm==0.9.7->segmentation-models-pytorch) (0.16.4)\n",
      "Requirement already satisfied: safetensors in /home/iec-ptit/anaconda3/envs/yolonas/lib/python3.9/site-packages (from timm==0.9.7->segmentation-models-pytorch) (0.3.1)\n",
      "Requirement already satisfied: numpy>=1.24.4 in /home/iec-ptit/.local/lib/python3.9/site-packages (from Albumentations) (1.26.4)\n",
      "Requirement already satisfied: scipy>=1.10.0 in /home/iec-ptit/anaconda3/envs/yolonas/lib/python3.9/site-packages (from Albumentations) (1.11.1)\n",
      "Requirement already satisfied: scikit-image>=0.21.0 in /home/iec-ptit/.local/lib/python3.9/site-packages (from Albumentations) (0.22.0)\n",
      "Requirement already satisfied: typing-extensions>=4.9.0 in /home/iec-ptit/anaconda3/envs/yolonas/lib/python3.9/site-packages (from Albumentations) (4.10.0)\n",
      "Requirement already satisfied: scikit-learn>=1.3.2 in /home/iec-ptit/.local/lib/python3.9/site-packages (from Albumentations) (1.4.2)\n",
      "Requirement already satisfied: opencv-python-headless>=4.9.0 in /home/iec-ptit/.local/lib/python3.9/site-packages (from Albumentations) (4.9.0.80)\n",
      "Requirement already satisfied: networkx>=2.8 in /home/iec-ptit/anaconda3/envs/yolonas/lib/python3.9/site-packages (from scikit-image>=0.21.0->Albumentations) (3.1)\n",
      "Requirement already satisfied: imageio>=2.27 in /home/iec-ptit/anaconda3/envs/yolonas/lib/python3.9/site-packages (from scikit-image>=0.21.0->Albumentations) (2.34.0)\n",
      "Requirement already satisfied: tifffile>=2022.8.12 in /home/iec-ptit/.local/lib/python3.9/site-packages (from scikit-image>=0.21.0->Albumentations) (2023.9.26)\n",
      "Requirement already satisfied: packaging>=21 in /home/iec-ptit/anaconda3/envs/yolonas/lib/python3.9/site-packages (from scikit-image>=0.21.0->Albumentations) (23.1)\n",
      "Requirement already satisfied: lazy_loader>=0.3 in /home/iec-ptit/.local/lib/python3.9/site-packages (from scikit-image>=0.21.0->Albumentations) (0.3)\n",
      "Requirement already satisfied: joblib>=1.2.0 in /home/iec-ptit/.local/lib/python3.9/site-packages (from scikit-learn>=1.3.2->Albumentations) (1.3.2)\n",
      "Requirement already satisfied: threadpoolctl>=2.0.0 in /home/iec-ptit/.local/lib/python3.9/site-packages (from scikit-learn>=1.3.2->Albumentations) (3.2.0)\n",
      "Requirement already satisfied: requests in /home/iec-ptit/anaconda3/envs/yolonas/lib/python3.9/site-packages (from torchvision>=0.5.0->segmentation-models-pytorch) (2.31.0)\n",
      "Requirement already satisfied: filelock in /home/iec-ptit/anaconda3/envs/yolonas/lib/python3.9/site-packages (from huggingface-hub->timm==0.9.7->segmentation-models-pytorch) (3.12.2)\n",
      "Requirement already satisfied: fsspec in /home/iec-ptit/anaconda3/envs/yolonas/lib/python3.9/site-packages (from huggingface-hub->timm==0.9.7->segmentation-models-pytorch) (2023.6.0)\n",
      "Requirement already satisfied: charset-normalizer<4,>=2 in /home/iec-ptit/anaconda3/envs/yolonas/lib/python3.9/site-packages (from requests->torchvision>=0.5.0->segmentation-models-pytorch) (3.2.0)\n",
      "Requirement already satisfied: idna<4,>=2.5 in /home/iec-ptit/anaconda3/envs/yolonas/lib/python3.9/site-packages (from requests->torchvision>=0.5.0->segmentation-models-pytorch) (2.10)\n",
      "Requirement already satisfied: urllib3<3,>=1.21.1 in /home/iec-ptit/anaconda3/envs/yolonas/lib/python3.9/site-packages (from requests->torchvision>=0.5.0->segmentation-models-pytorch) (1.26.16)\n",
      "Requirement already satisfied: certifi>=2017.4.17 in /home/iec-ptit/anaconda3/envs/yolonas/lib/python3.9/site-packages (from requests->torchvision>=0.5.0->segmentation-models-pytorch) (2022.12.7)\n"
     ]
    }
   ],
   "source": [
    "! pip install torchprofile\n",
    "! pip install -U segmentation-models-pytorch Albumentations --user "
   ]
  },
  {
   "cell_type": "code",
   "execution_count": 2,
   "metadata": {},
   "outputs": [],
   "source": [
    "from model.CNNLSTM.model import CNNLSTM\n",
    "from model.STCNet.src.STCNet_se_resnext.stcnet import STCNet as STCresnet\n",
    "from model.STCNet.src.STCNet_mobilenetv2.stcnet import STCNet as STCmobilenet\n",
    "import torch\n",
    "from torchprofile import profile_macs\n"
   ]
  },
  {
   "cell_type": "code",
   "execution_count": 3,
   "metadata": {},
   "outputs": [
    {
     "name": "stderr",
     "output_type": "stream",
     "text": [
      "/home/iec-ptit/anaconda3/envs/yolonas/lib/python3.9/site-packages/torchprofile/profile.py:22: UserWarning: No handlers found: \"aten::unsqueeze\". Skipped.\n",
      "  warnings.warn('No handlers found: \"{}\". Skipped.'.format(\n",
      "/home/iec-ptit/anaconda3/envs/yolonas/lib/python3.9/site-packages/torchprofile/profile.py:22: UserWarning: No handlers found: \"aten::lstm\". Skipped.\n",
      "  warnings.warn('No handlers found: \"{}\". Skipped.'.format(\n"
     ]
    }
   ],
   "source": [
    "model_CNNLSTM = CNNLSTM()\n",
    "input_tensor = torch.randn(1, 15, 3, 224, 224)  # Example input shape (batch_size, channels, height, width)\n",
    "flops_CNNLSTM = profile_macs(model_CNNLSTM, input_tensor)"
   ]
  },
  {
   "cell_type": "code",
   "execution_count": 4,
   "metadata": {},
   "outputs": [
    {
     "name": "stdout",
     "output_type": "stream",
     "text": [
      "\n",
      "    Initializing STCNet with base model: se_resnext50_32x4d.\n",
      "    STCNet Configurations:\n",
      "        input_modality:     RGB\n",
      "        num_segments:       8\n",
      "        new_length:         1\n",
      "        consensus_module:   avg\n",
      "        dropout_ratio:      0.5\n",
      "        img_feature_dim:    256\n",
      "            \n"
     ]
    }
   ],
   "source": [
    "model_STCresnet = STCresnet()\n",
    "input_tensor = torch.randn(1, 8, 3, 224, 224)  # Example input shape (batch_size, channels, height, width)\n",
    "flops_STCresnet = profile_macs(model_STCresnet, (input_tensor,input_tensor))"
   ]
  },
  {
   "cell_type": "code",
   "execution_count": 5,
   "metadata": {},
   "outputs": [
    {
     "name": "stdout",
     "output_type": "stream",
     "text": [
      "\n",
      "    Initializing STCNet with base model: mobilenetv2.\n",
      "    STCNet Configurations:\n",
      "        input_modality:     RGB\n",
      "        num_segments:       8\n",
      "        new_length:         1\n",
      "        consensus_module:   avg\n",
      "        dropout_ratio:      0.5\n",
      "        img_feature_dim:    256\n",
      "            \n"
     ]
    }
   ],
   "source": [
    "model_STCmobilenet = STCmobilenet()\n",
    "input_tensor = torch.randn(1, 8, 3, 224, 224)  # Example input shape (batch_size, channels, height, width)\n",
    "flops_STCmobilenet = profile_macs(model_STCmobilenet, (input_tensor,input_tensor))"
   ]
  },
  {
   "cell_type": "code",
   "execution_count": 6,
   "metadata": {},
   "outputs": [
    {
     "name": "stderr",
     "output_type": "stream",
     "text": [
      "[2024-04-13 12:46:53] INFO - crash_tips_setup.py - Crash tips is enabled. You can set your environment variable to CRASH_HANDLER=FALSE to disable it\n"
     ]
    },
    {
     "name": "stdout",
     "output_type": "stream",
     "text": [
      "The console stream is logged into /home/iec-ptit/sg_logs/console.log\n"
     ]
    },
    {
     "name": "stderr",
     "output_type": "stream",
     "text": [
      "[2024-04-13 12:46:53] WARNING - __init__.py - Failed to import pytorch_quantization\n",
      "2024-04-13 12:46:54.259458: I tensorflow/core/util/port.cc:110] oneDNN custom operations are on. You may see slightly different numerical results due to floating-point round-off errors from different computation orders. To turn them off, set the environment variable `TF_ENABLE_ONEDNN_OPTS=0`.\n",
      "2024-04-13 12:46:54.693761: I tensorflow/core/platform/cpu_feature_guard.cc:182] This TensorFlow binary is optimized to use available CPU instructions in performance-critical operations.\n",
      "To enable the following instructions: AVX2 AVX512F AVX512_VNNI FMA, in other operations, rebuild TensorFlow with the appropriate compiler flags.\n",
      "2024-04-13 12:46:55.371577: W tensorflow/compiler/tf2tensorrt/utils/py_utils.cc:38] TF-TRT Warning: Could not find TensorRT\n",
      "/home/iec-ptit/anaconda3/envs/yolonas/lib/python3.9/site-packages/scipy/__init__.py:155: UserWarning: A NumPy version >=1.18.5 and <1.25.0 is required for this version of SciPy (detected version 1.26.4\n",
      "  warnings.warn(f\"A NumPy version >={np_minversion} and <{np_maxversion}\"\n",
      "[2024-04-13 12:46:56] INFO - utils.py - Note: NumExpr detected 16 cores but \"NUMEXPR_MAX_THREADS\" not set, so enforcing safe limit of 8.\n",
      "[2024-04-13 12:46:56] INFO - utils.py - NumExpr defaulting to 8 threads.\n",
      "[2024-04-13 12:46:57] WARNING - calibrator.py - Failed to import pytorch_quantization\n",
      "[2024-04-13 12:46:57] WARNING - export.py - Failed to import pytorch_quantization\n",
      "[2024-04-13 12:46:57] WARNING - selective_quantization_utils.py - Failed to import pytorch_quantization\n",
      "[2024-04-13 12:46:57] WARNING - env_sanity_check.py - \u001b[31mFailed to verify installed packages: pillow==10.0.0 does not satisfy requirement pillow>=10.2.0\u001b[0m\n"
     ]
    }
   ],
   "source": [
    "from super_gradients.training import models\n",
    "MODEL_ARCH = 'yolo_nas_l'\n",
    "yolonas_model = models.get(\n",
    "    MODEL_ARCH, \n",
    "    num_classes=1, \n",
    ")\n",
    "input_tensor = torch.randn(1, 3, 640, 640)\n",
    "flops_yolonas = profile_macs(yolonas_model, input_tensor)"
   ]
  },
  {
   "cell_type": "code",
   "execution_count": 7,
   "metadata": {},
   "outputs": [],
   "source": [
    "result = f\"\"\"FLOPS:\\nCNNLSTM: {flops_CNNLSTM/1e9} GFlOPs\\n \n",
    "      STCmobilenet: {flops_STCmobilenet/1e9} GFlOPs\\n \n",
    "      STCmobilenet: {flops_STCresnet/1e9} GFlOPs\\n\n",
    "      YOLOv9: 103.2 GFLOPs\n",
    "      Our Framework: {flops_yolonas/1e9} GFlOPs\\n\"\"\""
   ]
  },
  {
   "cell_type": "code",
   "execution_count": 8,
   "metadata": {},
   "outputs": [],
   "source": [
    "print(result)"
   ]
  },
  {
   "cell_type": "code",
   "execution_count": null,
   "metadata": {},
   "outputs": [],
   "source": []
  },
  {
   "cell_type": "code",
   "execution_count": 9,
   "metadata": {},
   "outputs": [
    {
     "name": "stderr",
     "output_type": "stream",
     "text": [
      "/home/iec-ptit/anaconda3/envs/yolonas/lib/python3.9/site-packages/torchprofile/profile.py:22: UserWarning: No handlers found: \"aten::reshape\". Skipped.\n",
      "  warnings.warn('No handlers found: \"{}\". Skipped.'.format(\n",
      "/home/iec-ptit/anaconda3/envs/yolonas/lib/python3.9/site-packages/torchprofile/profile.py:22: UserWarning: No handlers found: \"aten::permute\". Skipped.\n",
      "  warnings.warn('No handlers found: \"{}\". Skipped.'.format(\n",
      "/home/iec-ptit/anaconda3/envs/yolonas/lib/python3.9/site-packages/torchprofile/profile.py:22: UserWarning: No handlers found: \"aten::scalarimplicit\". Skipped.\n",
      "  warnings.warn('No handlers found: \"{}\". Skipped.'.format(\n",
      "/home/iec-ptit/anaconda3/envs/yolonas/lib/python3.9/site-packages/torchprofile/profile.py:22: UserWarning: No handlers found: \"aten::arange\". Skipped.\n",
      "  warnings.warn('No handlers found: \"{}\". Skipped.'.format(\n",
      "/home/iec-ptit/anaconda3/envs/yolonas/lib/python3.9/site-packages/torchprofile/profile.py:22: UserWarning: No handlers found: \"aten::meshgrid\". Skipped.\n",
      "  warnings.warn('No handlers found: \"{}\". Skipped.'.format(\n",
      "/home/iec-ptit/anaconda3/envs/yolonas/lib/python3.9/site-packages/torchprofile/profile.py:22: UserWarning: No handlers found: \"aten::full\". Skipped.\n",
      "  warnings.warn('No handlers found: \"{}\". Skipped.'.format(\n",
      "/home/iec-ptit/anaconda3/envs/yolonas/lib/python3.9/site-packages/torchprofile/profile.py:22: UserWarning: No handlers found: \"aten::split\". Skipped.\n",
      "  warnings.warn('No handlers found: \"{}\". Skipped.'.format(\n"
     ]
    },
    {
     "name": "stdout",
     "output_type": "stream",
     "text": [
      "FLOPS:\n",
      "CNNLSTM: 27.242715392 GFlOPs\n",
      " \n",
      "      STCmobilenet: 4.634444289 GFlOPs\n",
      " \n",
      "      STCmobilenet: 68.245332993 GFlOPs\n",
      "\n",
      "      YOLOv9: 103.2 GFLOPs\n",
      "      Our Framework: 64.892252806 GFlOPs\n",
      "\n"
     ]
    }
   ],
   "source": [
    "import segmentation_models_pytorch as smp"
   ]
  },
  {
   "cell_type": "code",
   "execution_count": 12,
   "metadata": {},
   "outputs": [],
   "source": [
    "import pandas as pd"
   ]
  },
  {
   "cell_type": "code",
   "execution_count": 22,
   "metadata": {},
   "outputs": [
    {
     "name": "stdout",
     "output_type": "stream",
     "text": [
      "32\n",
      "64\n"
     ]
    },
    {
     "name": "stderr",
     "output_type": "stream",
     "text": [
      "/home/iec-ptit/anaconda3/envs/yolonas/lib/python3.9/site-packages/torchprofile/profile.py:22: UserWarning: No handlers found: \"aten::ceil\". Skipped.\n",
      "  warnings.warn('No handlers found: \"{}\". Skipped.'.format(\n",
      "/home/iec-ptit/anaconda3/envs/yolonas/lib/python3.9/site-packages/torchprofile/profile.py:22: UserWarning: No handlers found: \"aten::feature_dropout_\". Skipped.\n",
      "  warnings.warn('No handlers found: \"{}\". Skipped.'.format(\n",
      "/home/iec-ptit/anaconda3/envs/yolonas/lib/python3.9/site-packages/torchprofile/profile.py:22: UserWarning: No handlers found: \"aten::ceil\". Skipped.\n",
      "  warnings.warn('No handlers found: \"{}\". Skipped.'.format(\n",
      "/home/iec-ptit/anaconda3/envs/yolonas/lib/python3.9/site-packages/torchprofile/profile.py:22: UserWarning: No handlers found: \"aten::feature_dropout_\". Skipped.\n",
      "  warnings.warn('No handlers found: \"{}\". Skipped.'.format(\n"
     ]
    },
    {
     "name": "stdout",
     "output_type": "stream",
     "text": [
      "96\n",
      "128\n"
     ]
    },
    {
     "name": "stderr",
     "output_type": "stream",
     "text": [
      "/home/iec-ptit/anaconda3/envs/yolonas/lib/python3.9/site-packages/torchprofile/profile.py:22: UserWarning: No handlers found: \"aten::ceil\". Skipped.\n",
      "  warnings.warn('No handlers found: \"{}\". Skipped.'.format(\n",
      "/home/iec-ptit/anaconda3/envs/yolonas/lib/python3.9/site-packages/torchprofile/profile.py:22: UserWarning: No handlers found: \"aten::feature_dropout_\". Skipped.\n",
      "  warnings.warn('No handlers found: \"{}\". Skipped.'.format(\n",
      "/home/iec-ptit/anaconda3/envs/yolonas/lib/python3.9/site-packages/torchprofile/profile.py:22: UserWarning: No handlers found: \"aten::ceil\". Skipped.\n",
      "  warnings.warn('No handlers found: \"{}\". Skipped.'.format(\n",
      "/home/iec-ptit/anaconda3/envs/yolonas/lib/python3.9/site-packages/torchprofile/profile.py:22: UserWarning: No handlers found: \"aten::feature_dropout_\". Skipped.\n",
      "  warnings.warn('No handlers found: \"{}\". Skipped.'.format(\n"
     ]
    },
    {
     "name": "stdout",
     "output_type": "stream",
     "text": [
      "160\n",
      "192\n"
     ]
    },
    {
     "name": "stderr",
     "output_type": "stream",
     "text": [
      "/home/iec-ptit/anaconda3/envs/yolonas/lib/python3.9/site-packages/torchprofile/profile.py:22: UserWarning: No handlers found: \"aten::ceil\". Skipped.\n",
      "  warnings.warn('No handlers found: \"{}\". Skipped.'.format(\n",
      "/home/iec-ptit/anaconda3/envs/yolonas/lib/python3.9/site-packages/torchprofile/profile.py:22: UserWarning: No handlers found: \"aten::feature_dropout_\". Skipped.\n",
      "  warnings.warn('No handlers found: \"{}\". Skipped.'.format(\n",
      "/home/iec-ptit/anaconda3/envs/yolonas/lib/python3.9/site-packages/torchprofile/profile.py:22: UserWarning: No handlers found: \"aten::ceil\". Skipped.\n",
      "  warnings.warn('No handlers found: \"{}\". Skipped.'.format(\n",
      "/home/iec-ptit/anaconda3/envs/yolonas/lib/python3.9/site-packages/torchprofile/profile.py:22: UserWarning: No handlers found: \"aten::feature_dropout_\". Skipped.\n",
      "  warnings.warn('No handlers found: \"{}\". Skipped.'.format(\n"
     ]
    },
    {
     "name": "stdout",
     "output_type": "stream",
     "text": [
      "224\n",
      "256\n"
     ]
    },
    {
     "name": "stderr",
     "output_type": "stream",
     "text": [
      "/home/iec-ptit/anaconda3/envs/yolonas/lib/python3.9/site-packages/torchprofile/profile.py:22: UserWarning: No handlers found: \"aten::ceil\". Skipped.\n",
      "  warnings.warn('No handlers found: \"{}\". Skipped.'.format(\n",
      "/home/iec-ptit/anaconda3/envs/yolonas/lib/python3.9/site-packages/torchprofile/profile.py:22: UserWarning: No handlers found: \"aten::feature_dropout_\". Skipped.\n",
      "  warnings.warn('No handlers found: \"{}\". Skipped.'.format(\n",
      "/home/iec-ptit/anaconda3/envs/yolonas/lib/python3.9/site-packages/torchprofile/profile.py:22: UserWarning: No handlers found: \"aten::ceil\". Skipped.\n",
      "  warnings.warn('No handlers found: \"{}\". Skipped.'.format(\n",
      "/home/iec-ptit/anaconda3/envs/yolonas/lib/python3.9/site-packages/torchprofile/profile.py:22: UserWarning: No handlers found: \"aten::feature_dropout_\". Skipped.\n",
      "  warnings.warn('No handlers found: \"{}\". Skipped.'.format(\n"
     ]
    },
    {
     "name": "stdout",
     "output_type": "stream",
     "text": [
      "288\n",
      "320\n"
     ]
    },
    {
     "name": "stderr",
     "output_type": "stream",
     "text": [
      "/home/iec-ptit/anaconda3/envs/yolonas/lib/python3.9/site-packages/torchprofile/profile.py:22: UserWarning: No handlers found: \"aten::ceil\". Skipped.\n",
      "  warnings.warn('No handlers found: \"{}\". Skipped.'.format(\n",
      "/home/iec-ptit/anaconda3/envs/yolonas/lib/python3.9/site-packages/torchprofile/profile.py:22: UserWarning: No handlers found: \"aten::feature_dropout_\". Skipped.\n",
      "  warnings.warn('No handlers found: \"{}\". Skipped.'.format(\n",
      "/home/iec-ptit/anaconda3/envs/yolonas/lib/python3.9/site-packages/torchprofile/profile.py:22: UserWarning: No handlers found: \"aten::ceil\". Skipped.\n",
      "  warnings.warn('No handlers found: \"{}\". Skipped.'.format(\n",
      "/home/iec-ptit/anaconda3/envs/yolonas/lib/python3.9/site-packages/torchprofile/profile.py:22: UserWarning: No handlers found: \"aten::feature_dropout_\". Skipped.\n",
      "  warnings.warn('No handlers found: \"{}\". Skipped.'.format(\n"
     ]
    },
    {
     "name": "stdout",
     "output_type": "stream",
     "text": [
      "352\n",
      "384\n"
     ]
    },
    {
     "name": "stderr",
     "output_type": "stream",
     "text": [
      "/home/iec-ptit/anaconda3/envs/yolonas/lib/python3.9/site-packages/torchprofile/profile.py:22: UserWarning: No handlers found: \"aten::ceil\". Skipped.\n",
      "  warnings.warn('No handlers found: \"{}\". Skipped.'.format(\n",
      "/home/iec-ptit/anaconda3/envs/yolonas/lib/python3.9/site-packages/torchprofile/profile.py:22: UserWarning: No handlers found: \"aten::feature_dropout_\". Skipped.\n",
      "  warnings.warn('No handlers found: \"{}\". Skipped.'.format(\n",
      "/home/iec-ptit/anaconda3/envs/yolonas/lib/python3.9/site-packages/torchprofile/profile.py:22: UserWarning: No handlers found: \"aten::ceil\". Skipped.\n",
      "  warnings.warn('No handlers found: \"{}\". Skipped.'.format(\n",
      "/home/iec-ptit/anaconda3/envs/yolonas/lib/python3.9/site-packages/torchprofile/profile.py:22: UserWarning: No handlers found: \"aten::feature_dropout_\". Skipped.\n",
      "  warnings.warn('No handlers found: \"{}\". Skipped.'.format(\n"
     ]
    },
    {
     "name": "stdout",
     "output_type": "stream",
     "text": [
      "416\n",
      "448\n"
     ]
    },
    {
     "name": "stderr",
     "output_type": "stream",
     "text": [
      "/home/iec-ptit/anaconda3/envs/yolonas/lib/python3.9/site-packages/torchprofile/profile.py:22: UserWarning: No handlers found: \"aten::ceil\". Skipped.\n",
      "  warnings.warn('No handlers found: \"{}\". Skipped.'.format(\n",
      "/home/iec-ptit/anaconda3/envs/yolonas/lib/python3.9/site-packages/torchprofile/profile.py:22: UserWarning: No handlers found: \"aten::feature_dropout_\". Skipped.\n",
      "  warnings.warn('No handlers found: \"{}\". Skipped.'.format(\n",
      "/home/iec-ptit/anaconda3/envs/yolonas/lib/python3.9/site-packages/torchprofile/profile.py:22: UserWarning: No handlers found: \"aten::ceil\". Skipped.\n",
      "  warnings.warn('No handlers found: \"{}\". Skipped.'.format(\n",
      "/home/iec-ptit/anaconda3/envs/yolonas/lib/python3.9/site-packages/torchprofile/profile.py:22: UserWarning: No handlers found: \"aten::feature_dropout_\". Skipped.\n",
      "  warnings.warn('No handlers found: \"{}\". Skipped.'.format(\n"
     ]
    },
    {
     "name": "stdout",
     "output_type": "stream",
     "text": [
      "480\n",
      "512\n"
     ]
    },
    {
     "name": "stderr",
     "output_type": "stream",
     "text": [
      "/home/iec-ptit/anaconda3/envs/yolonas/lib/python3.9/site-packages/torchprofile/profile.py:22: UserWarning: No handlers found: \"aten::ceil\". Skipped.\n",
      "  warnings.warn('No handlers found: \"{}\". Skipped.'.format(\n",
      "/home/iec-ptit/anaconda3/envs/yolonas/lib/python3.9/site-packages/torchprofile/profile.py:22: UserWarning: No handlers found: \"aten::feature_dropout_\". Skipped.\n",
      "  warnings.warn('No handlers found: \"{}\". Skipped.'.format(\n",
      "/home/iec-ptit/anaconda3/envs/yolonas/lib/python3.9/site-packages/torchprofile/profile.py:22: UserWarning: No handlers found: \"aten::ceil\". Skipped.\n",
      "  warnings.warn('No handlers found: \"{}\". Skipped.'.format(\n",
      "/home/iec-ptit/anaconda3/envs/yolonas/lib/python3.9/site-packages/torchprofile/profile.py:22: UserWarning: No handlers found: \"aten::feature_dropout_\". Skipped.\n",
      "  warnings.warn('No handlers found: \"{}\". Skipped.'.format(\n"
     ]
    },
    {
     "name": "stdout",
     "output_type": "stream",
     "text": [
      "544\n"
     ]
    },
    {
     "name": "stderr",
     "output_type": "stream",
     "text": [
      "/home/iec-ptit/anaconda3/envs/yolonas/lib/python3.9/site-packages/torchprofile/profile.py:22: UserWarning: No handlers found: \"aten::ceil\". Skipped.\n",
      "  warnings.warn('No handlers found: \"{}\". Skipped.'.format(\n",
      "/home/iec-ptit/anaconda3/envs/yolonas/lib/python3.9/site-packages/torchprofile/profile.py:22: UserWarning: No handlers found: \"aten::feature_dropout_\". Skipped.\n",
      "  warnings.warn('No handlers found: \"{}\". Skipped.'.format(\n"
     ]
    },
    {
     "name": "stdout",
     "output_type": "stream",
     "text": [
      "576\n"
     ]
    },
    {
     "name": "stderr",
     "output_type": "stream",
     "text": [
      "/home/iec-ptit/anaconda3/envs/yolonas/lib/python3.9/site-packages/torchprofile/profile.py:22: UserWarning: No handlers found: \"aten::ceil\". Skipped.\n",
      "  warnings.warn('No handlers found: \"{}\". Skipped.'.format(\n",
      "/home/iec-ptit/anaconda3/envs/yolonas/lib/python3.9/site-packages/torchprofile/profile.py:22: UserWarning: No handlers found: \"aten::feature_dropout_\". Skipped.\n",
      "  warnings.warn('No handlers found: \"{}\". Skipped.'.format(\n"
     ]
    },
    {
     "name": "stdout",
     "output_type": "stream",
     "text": [
      "608\n"
     ]
    },
    {
     "name": "stderr",
     "output_type": "stream",
     "text": [
      "/home/iec-ptit/anaconda3/envs/yolonas/lib/python3.9/site-packages/torchprofile/profile.py:22: UserWarning: No handlers found: \"aten::ceil\". Skipped.\n",
      "  warnings.warn('No handlers found: \"{}\". Skipped.'.format(\n",
      "/home/iec-ptit/anaconda3/envs/yolonas/lib/python3.9/site-packages/torchprofile/profile.py:22: UserWarning: No handlers found: \"aten::feature_dropout_\". Skipped.\n",
      "  warnings.warn('No handlers found: \"{}\". Skipped.'.format(\n"
     ]
    },
    {
     "name": "stdout",
     "output_type": "stream",
     "text": [
      "640\n"
     ]
    },
    {
     "name": "stderr",
     "output_type": "stream",
     "text": [
      "/home/iec-ptit/anaconda3/envs/yolonas/lib/python3.9/site-packages/torchprofile/profile.py:22: UserWarning: No handlers found: \"aten::ceil\". Skipped.\n",
      "  warnings.warn('No handlers found: \"{}\". Skipped.'.format(\n",
      "/home/iec-ptit/anaconda3/envs/yolonas/lib/python3.9/site-packages/torchprofile/profile.py:22: UserWarning: No handlers found: \"aten::feature_dropout_\". Skipped.\n",
      "  warnings.warn('No handlers found: \"{}\". Skipped.'.format(\n"
     ]
    }
   ],
   "source": [
    "ENCODER = 'timm-mobilenetv3_small_minimal_100'\n",
    "ENCODER_WEIGHTS = 'imagenet'\n",
    "CLASSES = ['sky']\n",
    "ACTIVATION = 'sigmoid' # could be None for logits or 'softmax2d' for multiclass segmentation\n",
    "DEVICE = 'cuda'\n",
    "\n",
    "# create segmentation model with pretrained encoder\n",
    "sgs_model = smp.FPN(\n",
    "    encoder_name=ENCODER, \n",
    "    encoder_weights=ENCODER_WEIGHTS, \n",
    "    classes=len(CLASSES), \n",
    "    activation=ACTIVATION,\n",
    ")\n",
    "sgs_model.eval()\n",
    "df = pd.DataFrame([],columns=['size','GFLOPs'])\n",
    "for size in range(32,641,32):\n",
    "    print(size)\n",
    "    input_tensor = torch.randn(1, 3, size, size)\n",
    "    flops_SGS = profile_macs(sgs_model, input_tensor)\n",
    "    df = pd.concat([df, pd.DataFrame([{'size':size,'GFLOPs':flops_SGS/1e9}])], ignore_index=True)\n"
   ]
  },
  {
   "cell_type": "code",
   "execution_count": null,
   "metadata": {},
   "outputs": [
    {
     "data": {
      "text/plain": [
       "'SGS: 3.21405122 GFlOPs\\n'"
      ]
     },
     "execution_count": 8,
     "metadata": {},
     "output_type": "execute_result"
    }
   ],
   "source": [
    "f\"SGS: {flops_SGS/1e9} GFlOPs\\n\""
   ]
  },
  {
   "cell_type": "code",
   "execution_count": 25,
   "metadata": {},
   "outputs": [],
   "source": [
    "df.to_csv('../sky_ground_segmentation/experimental_result/GFLOPs.csv',index=False)"
   ]
  },
  {
   "cell_type": "code",
   "execution_count": null,
   "metadata": {},
   "outputs": [],
   "source": []
  }
 ],
 "metadata": {
  "kernelspec": {
   "display_name": "yolonas",
   "language": "python",
   "name": "python3"
  },
  "language_info": {
   "codemirror_mode": {
    "name": "ipython",
    "version": 3
   },
   "file_extension": ".py",
   "mimetype": "text/x-python",
   "name": "python",
   "nbconvert_exporter": "python",
   "pygments_lexer": "ipython3",
   "version": "3.9.16"
  }
 },
 "nbformat": 4,
 "nbformat_minor": 2
}
