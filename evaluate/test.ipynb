{
 "cells": [
  {
   "cell_type": "code",
   "execution_count": 1,
   "id": "512a4756-cd23-4b45-9851-b2d3ded52fc4",
   "metadata": {},
   "outputs": [],
   "source": [
    "# ! pip install nvidia-tensorrt==8.4.3.1"
   ]
  },
  {
   "cell_type": "code",
   "execution_count": 2,
   "id": "b6d30be7",
   "metadata": {},
   "outputs": [
    {
     "name": "stdout",
     "output_type": "stream",
     "text": [
      "/media/iec-ptit/b3a4e3e5-118e-48d7-ae64-40d0d4dae3a6/home/iec-ptit/Desktop/vvinh/vsmoked\n"
     ]
    }
   ],
   "source": [
    "%cd ../"
   ]
  },
  {
   "cell_type": "code",
   "execution_count": 3,
   "id": "0138f132-60c8-44d7-a5c4-7e6cdd9e8962",
   "metadata": {},
   "outputs": [
    {
     "name": "stderr",
     "output_type": "stream",
     "text": [
      "2024-04-21 20:26:59.543674: I tensorflow/core/util/port.cc:110] oneDNN custom operations are on. You may see slightly different numerical results due to floating-point round-off errors from different computation orders. To turn them off, set the environment variable `TF_ENABLE_ONEDNN_OPTS=0`.\n",
      "2024-04-21 20:26:59.572132: I tensorflow/core/platform/cpu_feature_guard.cc:182] This TensorFlow binary is optimized to use available CPU instructions in performance-critical operations.\n",
      "To enable the following instructions: AVX2 AVX512F AVX512_VNNI FMA, in other operations, rebuild TensorFlow with the appropriate compiler flags.\n",
      "2024-04-21 20:27:00.052277: W tensorflow/compiler/tf2tensorrt/utils/py_utils.cc:38] TF-TRT Warning: Could not find TensorRT\n"
     ]
    },
    {
     "name": "stdout",
     "output_type": "stream",
     "text": [
      "['nonsmoke', 'smoke']\n"
     ]
    },
    {
     "name": "stderr",
     "output_type": "stream",
     "text": [
      "load nonsmoke images to cache: 100%|██████████| 11/11 [00:30<00:00,  2.76s/it]\n",
      "load smoke images to cache: 100%|██████████| 10/10 [00:13<00:00,  1.39s/it]\n"
     ]
    }
   ],
   "source": [
    "from dataset.dataset import SmokeDetectionDataset\n",
    "from torch.utils.data import DataLoader\n",
    "import numpy as np\n",
    "from tqdm import tqdm\n",
    "\n",
    "\n",
    "\n",
    "smkd_dataset = SmokeDetectionDataset('./dataset/wildfire_smoke_dataset/classification/test','./dataset/wildfire_smoke_dataset/test/labels',sequence_length=7)\n",
    "test_loader = DataLoader(dataset=smkd_dataset, batch_size=1, pin_memory=True)"
   ]
  },
  {
   "cell_type": "code",
   "execution_count": 26,
   "id": "56cfc908-50b3-470e-b74e-0dd6c26dd9f9",
   "metadata": {},
   "outputs": [],
   "source": [
    "def dict_of_label(y):\n",
    "    return [{\n",
    "            'label': yy[0].item(),\n",
    "            'box': [yy[1][0].item(), \n",
    "                    yy[1][1].item(), \n",
    "                    yy[1][2].item(), \n",
    "                    yy[1][3].item()],\n",
    "            'conf': 1.0\n",
    "            } for yy in y]\n",
    "\n",
    "\n",
    "def iou(box1, box2):\n",
    "        # Extract coordinates of the boxes\n",
    "    xmin1, ymin1, xmax1, ymax1 = box1\n",
    "    xmin2, ymin2, xmax2, ymax2 = box2\n",
    "    \n",
    "    # Calculate the intersection coordinates\n",
    "    x_left = max(xmin1, xmin2)\n",
    "    y_top = max(ymin1, ymin2)\n",
    "    x_right = min(xmax1, xmax2)\n",
    "    y_bottom = min(ymax1, ymax2)\n",
    "    \n",
    "    # Calculate the intersection area\n",
    "    intersection_area = max(0, x_right - x_left) * max(0, y_bottom - y_top)\n",
    "    \n",
    "    # Calculate the areas of the bounding boxes\n",
    "    box1_area = (xmax1 - xmin1) * (ymax1 - ymin1)\n",
    "    box2_area = (xmax2 - xmin2) * (ymax2 - ymin2)\n",
    "    \n",
    "    # Calculate the union area\n",
    "    union_area = box1_area + box2_area - intersection_area\n",
    "    \n",
    "    # Calculate IoU\n",
    "    iou = intersection_area / union_area if union_area > 0 else 0\n",
    "    \n",
    "    return iou\n",
    "\n",
    "def calculate_detection_accuracy(predicted_boxes, gt_boxes, iou_threshold=0.3):\n",
    "    \"\"\"\n",
    "    input: predicted_boxes, gt_boxes, iou_threshold\n",
    "    return tp, tn, fp, fn\n",
    "    \"\"\"\n",
    "    total_gt_objects = len(gt_boxes)\n",
    "    total_predicted_objects = len(predicted_boxes)\n",
    "    tp = tn = fp = fn = 0\n",
    "    if total_gt_objects==0 & total_predicted_objects==0:\n",
    "        tn = 1\n",
    "        return tp, tn, fp, fn\n",
    "    if total_gt_objects==0 & total_predicted_objects!=0:\n",
    "        fp = total_predicted_objects\n",
    "        return tp, tn, fp, fn\n",
    "    if total_gt_objects!=0 & total_predicted_objects==0:\n",
    "        fn = total_gt_objects\n",
    "\n",
    "    match_matrix = np.zeros((total_predicted_objects,total_gt_objects))\n",
    "    for pred_idx in range(total_predicted_objects):\n",
    "        for gt_idx in range(total_gt_objects): \n",
    "            if iou(predicted_boxes[pred_idx],gt_boxes[gt_idx]) > iou_threshold:\n",
    "                match_matrix[pred_idx][gt_idx] = 1\n",
    "    gt_sum = np.sum(match_matrix, 0)\n",
    "    tp = np.sum(gt_sum>0)\n",
    "    fn = np.sum(gt_sum==0)\n",
    "    fp = np.sum(np.sum(match_matrix,1)==0)\n",
    "    return tp, tn, fp, fn\n",
    "\n",
    "\n",
    "\n",
    "#  print(f'accuracy: {round(num_correct / num_samples, 4)}')"
   ]
  },
  {
   "cell_type": "code",
   "execution_count": 27,
   "id": "04194ff4-3cd8-4c28-8061-5cb236d3f9f2",
   "metadata": {},
   "outputs": [],
   "source": [
    "from vsmoked.object_detection import Detector"
   ]
  },
  {
   "cell_type": "code",
   "execution_count": 28,
   "id": "86ca9fd7-d2e2-4d07-aef1-89bf91ebd881",
   "metadata": {},
   "outputs": [],
   "source": [
    "# !trtexec --onnx=model/OurModel/model_18_04/best_ds_nms.trt --uint8 --avgRuns=100 --duration=15"
   ]
  },
  {
   "cell_type": "code",
   "execution_count": 39,
   "id": "174ec26e-5e01-404c-8b1d-2a0599159661",
   "metadata": {},
   "outputs": [
    {
     "name": "stdout",
     "output_type": "stream",
     "text": [
      "reading  ./vsmoked/models/best_ds_nms.trt\n",
      "./vsmoked/models/sky_seg.onnx\n",
      "reading  ./vsmoked/models/sky_seg.trt\n"
     ]
    }
   ],
   "source": [
    "detector = Detector('./vsmoked/models/best_ds_nms.trt','./vsmoked/models/sky_seg.trt',use_SGS_block=True)\n",
    "# detector.set_params(7,2, 0.7, 0.014, 0.014)\n",
    "detector.set_params(7,2, 0.7, -1, -1)"
   ]
  },
  {
   "cell_type": "code",
   "execution_count": 40,
   "id": "8806e948-01a7-4e8a-9974-ca0f5229d394",
   "metadata": {},
   "outputs": [
    {
     "name": "stderr",
     "output_type": "stream",
     "text": [
      " 35%|███▌      | 1030/2911 [03:01<05:31,  5.67it/s, acc=0.8466, f1=0.9169, precision=0.8610, recall=0.9806]\n",
      "  2%|▏         | 68/2911 [00:12<07:26,  6.37it/s, acc=0.8272, f1=0.9054, precision=0.8375, recall=0.9853] "
     ]
    },
    {
     "name": "stdout",
     "output_type": "stream",
     "text": [
      "motionless mmb\n",
      "\n",
      "preds:[{'label': 0.0, 'box': [0.1015625, 0.0234375, 0.12656250596046448, 0.0703125], 'conf': 0.20214844, 'mm': 0.08480664, 'mmb': 0.18495914}])\n",
      "trust:[{'label': 0, 'box': [0.1047794117647059, 0.00392156862745098, 0.16875, 0.07254901960784314], 'conf': 1.0}]\n"
     ]
    },
    {
     "name": "stderr",
     "output_type": "stream",
     "text": [
      "  8%|▊         | 241/2911 [00:36<06:17,  7.08it/s, acc=0.8511, f1=0.9195, precision=0.8541, recall=0.9959]"
     ]
    },
    {
     "name": "stdout",
     "output_type": "stream",
     "text": [
      "motionless mm\n"
     ]
    },
    {
     "name": "stderr",
     "output_type": "stream",
     "text": [
      "  8%|▊         | 243/2911 [00:36<06:31,  6.81it/s, acc=0.8521, f1=0.9202, precision=0.8551, recall=0.9959]"
     ]
    },
    {
     "name": "stdout",
     "output_type": "stream",
     "text": [
      "motionless mm\n"
     ]
    },
    {
     "name": "stderr",
     "output_type": "stream",
     "text": [
      "  8%|▊         | 244/2911 [00:36<07:03,  6.29it/s, acc=0.8526, f1=0.9205, precision=0.8556, recall=0.9959]"
     ]
    },
    {
     "name": "stdout",
     "output_type": "stream",
     "text": [
      "motionless mm\n"
     ]
    },
    {
     "name": "stderr",
     "output_type": "stream",
     "text": [
      "  8%|▊         | 247/2911 [00:37<06:59,  6.35it/s, acc=0.8542, f1=0.9213, precision=0.8571, recall=0.9960]"
     ]
    },
    {
     "name": "stdout",
     "output_type": "stream",
     "text": [
      "motionless mm\n"
     ]
    },
    {
     "name": "stderr",
     "output_type": "stream",
     "text": [
      "  9%|▊         | 249/2911 [00:37<06:59,  6.35it/s, acc=0.8552, f1=0.9219, precision=0.8581, recall=0.9960]"
     ]
    },
    {
     "name": "stdout",
     "output_type": "stream",
     "text": [
      "motionless mm\n",
      "motionless mm\n"
     ]
    },
    {
     "name": "stderr",
     "output_type": "stream",
     "text": [
      "  9%|▊         | 251/2911 [00:37<06:57,  6.37it/s, acc=0.8562, f1=0.9225, precision=0.8591, recall=0.9960]"
     ]
    },
    {
     "name": "stdout",
     "output_type": "stream",
     "text": [
      "motionless mm\n",
      "motionless mm\n"
     ]
    },
    {
     "name": "stderr",
     "output_type": "stream",
     "text": [
      "  9%|▊         | 253/2911 [00:38<06:52,  6.44it/s, acc=0.8571, f1=0.9231, precision=0.8601, recall=0.9960]"
     ]
    },
    {
     "name": "stdout",
     "output_type": "stream",
     "text": [
      "motionless mm\n"
     ]
    },
    {
     "name": "stderr",
     "output_type": "stream",
     "text": [
      "  9%|▉         | 255/2911 [00:38<06:42,  6.61it/s, acc=0.8581, f1=0.9236, precision=0.8610, recall=0.9961]"
     ]
    },
    {
     "name": "stdout",
     "output_type": "stream",
     "text": [
      "motionless mm\n"
     ]
    },
    {
     "name": "stderr",
     "output_type": "stream",
     "text": [
      "  9%|▉         | 257/2911 [00:38<06:43,  6.57it/s, acc=0.8591, f1=0.9242, precision=0.8620, recall=0.9961]"
     ]
    },
    {
     "name": "stdout",
     "output_type": "stream",
     "text": [
      "motionless mm\n"
     ]
    },
    {
     "name": "stderr",
     "output_type": "stream",
     "text": [
      "  9%|▉         | 259/2911 [00:39<06:37,  6.67it/s, acc=0.8600, f1=0.9247, precision=0.8629, recall=0.9961]"
     ]
    },
    {
     "name": "stdout",
     "output_type": "stream",
     "text": [
      "motionless mm\n"
     ]
    },
    {
     "name": "stderr",
     "output_type": "stream",
     "text": [
      "  9%|▉         | 261/2911 [00:39<06:49,  6.48it/s, acc=0.8609, f1=0.9253, precision=0.8638, recall=0.9962]"
     ]
    },
    {
     "name": "stdout",
     "output_type": "stream",
     "text": [
      "motionless mm\n"
     ]
    },
    {
     "name": "stderr",
     "output_type": "stream",
     "text": [
      "  9%|▉         | 263/2911 [00:39<06:32,  6.74it/s, acc=0.8618, f1=0.9258, precision=0.8647, recall=0.9962]"
     ]
    },
    {
     "name": "stdout",
     "output_type": "stream",
     "text": [
      "motionless mm\n",
      "motionless mm\n"
     ]
    },
    {
     "name": "stderr",
     "output_type": "stream",
     "text": [
      "  9%|▉         | 265/2911 [00:40<06:42,  6.57it/s, acc=0.8627, f1=0.9263, precision=0.8656, recall=0.9962]"
     ]
    },
    {
     "name": "stdout",
     "output_type": "stream",
     "text": [
      "motionless mm\n",
      "motionless mm\n"
     ]
    },
    {
     "name": "stderr",
     "output_type": "stream",
     "text": [
      "  9%|▉         | 267/2911 [00:40<06:34,  6.70it/s, acc=0.8636, f1=0.9268, precision=0.8664, recall=0.9963]"
     ]
    },
    {
     "name": "stdout",
     "output_type": "stream",
     "text": [
      "motionless mm\n"
     ]
    },
    {
     "name": "stderr",
     "output_type": "stream",
     "text": [
      "  9%|▉         | 269/2911 [00:40<06:42,  6.57it/s, acc=0.8645, f1=0.9273, precision=0.8673, recall=0.9963]"
     ]
    },
    {
     "name": "stdout",
     "output_type": "stream",
     "text": [
      "motionless mm\n"
     ]
    },
    {
     "name": "stderr",
     "output_type": "stream",
     "text": [
      "  9%|▉         | 271/2911 [00:40<06:45,  6.51it/s, acc=0.8654, f1=0.9278, precision=0.8682, recall=0.9963]"
     ]
    },
    {
     "name": "stdout",
     "output_type": "stream",
     "text": [
      "motionless mm\n"
     ]
    },
    {
     "name": "stderr",
     "output_type": "stream",
     "text": [
      "  9%|▉         | 273/2911 [00:41<06:44,  6.53it/s, acc=0.8662, f1=0.9283, precision=0.8690, recall=0.9963]"
     ]
    },
    {
     "name": "stdout",
     "output_type": "stream",
     "text": [
      "motionless mm\n"
     ]
    },
    {
     "name": "stderr",
     "output_type": "stream",
     "text": [
      "  9%|▉         | 275/2911 [00:41<07:25,  5.92it/s, acc=0.8671, f1=0.9288, precision=0.8698, recall=0.9964]"
     ]
    },
    {
     "name": "stdout",
     "output_type": "stream",
     "text": [
      "motionless mm\n"
     ]
    },
    {
     "name": "stderr",
     "output_type": "stream",
     "text": [
      " 10%|▉         | 277/2911 [00:41<06:56,  6.33it/s, acc=0.8679, f1=0.9293, precision=0.8707, recall=0.9964]"
     ]
    },
    {
     "name": "stdout",
     "output_type": "stream",
     "text": [
      "motionless mm\n"
     ]
    },
    {
     "name": "stderr",
     "output_type": "stream",
     "text": [
      " 10%|▉         | 279/2911 [00:42<06:38,  6.60it/s, acc=0.8688, f1=0.9298, precision=0.8715, recall=0.9964]"
     ]
    },
    {
     "name": "stdout",
     "output_type": "stream",
     "text": [
      "motionless mm\n"
     ]
    },
    {
     "name": "stderr",
     "output_type": "stream",
     "text": [
      " 10%|▉         | 285/2911 [00:42<05:55,  7.39it/s, acc=0.8712, f1=0.9311, precision=0.8738, recall=0.9965]"
     ]
    },
    {
     "name": "stdout",
     "output_type": "stream",
     "text": [
      "motionless mm\n"
     ]
    },
    {
     "name": "stderr",
     "output_type": "stream",
     "text": [
      " 10%|▉         | 287/2911 [00:43<06:02,  7.24it/s, acc=0.8720, f1=0.9316, precision=0.8746, recall=0.9965]"
     ]
    },
    {
     "name": "stdout",
     "output_type": "stream",
     "text": [
      "motionless mm\n",
      "motionless mm\n"
     ]
    },
    {
     "name": "stderr",
     "output_type": "stream",
     "text": [
      " 10%|▉         | 289/2911 [00:43<06:31,  6.69it/s, acc=0.8727, f1=0.9320, precision=0.8754, recall=0.9965]"
     ]
    },
    {
     "name": "stdout",
     "output_type": "stream",
     "text": [
      "motionless mm\n",
      "motionless mm\n"
     ]
    },
    {
     "name": "stderr",
     "output_type": "stream",
     "text": [
      " 10%|▉         | 291/2911 [00:43<06:42,  6.50it/s, acc=0.8735, f1=0.9325, precision=0.8761, recall=0.9966]"
     ]
    },
    {
     "name": "stdout",
     "output_type": "stream",
     "text": [
      "motionless mm\n"
     ]
    },
    {
     "name": "stderr",
     "output_type": "stream",
     "text": [
      " 10%|█         | 293/2911 [00:44<06:50,  6.39it/s, acc=0.8716, f1=0.9314, precision=0.8743, recall=0.9966]"
     ]
    },
    {
     "name": "stdout",
     "output_type": "stream",
     "text": [
      "motionless mm\n"
     ]
    },
    {
     "name": "stderr",
     "output_type": "stream",
     "text": [
      " 10%|█         | 295/2911 [00:44<06:42,  6.49it/s, acc=0.8698, f1=0.9304, precision=0.8724, recall=0.9966]"
     ]
    },
    {
     "name": "stdout",
     "output_type": "stream",
     "text": [
      "motionless mm\n"
     ]
    },
    {
     "name": "stderr",
     "output_type": "stream",
     "text": [
      " 10%|█         | 301/2911 [00:45<06:31,  6.66it/s, acc=0.8721, f1=0.9317, precision=0.8746, recall=0.9967]"
     ]
    },
    {
     "name": "stdout",
     "output_type": "stream",
     "text": [
      "motionless mm\n",
      "motionless mm\n"
     ]
    },
    {
     "name": "stderr",
     "output_type": "stream",
     "text": [
      " 10%|█         | 303/2911 [00:45<06:30,  6.67it/s, acc=0.8728, f1=0.9321, precision=0.8754, recall=0.9967]"
     ]
    },
    {
     "name": "stdout",
     "output_type": "stream",
     "text": [
      "motionless mm\n",
      "motionless mm\n"
     ]
    },
    {
     "name": "stderr",
     "output_type": "stream",
     "text": [
      " 10%|█         | 305/2911 [00:46<06:38,  6.55it/s, acc=0.8736, f1=0.9325, precision=0.8761, recall=0.9967]"
     ]
    },
    {
     "name": "stdout",
     "output_type": "stream",
     "text": [
      "motionless mm\n",
      "motionless mm\n"
     ]
    },
    {
     "name": "stderr",
     "output_type": "stream",
     "text": [
      " 11%|█         | 307/2911 [00:46<06:40,  6.50it/s, acc=0.8743, f1=0.9329, precision=0.8768, recall=0.9967]"
     ]
    },
    {
     "name": "stdout",
     "output_type": "stream",
     "text": [
      "motionless mm\n"
     ]
    },
    {
     "name": "stderr",
     "output_type": "stream",
     "text": [
      " 11%|█         | 308/2911 [00:46<07:03,  6.14it/s, acc=0.8746, f1=0.9331, precision=0.8771, recall=0.9968]"
     ]
    },
    {
     "name": "stdout",
     "output_type": "stream",
     "text": [
      "motionless mm\n"
     ]
    },
    {
     "name": "stderr",
     "output_type": "stream",
     "text": [
      " 11%|█         | 310/2911 [00:46<07:35,  5.71it/s, acc=0.8754, f1=0.9335, precision=0.8778, recall=0.9968]"
     ]
    },
    {
     "name": "stdout",
     "output_type": "stream",
     "text": [
      "motionless mm\n"
     ]
    },
    {
     "name": "stderr",
     "output_type": "stream",
     "text": [
      " 11%|█         | 313/2911 [00:47<06:46,  6.39it/s, acc=0.8764, f1=0.9341, precision=0.8789, recall=0.9968]"
     ]
    },
    {
     "name": "stdout",
     "output_type": "stream",
     "text": [
      "motionless mm\n"
     ]
    },
    {
     "name": "stderr",
     "output_type": "stream",
     "text": [
      " 11%|█         | 315/2911 [00:47<06:52,  6.29it/s, acc=0.8771, f1=0.9345, precision=0.8796, recall=0.9968]"
     ]
    },
    {
     "name": "stdout",
     "output_type": "stream",
     "text": [
      "motionless mm\n",
      "motionless mm\n"
     ]
    },
    {
     "name": "stderr",
     "output_type": "stream",
     "text": [
      " 11%|█         | 316/2911 [00:47<06:44,  6.42it/s, acc=0.8774, f1=0.9347, precision=0.8799, recall=0.9968]"
     ]
    },
    {
     "name": "stdout",
     "output_type": "stream",
     "text": [
      "motionless mm\n",
      "motionless mm\n"
     ]
    },
    {
     "name": "stderr",
     "output_type": "stream",
     "text": [
      " 11%|█         | 319/2911 [00:48<07:00,  6.16it/s, acc=0.8785, f1=0.9353, precision=0.8809, recall=0.9969]"
     ]
    },
    {
     "name": "stdout",
     "output_type": "stream",
     "text": [
      "motionless mm\n",
      "motionless mm\n"
     ]
    },
    {
     "name": "stderr",
     "output_type": "stream",
     "text": [
      " 11%|█         | 321/2911 [00:48<06:43,  6.42it/s, acc=0.8791, f1=0.9357, precision=0.8815, recall=0.9969]"
     ]
    },
    {
     "name": "stdout",
     "output_type": "stream",
     "text": [
      "motionless mm\n",
      "motionless mm\n"
     ]
    },
    {
     "name": "stderr",
     "output_type": "stream",
     "text": [
      " 11%|█         | 323/2911 [00:48<06:45,  6.38it/s, acc=0.8798, f1=0.9360, precision=0.8822, recall=0.9969]"
     ]
    },
    {
     "name": "stdout",
     "output_type": "stream",
     "text": [
      "motionless mm\n",
      "motionless mm\n"
     ]
    },
    {
     "name": "stderr",
     "output_type": "stream",
     "text": [
      " 11%|█         | 325/2911 [00:49<06:22,  6.75it/s, acc=0.8804, f1=0.9364, precision=0.8828, recall=0.9969]"
     ]
    },
    {
     "name": "stdout",
     "output_type": "stream",
     "text": [
      "motionless mm\n",
      "motionless mm\n"
     ]
    },
    {
     "name": "stderr",
     "output_type": "stream",
     "text": [
      " 11%|█         | 327/2911 [00:49<06:36,  6.51it/s, acc=0.8811, f1=0.9368, precision=0.8835, recall=0.9969]"
     ]
    },
    {
     "name": "stdout",
     "output_type": "stream",
     "text": [
      "motionless mm\n"
     ]
    },
    {
     "name": "stderr",
     "output_type": "stream",
     "text": [
      " 11%|█▏        | 329/2911 [00:49<06:46,  6.36it/s, acc=0.8817, f1=0.9371, precision=0.8841, recall=0.9970]"
     ]
    },
    {
     "name": "stdout",
     "output_type": "stream",
     "text": [
      "motionless mm\n",
      "motionless mm\n"
     ]
    },
    {
     "name": "stderr",
     "output_type": "stream",
     "text": [
      " 11%|█▏        | 331/2911 [00:50<06:44,  6.38it/s, acc=0.8824, f1=0.9375, precision=0.8847, recall=0.9970]"
     ]
    },
    {
     "name": "stdout",
     "output_type": "stream",
     "text": [
      "motionless mm\n",
      "motionless mm\n"
     ]
    },
    {
     "name": "stderr",
     "output_type": "stream",
     "text": [
      " 11%|█▏        | 333/2911 [00:50<06:39,  6.45it/s, acc=0.8830, f1=0.9379, precision=0.8853, recall=0.9970]"
     ]
    },
    {
     "name": "stdout",
     "output_type": "stream",
     "text": [
      "motionless mm\n",
      "motionless mm\n"
     ]
    },
    {
     "name": "stderr",
     "output_type": "stream",
     "text": [
      " 12%|█▏        | 335/2911 [00:50<06:44,  6.36it/s, acc=0.8836, f1=0.9382, precision=0.8859, recall=0.9970]"
     ]
    },
    {
     "name": "stdout",
     "output_type": "stream",
     "text": [
      "motionless mm\n"
     ]
    },
    {
     "name": "stderr",
     "output_type": "stream",
     "text": [
      " 12%|█▏        | 337/2911 [00:51<06:44,  6.36it/s, acc=0.8842, f1=0.9385, precision=0.8865, recall=0.9970]"
     ]
    },
    {
     "name": "stdout",
     "output_type": "stream",
     "text": [
      "motionless mm\n",
      "motionless mm\n"
     ]
    },
    {
     "name": "stderr",
     "output_type": "stream",
     "text": [
      " 12%|█▏        | 339/2911 [00:51<06:43,  6.37it/s, acc=0.8825, f1=0.9376, precision=0.8848, recall=0.9971]"
     ]
    },
    {
     "name": "stdout",
     "output_type": "stream",
     "text": [
      "motionless mm\n"
     ]
    },
    {
     "name": "stderr",
     "output_type": "stream",
     "text": [
      " 12%|█▏        | 341/2911 [00:51<06:37,  6.47it/s, acc=0.8831, f1=0.9379, precision=0.8854, recall=0.9971]"
     ]
    },
    {
     "name": "stdout",
     "output_type": "stream",
     "text": [
      "motionless mm\n"
     ]
    },
    {
     "name": "stderr",
     "output_type": "stream",
     "text": [
      " 12%|█▏        | 343/2911 [00:52<06:35,  6.50it/s, acc=0.8837, f1=0.9383, precision=0.8860, recall=0.9971]"
     ]
    },
    {
     "name": "stdout",
     "output_type": "stream",
     "text": [
      "motionless mm\n"
     ]
    },
    {
     "name": "stderr",
     "output_type": "stream",
     "text": [
      " 12%|█▏        | 345/2911 [00:52<06:31,  6.56it/s, acc=0.8843, f1=0.9386, precision=0.8866, recall=0.9971]"
     ]
    },
    {
     "name": "stdout",
     "output_type": "stream",
     "text": [
      "motionless mm\n"
     ]
    },
    {
     "name": "stderr",
     "output_type": "stream",
     "text": [
      " 12%|█▏        | 347/2911 [00:52<06:30,  6.57it/s, acc=0.8849, f1=0.9389, precision=0.8872, recall=0.9971]"
     ]
    },
    {
     "name": "stdout",
     "output_type": "stream",
     "text": [
      "motionless mm\n",
      "motionless mm\n"
     ]
    },
    {
     "name": "stderr",
     "output_type": "stream",
     "text": [
      " 12%|█▏        | 349/2911 [00:52<06:42,  6.37it/s, acc=0.8855, f1=0.9393, precision=0.8878, recall=0.9971]"
     ]
    },
    {
     "name": "stdout",
     "output_type": "stream",
     "text": [
      "motionless mm\n",
      "motionless mm\n"
     ]
    },
    {
     "name": "stderr",
     "output_type": "stream",
     "text": [
      " 12%|█▏        | 351/2911 [00:53<06:33,  6.50it/s, acc=0.8861, f1=0.9396, precision=0.8883, recall=0.9972]"
     ]
    },
    {
     "name": "stdout",
     "output_type": "stream",
     "text": [
      "motionless mm\n",
      "motionless mm\n"
     ]
    },
    {
     "name": "stderr",
     "output_type": "stream",
     "text": [
      " 12%|█▏        | 353/2911 [00:53<06:40,  6.39it/s, acc=0.8866, f1=0.9399, precision=0.8889, recall=0.9972]"
     ]
    },
    {
     "name": "stdout",
     "output_type": "stream",
     "text": [
      "motionless mm\n",
      "motionless mmb\n"
     ]
    },
    {
     "name": "stderr",
     "output_type": "stream",
     "text": [
      " 12%|█▏        | 355/2911 [00:53<06:32,  6.51it/s, acc=0.8872, f1=0.9402, precision=0.8894, recall=0.9972]"
     ]
    },
    {
     "name": "stdout",
     "output_type": "stream",
     "text": [
      "motionless mm\n",
      "motionless mmb\n"
     ]
    },
    {
     "name": "stderr",
     "output_type": "stream",
     "text": [
      " 12%|█▏        | 357/2911 [00:54<06:50,  6.22it/s, acc=0.8878, f1=0.9406, precision=0.8900, recall=0.9972]"
     ]
    },
    {
     "name": "stdout",
     "output_type": "stream",
     "text": [
      "motionless mm\n",
      "motionless mm\n"
     ]
    },
    {
     "name": "stderr",
     "output_type": "stream",
     "text": [
      " 12%|█▏        | 359/2911 [00:54<06:27,  6.58it/s, acc=0.8883, f1=0.9409, precision=0.8905, recall=0.9972]"
     ]
    },
    {
     "name": "stdout",
     "output_type": "stream",
     "text": [
      "motionless mm\n",
      "motionless mm\n"
     ]
    },
    {
     "name": "stderr",
     "output_type": "stream",
     "text": [
      " 12%|█▏        | 361/2911 [00:54<06:40,  6.37it/s, acc=0.8889, f1=0.9412, precision=0.8911, recall=0.9972]"
     ]
    },
    {
     "name": "stdout",
     "output_type": "stream",
     "text": [
      "motionless mm\n",
      "motionless mm\n"
     ]
    },
    {
     "name": "stderr",
     "output_type": "stream",
     "text": [
      " 12%|█▏        | 363/2911 [00:55<06:16,  6.76it/s, acc=0.8894, f1=0.9415, precision=0.8916, recall=0.9972]"
     ]
    },
    {
     "name": "stdout",
     "output_type": "stream",
     "text": [
      "motionless mm\n",
      "motionless mm\n"
     ]
    },
    {
     "name": "stderr",
     "output_type": "stream",
     "text": [
      " 13%|█▎        | 365/2911 [00:55<06:29,  6.53it/s, acc=0.8900, f1=0.9418, precision=0.8922, recall=0.9973]"
     ]
    },
    {
     "name": "stdout",
     "output_type": "stream",
     "text": [
      "motionless mm\n",
      "motionless mm\n"
     ]
    },
    {
     "name": "stderr",
     "output_type": "stream",
     "text": [
      " 13%|█▎        | 366/2911 [00:55<06:36,  6.42it/s, acc=0.8902, f1=0.9419, precision=0.8924, recall=0.9973]"
     ]
    },
    {
     "name": "stdout",
     "output_type": "stream",
     "text": [
      "motionless mm\n"
     ]
    },
    {
     "name": "stderr",
     "output_type": "stream",
     "text": [
      " 13%|█▎        | 368/2911 [00:55<07:09,  5.92it/s, acc=0.8908, f1=0.9422, precision=0.8929, recall=0.9973]"
     ]
    },
    {
     "name": "stdout",
     "output_type": "stream",
     "text": [
      "motionless mm\n",
      "motionless mm\n"
     ]
    },
    {
     "name": "stderr",
     "output_type": "stream",
     "text": [
      " 13%|█▎        | 370/2911 [00:56<06:34,  6.44it/s, acc=0.8913, f1=0.9425, precision=0.8935, recall=0.9973]"
     ]
    },
    {
     "name": "stdout",
     "output_type": "stream",
     "text": [
      "motionless mm\n",
      "motionless mm\n"
     ]
    },
    {
     "name": "stderr",
     "output_type": "stream",
     "text": [
      " 13%|█▎        | 372/2911 [00:56<06:21,  6.66it/s, acc=0.8918, f1=0.9428, precision=0.8940, recall=0.9973]"
     ]
    },
    {
     "name": "stdout",
     "output_type": "stream",
     "text": [
      "motionless mm\n"
     ]
    },
    {
     "name": "stderr",
     "output_type": "stream",
     "text": [
      " 24%|██▍       | 706/2911 [01:40<04:54,  7.50it/s, acc=0.9287, f1=0.9630, precision=0.9324, recall=0.9958]"
     ]
    },
    {
     "name": "stdout",
     "output_type": "stream",
     "text": [
      "\n",
      "preds:[{'label': 0.0, 'box': [0.47187501192092896, 0.49531251192092896, 0.550000011920929, 0.581250011920929], 'conf': 0.88623047, 'mm': 0.05234367, 'mmb': 0.059342127}])\n",
      "trust:[{'label': 0, 'box': [0.51328125, 0.525, 0.54921875, 0.5750000000000001], 'conf': 1.0}]\n",
      "\n",
      "preds:[{'label': 0.0, 'box': [0.46875, 0.4906249940395355, 0.5484374761581421, 0.581250011920929], 'conf': 0.88623047, 'mm': 0.045464497, 'mmb': 0.044329677}])\n",
      "trust:[{'label': 0, 'box': [0.5132812499999999, 0.5194444444444445, 0.55078125, 0.5847222222222223], 'conf': 1.0}]\n"
     ]
    },
    {
     "name": "stderr",
     "output_type": "stream",
     "text": [
      " 24%|██▍       | 709/2911 [01:40<04:46,  7.69it/s, acc=0.9264, f1=0.9618, precision=0.9313, recall=0.9944]"
     ]
    },
    {
     "name": "stdout",
     "output_type": "stream",
     "text": [
      "\n",
      "preds:[{'label': 0.0, 'box': [0.4625000059604645, 0.48906248807907104, 0.5484374761581421, 0.581250011920929], 'conf': 0.8930664, 'mm': 0.03806544, 'mmb': 0.0403038}])\n",
      "trust:[{'label': 0, 'box': [0.5109374999999999, 0.5194444444444445, 0.54921875, 0.5791666666666667], 'conf': 1.0}]\n"
     ]
    },
    {
     "name": "stderr",
     "output_type": "stream",
     "text": [
      " 24%|██▍       | 711/2911 [01:40<04:44,  7.74it/s, acc=0.9216, f1=0.9592, precision=0.9289, recall=0.9916]"
     ]
    },
    {
     "name": "stdout",
     "output_type": "stream",
     "text": [
      "\n",
      "preds:[{'label': 0.0, 'box': [0.4593749940395355, 0.4859375059604645, 0.5484374761581421, 0.5796874761581421], 'conf': 0.8876953, 'mm': 0.036774665, 'mmb': 0.037091844}])\n",
      "trust:[{'label': 0, 'box': [0.51171875, 0.5263888888888889, 0.55, 0.5777777777777778], 'conf': 1.0}]\n",
      "\n",
      "preds:[{'label': 0.0, 'box': [0.4593749940395355, 0.4859375059604645, 0.5484374761581421, 0.5796874761581421], 'conf': 0.89160156, 'mm': 0.037433896, 'mmb': 0.043930974}])\n",
      "trust:[{'label': 0, 'box': [0.5101562500000001, 0.5277777777777778, 0.55078125, 0.5791666666666667], 'conf': 1.0}]\n"
     ]
    },
    {
     "name": "stderr",
     "output_type": "stream",
     "text": [
      " 24%|██▍       | 713/2911 [01:41<04:47,  7.66it/s, acc=0.9168, f1=0.9566, precision=0.9264, recall=0.9888]"
     ]
    },
    {
     "name": "stdout",
     "output_type": "stream",
     "text": [
      "\n",
      "preds:[{'label': 0.0, 'box': [0.45625001192092896, 0.484375, 0.5484374761581421, 0.5796874761581421], 'conf': 0.8833008, 'mm': 0.035872962, 'mmb': 0.045986027}])\n",
      "trust:[{'label': 0, 'box': [0.5078125, 0.5222222222222223, 0.55078125, 0.576388888888889], 'conf': 1.0}]\n",
      "\n",
      "preds:[{'label': 0.0, 'box': [0.45625001192092896, 0.4828124940395355, 0.5484374761581421, 0.5796874761581421], 'conf': 0.8754883, 'mm': 0.034934968, 'mmb': 0.041729372}])\n",
      "trust:[{'label': 0, 'box': [0.509375, 0.5291666666666667, 0.5499999999999999, 0.5805555555555556], 'conf': 1.0}]\n"
     ]
    },
    {
     "name": "stderr",
     "output_type": "stream",
     "text": [
      " 25%|██▍       | 715/2911 [01:41<04:36,  7.95it/s, acc=0.9120, f1=0.9540, precision=0.9240, recall=0.9860]"
     ]
    },
    {
     "name": "stdout",
     "output_type": "stream",
     "text": [
      "\n",
      "preds:[{'label': 0.0, 'box': [0.4546875059604645, 0.48124998807907104, 0.550000011920929, 0.5796874761581421], 'conf': 0.8828125, 'mm': 0.03235626, 'mmb': 0.05159878}])\n",
      "trust:[{'label': 0, 'box': [0.49609375000000006, 0.5277777777777778, 0.5492187500000001, 0.5819444444444445], 'conf': 1.0}]\n",
      "\n",
      "preds:[{'label': 0.0, 'box': [0.4515624940395355, 0.47968751192092896, 0.5484374761581421, 0.581250011920929], 'conf': 0.87158203, 'mm': 0.031151008, 'mmb': 0.036300622}])\n",
      "trust:[{'label': 0, 'box': [0.51328125, 0.5305555555555556, 0.5499999999999999, 0.5819444444444445], 'conf': 1.0}]\n"
     ]
    },
    {
     "name": "stderr",
     "output_type": "stream",
     "text": [
      " 25%|██▍       | 717/2911 [01:41<04:44,  7.72it/s, acc=0.9073, f1=0.9514, precision=0.9216, recall=0.9833]"
     ]
    },
    {
     "name": "stdout",
     "output_type": "stream",
     "text": [
      "\n",
      "preds:[{'label': 0.0, 'box': [0.44999998807907104, 0.4781250059604645, 0.550000011920929, 0.581250011920929], 'conf': 0.8486328, 'mm': 0.029046422, 'mmb': 0.033552416}])\n",
      "trust:[{'label': 0, 'box': [0.51015625, 0.5402777777777777, 0.5499999999999999, 0.576388888888889], 'conf': 1.0}]\n",
      "\n",
      "preds:[{'label': 0.0, 'box': [0.44843751192092896, 0.4781250059604645, 0.550000011920929, 0.5796874761581421], 'conf': 0.8203125, 'mm': 0.030311085, 'mmb': 0.042730328}])\n",
      "trust:[{'label': 0, 'box': [0.49609375, 0.5305555555555556, 0.55078125, 0.5819444444444445], 'conf': 1.0}]\n"
     ]
    },
    {
     "name": "stderr",
     "output_type": "stream",
     "text": [
      " 25%|██▍       | 719/2911 [01:41<04:46,  7.64it/s, acc=0.9027, f1=0.9489, precision=0.9192, recall=0.9805]"
     ]
    },
    {
     "name": "stdout",
     "output_type": "stream",
     "text": [
      "\n",
      "preds:[{'label': 0.0, 'box': [0.4437499940395355, 0.4765625, 0.550000011920929, 0.5843750238418579], 'conf': 0.8027344, 'mm': 0.026089428, 'mmb': 0.03130336}])\n",
      "trust:[{'label': 0, 'box': [0.4984375, 0.5291666666666667, 0.5499999999999999, 0.5791666666666667], 'conf': 1.0}]\n",
      "\n",
      "preds:[{'label': 0.0, 'box': [0.4437499940395355, 0.4749999940395355, 0.550000011920929, 0.5843750238418579], 'conf': 0.81103516, 'mm': 0.024888098, 'mmb': 0.030846098}])\n",
      "trust:[{'label': 0, 'box': [0.49453125000000003, 0.5222222222222223, 0.55078125, 0.5805555555555556], 'conf': 1.0}]\n"
     ]
    },
    {
     "name": "stderr",
     "output_type": "stream",
     "text": [
      " 28%|██▊       | 820/2911 [01:57<05:21,  6.50it/s, acc=0.8240, f1=0.9035, precision=0.8368, recall=0.9817]"
     ]
    },
    {
     "name": "stdout",
     "output_type": "stream",
     "text": [
      "\n",
      "preds:[{'label': 0.0, 'box': [0.3609375059604645, 0.14687499403953552, 0.39375001192092896, 0.22187499701976776], 'conf': 0.72802734, 'mm': 0.18311287, 'mmb': 0.1353434}])\n",
      "trust:[{'label': 0, 'box': [0.31328125, 0.12638888888888888, 0.39921875, 0.2222222222222222], 'conf': 1.0}]\n"
     ]
    },
    {
     "name": "stderr",
     "output_type": "stream",
     "text": [
      " 32%|███▏      | 937/2911 [02:14<04:05,  8.03it/s, acc=0.8129, f1=0.8968, precision=0.8245, recall=0.9829]"
     ]
    },
    {
     "name": "stdout",
     "output_type": "stream",
     "text": [
      "\n",
      "preds:[{'label': 0.0, 'box': [0.33906251192092896, 0.08906249701976776, 0.40312498807907104, 0.22187499701976776], 'conf': 0.8413086, 'mm': 0.039039984, 'mmb': 0.035504036}])\n",
      "trust:[{'label': 0, 'box': [0.35859375, 0.16805555555555557, 0.40546875, 0.2236111111111111], 'conf': 1.0}]\n"
     ]
    },
    {
     "name": "stderr",
     "output_type": "stream",
     "text": [
      " 33%|███▎      | 947/2911 [02:16<04:51,  6.74it/s, acc=0.8103, f1=0.8952, precision=0.8217, recall=0.9831]"
     ]
    },
    {
     "name": "stdout",
     "output_type": "stream",
     "text": [
      "motionless mm\n"
     ]
    },
    {
     "name": "stderr",
     "output_type": "stream",
     "text": [
      " 35%|███▌      | 1030/2911 [02:27<04:29,  6.98it/s, acc=0.8191, f1=0.9005, precision=0.8298, recall=0.9845]"
     ]
    }
   ],
   "source": [
    "conf_threshold = 0.15\n",
    "iou_threshold = 0.3\n",
    "import time\n",
    "# predicted_boxes\n",
    "loop = tqdm(test_loader, total=len(test_loader), position=0, leave=True)\n",
    "total_tp = total_tn = total_fp = total_fn = 0\n",
    "epsilon = 0.0000001\n",
    "min_mm = 1\n",
    "latency=[]\n",
    "for x, y in test_loader:\n",
    "    \n",
    "    x = np.array([i.numpy().squeeze(0) for i in x])\n",
    "    if(len(y)!=0):\n",
    "        y = dict_of_label(y)\n",
    "    else:\n",
    "        continue\n",
    "    time,preds = detector.detect(x,conf_threshold)\n",
    "    latency.append(time)\n",
    "    gt_boxes = list(map(lambda yy: yy['box'],y))\n",
    "    pred_boxes = list(map(lambda yy: yy['box'],preds))\n",
    "    tp, tn, fp, fn = calculate_detection_accuracy(pred_boxes, gt_boxes,iou_threshold)\n",
    "    if fn !=0:\n",
    "        print(f'\\npreds:{preds})\\ntrust:{y}')\n",
    "    total_tp+=tp\n",
    "    total_tn+=tn\n",
    "    total_fp+=fp\n",
    "    total_fn+=fn\n",
    "    # print(images[0],preds,y)\n",
    "    # time.sleep(1)\n",
    "    precision = total_tp/(total_tp+total_fp+epsilon)\n",
    "    recall = total_tp/(total_tp+total_fn+epsilon)\n",
    "    f1 = 2*precision*recall/(precision+recall+epsilon)\n",
    "    acc = (total_tp+total_tn)/(total_tp+total_tn+total_fn+total_fp)\n",
    "    loop.set_postfix(precision=f'{precision:.4f}', recall=f'{recall:.4f}', f1=f'{f1:.4f}', acc=f'{acc:.4f}')\n",
    "    loop.update(1)"
   ]
  },
  {
   "cell_type": "code",
   "execution_count": 9,
   "id": "364712e6",
   "metadata": {},
   "outputs": [
    {
     "data": {
      "text/plain": [
       "0.014040004628375896"
      ]
     },
     "execution_count": 9,
     "metadata": {},
     "output_type": "execute_result"
    }
   ],
   "source": [
    "np.mean(latency)"
   ]
  },
  {
   "cell_type": "markdown",
   "id": "3fddec0c",
   "metadata": {},
   "source": [
    "### Measure Object detector model latency "
   ]
  },
  {
   "cell_type": "code",
   "execution_count": 10,
   "id": "d23dc9b6",
   "metadata": {},
   "outputs": [],
   "source": [
    "import time\n",
    "def timeit(fn): \n",
    "    # *args and **kwargs are to support positional and named arguments of fn\n",
    "    def get_time(*args, **kwargs): \n",
    "        start = time.time() \n",
    "        output = fn(*args, **kwargs)\n",
    "        print(f\"Time taken in {fn.__name__}: {time.time() - start:.7f}\")\n",
    "        return output  # make sure that the decorator returns the output of fn\n",
    "    return get_time \n"
   ]
  },
  {
   "cell_type": "code",
   "execution_count": 11,
   "id": "47d2944a",
   "metadata": {},
   "outputs": [],
   "source": [
    "detect_raw = detector.detector\n",
    "# input = np.random.randint(0, 256, size=(1,3,640,640),dtype='int8')\n",
    "input = np.random.randint(low=0, high=256, size=(1, 3, 640, 640), dtype=np.uint8)"
   ]
  },
  {
   "cell_type": "code",
   "execution_count": 12,
   "id": "65c1c8f0",
   "metadata": {},
   "outputs": [],
   "source": [
    "@timeit\n",
    "def measure_object_detector_latency(input):\n",
    "    for i in range(1000):\n",
    "        detect_raw.detect_raw(input)"
   ]
  },
  {
   "cell_type": "code",
   "execution_count": 13,
   "id": "0ec61044",
   "metadata": {},
   "outputs": [
    {
     "name": "stdout",
     "output_type": "stream",
     "text": [
      "Time taken in measure_object_detector_latency: 12.0210667\n"
     ]
    }
   ],
   "source": [
    "# warm up\n",
    "for i in range(500):\n",
    "    detect_raw.detect_raw(input)\n",
    "measure_object_detector_latency(input)\n",
    "  \n"
   ]
  },
  {
   "cell_type": "markdown",
   "id": "f455f049",
   "metadata": {},
   "source": [
    "### Measure Motion cost"
   ]
  },
  {
   "cell_type": "code",
   "execution_count": 14,
   "id": "3d550f92-e837-4c6c-9517-2f4d2c07c015",
   "metadata": {},
   "outputs": [
    {
     "ename": "ModuleNotFoundError",
     "evalue": "No module named 'model'",
     "output_type": "error",
     "traceback": [
      "\u001b[0;31m---------------------------------------------------------------------------\u001b[0m",
      "\u001b[0;31mModuleNotFoundError\u001b[0m                       Traceback (most recent call last)",
      "Cell \u001b[0;32mIn[14], line 1\u001b[0m\n\u001b[0;32m----> 1\u001b[0m \u001b[38;5;28;01mfrom\u001b[39;00m \u001b[38;5;21;01mmodel\u001b[39;00m\u001b[38;5;21;01m.\u001b[39;00m\u001b[38;5;21;01mOurModel\u001b[39;00m\u001b[38;5;21;01m.\u001b[39;00m\u001b[38;5;21;01mobject_detection\u001b[39;00m \u001b[38;5;28;01mimport\u001b[39;00m motion_measure\n\u001b[1;32m      2\u001b[0m \u001b[38;5;28;01mimport\u001b[39;00m \u001b[38;5;21;01mnumpy\u001b[39;00m \u001b[38;5;28;01mas\u001b[39;00m \u001b[38;5;21;01mnp\u001b[39;00m\n\u001b[1;32m      3\u001b[0m \u001b[38;5;28;01mimport\u001b[39;00m \u001b[38;5;21;01mcv2\u001b[39;00m\n",
      "\u001b[0;31mModuleNotFoundError\u001b[0m: No module named 'model'"
     ]
    }
   ],
   "source": [
    "from model.OurModel.object_detection import motion_measure\n",
    "import numpy as np\n",
    "import cv2\n",
    "import time"
   ]
  },
  {
   "cell_type": "code",
   "execution_count": null,
   "id": "85f8f1c7",
   "metadata": {},
   "outputs": [],
   "source": [
    "@timeit\n",
    "def motion_measure_latency(input):\n",
    "    for i in range(1000):\n",
    "        motion_measure(input)\n",
    "    "
   ]
  },
  {
   "cell_type": "code",
   "execution_count": null,
   "id": "d06dcb03",
   "metadata": {},
   "outputs": [],
   "source": [
    "# # Generate random RGB image data\n",
    "# image_list = [np.random.randint(0, 256, (75, 75, 3), dtype=np.uint8) for i in range(2)]\n",
    "# for i in range(1000):\n",
    "#     motion_measure_latency(image_list)"
   ]
  },
  {
   "cell_type": "code",
   "execution_count": null,
   "id": "6f1c6432",
   "metadata": {},
   "outputs": [
    {
     "name": "stdout",
     "output_type": "stream",
     "text": [
      "Time taken in motion_measure_latency: 0.0366106\n",
      "Time taken in motion_measure_latency: 0.0251179\n",
      "Time taken in motion_measure_latency: 0.0261419\n",
      "Time taken in motion_measure_latency: 0.0257306\n",
      "Time taken in motion_measure_latency: 0.0266714\n",
      "Time taken in motion_measure_latency: 0.0249796\n",
      "Time taken in motion_measure_latency: 0.0249269\n",
      "Time taken in motion_measure_latency: 0.0270162\n",
      "Time taken in motion_measure_latency: 0.0251889\n",
      "Time taken in motion_measure_latency: 0.0249763\n",
      "Time taken in motion_measure_latency: 0.0248358\n",
      "Time taken in motion_measure_latency: 0.0263648\n",
      "Time taken in motion_measure_latency: 0.0250151\n",
      "Time taken in motion_measure_latency: 0.0249858\n",
      "Time taken in motion_measure_latency: 0.0248122\n",
      "Time taken in motion_measure_latency: 0.0263348\n",
      "Time taken in motion_measure_latency: 0.0249798\n",
      "Time taken in motion_measure_latency: 0.0248449\n",
      "Time taken in motion_measure_latency: 0.0246298\n",
      "Time taken in motion_measure_latency: 0.0269072\n",
      "Time taken in motion_measure_latency: 0.0254791\n",
      "Time taken in motion_measure_latency: 0.0250397\n",
      "Time taken in motion_measure_latency: 0.0248950\n",
      "Time taken in motion_measure_latency: 0.0265100\n",
      "Time taken in motion_measure_latency: 0.0250611\n",
      "Time taken in motion_measure_latency: 0.0248826\n",
      "Time taken in motion_measure_latency: 0.0248253\n",
      "Time taken in motion_measure_latency: 0.0266392\n",
      "Time taken in motion_measure_latency: 0.0250630\n",
      "Time taken in motion_measure_latency: 0.0249474\n",
      "Time taken in motion_measure_latency: 0.0248246\n",
      "Time taken in motion_measure_latency: 0.0263865\n",
      "Time taken in motion_measure_latency: 0.0256574\n",
      "Time taken in motion_measure_latency: 0.0251565\n",
      "Time taken in motion_measure_latency: 0.0248623\n",
      "Time taken in motion_measure_latency: 0.0264988\n",
      "Time taken in motion_measure_latency: 0.0250781\n",
      "Time taken in motion_measure_latency: 0.0248821\n",
      "Time taken in motion_measure_latency: 0.0248187\n",
      "Time taken in motion_measure_latency: 0.0263906\n",
      "Time taken in motion_measure_latency: 0.0250449\n",
      "Time taken in motion_measure_latency: 0.0249667\n",
      "Time taken in motion_measure_latency: 0.0248997\n",
      "Time taken in motion_measure_latency: 0.0263779\n",
      "Time taken in motion_measure_latency: 0.0254617\n",
      "Time taken in motion_measure_latency: 0.0249839\n",
      "Time taken in motion_measure_latency: 0.0248671\n",
      "Time taken in motion_measure_latency: 0.0273774\n",
      "Time taken in motion_measure_latency: 0.0252111\n",
      "Time taken in motion_measure_latency: 0.0251579\n",
      "Time taken in motion_measure_latency: 0.0248828\n",
      "Time taken in motion_measure_latency: 0.0264075\n",
      "Time taken in motion_measure_latency: 0.0251648\n",
      "Time taken in motion_measure_latency: 0.0250142\n",
      "Time taken in motion_measure_latency: 0.0248065\n",
      "Time taken in motion_measure_latency: 0.0264843\n",
      "Time taken in motion_measure_latency: 0.0252125\n",
      "Time taken in motion_measure_latency: 0.0249939\n",
      "Time taken in motion_measure_latency: 0.0248380\n",
      "Time taken in motion_measure_latency: 0.0266168\n",
      "Time taken in motion_measure_latency: 0.0254078\n",
      "Time taken in motion_measure_latency: 0.0250475\n",
      "Time taken in motion_measure_latency: 0.0248773\n",
      "Time taken in motion_measure_latency: 0.0264521\n",
      "Time taken in motion_measure_latency: 0.0251637\n",
      "Time taken in motion_measure_latency: 0.0249493\n",
      "Time taken in motion_measure_latency: 0.0248351\n",
      "Time taken in motion_measure_latency: 0.0267148\n",
      "Time taken in motion_measure_latency: 0.0249925\n",
      "Time taken in motion_measure_latency: 0.0248363\n",
      "Time taken in motion_measure_latency: 0.0248346\n",
      "Time taken in motion_measure_latency: 0.0263712\n",
      "Time taken in motion_measure_latency: 0.0298388\n",
      "Time taken in motion_measure_latency: 0.0250127\n",
      "Time taken in motion_measure_latency: 0.0248275\n",
      "Time taken in motion_measure_latency: 0.0249016\n",
      "Time taken in motion_measure_latency: 0.0251389\n",
      "Time taken in motion_measure_latency: 0.0248106\n",
      "Time taken in motion_measure_latency: 0.0248461\n",
      "Time taken in motion_measure_latency: 0.0248208\n",
      "Time taken in motion_measure_latency: 0.0248096\n",
      "Time taken in motion_measure_latency: 0.0252030\n",
      "Time taken in motion_measure_latency: 0.0248892\n",
      "Time taken in motion_measure_latency: 0.0248144\n",
      "Time taken in motion_measure_latency: 0.0252390\n",
      "Time taken in motion_measure_latency: 0.0251484\n",
      "Time taken in motion_measure_latency: 0.0249672\n",
      "Time taken in motion_measure_latency: 0.0247831\n",
      "Time taken in motion_measure_latency: 0.0247800\n",
      "Time taken in motion_measure_latency: 0.0247846\n",
      "Time taken in motion_measure_latency: 0.0254092\n",
      "Time taken in motion_measure_latency: 0.0257659\n",
      "Time taken in motion_measure_latency: 0.0249093\n",
      "Time taken in motion_measure_latency: 0.0247636\n",
      "Time taken in motion_measure_latency: 0.0256228\n",
      "Time taken in motion_measure_latency: 0.0249352\n",
      "Time taken in motion_measure_latency: 0.0247827\n",
      "Time taken in motion_measure_latency: 0.0253012\n",
      "Time taken in motion_measure_latency: 0.0269275\n",
      "Time taken in motion_measure_latency: 0.0253289\n",
      "Time taken in motion_measure_latency: 0.0247772\n",
      "Time taken in motion_measure_latency: 0.0248117\n",
      "Time taken in motion_measure_latency: 0.0252311\n",
      "Time taken in motion_measure_latency: 0.0249341\n",
      "Time taken in motion_measure_latency: 0.0251818\n",
      "Time taken in motion_measure_latency: 0.0249925\n",
      "Time taken in motion_measure_latency: 0.0248458\n",
      "Time taken in motion_measure_latency: 0.0256944\n",
      "Time taken in motion_measure_latency: 0.0249088\n",
      "Time taken in motion_measure_latency: 0.0249455\n",
      "Time taken in motion_measure_latency: 0.0250714\n",
      "Time taken in motion_measure_latency: 0.0258341\n",
      "Time taken in motion_measure_latency: 0.0249963\n",
      "Time taken in motion_measure_latency: 0.0248618\n",
      "Time taken in motion_measure_latency: 0.0250068\n",
      "Time taken in motion_measure_latency: 0.0248730\n",
      "Time taken in motion_measure_latency: 0.0256910\n",
      "Time taken in motion_measure_latency: 0.0249543\n",
      "Time taken in motion_measure_latency: 0.0247285\n",
      "Time taken in motion_measure_latency: 0.0247009\n",
      "Time taken in motion_measure_latency: 0.0256631\n",
      "Time taken in motion_measure_latency: 0.0249348\n",
      "Time taken in motion_measure_latency: 0.0251789\n",
      "Time taken in motion_measure_latency: 0.0248730\n",
      "Time taken in motion_measure_latency: 0.0247717\n",
      "Time taken in motion_measure_latency: 0.0256493\n",
      "Time taken in motion_measure_latency: 0.0248427\n",
      "Time taken in motion_measure_latency: 0.0247705\n",
      "Time taken in motion_measure_latency: 0.0247793\n",
      "Time taken in motion_measure_latency: 0.0256891\n",
      "Time taken in motion_measure_latency: 0.0249004\n",
      "Time taken in motion_measure_latency: 0.0250554\n",
      "Time taken in motion_measure_latency: 0.0247858\n",
      "Time taken in motion_measure_latency: 0.0247281\n",
      "Time taken in motion_measure_latency: 0.0256522\n",
      "Time taken in motion_measure_latency: 0.0256677\n",
      "Time taken in motion_measure_latency: 0.0248125\n",
      "Time taken in motion_measure_latency: 0.0252213\n",
      "Time taken in motion_measure_latency: 0.0249486\n",
      "Time taken in motion_measure_latency: 0.0250049\n",
      "Time taken in motion_measure_latency: 0.0247717\n",
      "Time taken in motion_measure_latency: 0.0250967\n",
      "Time taken in motion_measure_latency: 0.0268612\n",
      "Time taken in motion_measure_latency: 0.0254080\n",
      "Time taken in motion_measure_latency: 0.0248554\n",
      "Time taken in motion_measure_latency: 0.0258894\n",
      "Time taken in motion_measure_latency: 0.0268157\n",
      "Time taken in motion_measure_latency: 0.0279779\n",
      "Time taken in motion_measure_latency: 0.0269992\n",
      "Time taken in motion_measure_latency: 0.0248890\n",
      "Time taken in motion_measure_latency: 0.0253835\n",
      "Time taken in motion_measure_latency: 0.0252519\n",
      "Time taken in motion_measure_latency: 0.0246358\n",
      "Time taken in motion_measure_latency: 0.0251832\n",
      "Time taken in motion_measure_latency: 0.0252383\n",
      "Time taken in motion_measure_latency: 0.0247519\n",
      "Time taken in motion_measure_latency: 0.0246239\n",
      "Time taken in motion_measure_latency: 0.0247355\n",
      "Time taken in motion_measure_latency: 0.0247896\n",
      "Time taken in motion_measure_latency: 0.0275476\n",
      "Time taken in motion_measure_latency: 0.0250015\n",
      "Time taken in motion_measure_latency: 0.0253072\n",
      "Time taken in motion_measure_latency: 0.0252461\n",
      "Time taken in motion_measure_latency: 0.0248349\n",
      "Time taken in motion_measure_latency: 0.0247741\n",
      "Time taken in motion_measure_latency: 0.0248120\n",
      "Time taken in motion_measure_latency: 0.0247786\n",
      "Time taken in motion_measure_latency: 0.0248294\n",
      "Time taken in motion_measure_latency: 0.0254154\n",
      "Time taken in motion_measure_latency: 0.0256522\n",
      "Time taken in motion_measure_latency: 0.0255158\n",
      "Time taken in motion_measure_latency: 0.0253026\n",
      "Time taken in motion_measure_latency: 0.0251744\n",
      "Time taken in motion_measure_latency: 0.0247540\n",
      "Time taken in motion_measure_latency: 0.0249441\n",
      "Time taken in motion_measure_latency: 0.0248384\n",
      "Time taken in motion_measure_latency: 0.0253229\n",
      "Time taken in motion_measure_latency: 0.0252497\n",
      "Time taken in motion_measure_latency: 0.0248740\n",
      "Time taken in motion_measure_latency: 0.0253239\n",
      "Time taken in motion_measure_latency: 0.0251679\n",
      "Time taken in motion_measure_latency: 0.0248792\n",
      "Time taken in motion_measure_latency: 0.0250928\n",
      "Time taken in motion_measure_latency: 0.0247321\n",
      "Time taken in motion_measure_latency: 0.0250094\n",
      "Time taken in motion_measure_latency: 0.0258949\n",
      "Time taken in motion_measure_latency: 0.0249915\n",
      "Time taken in motion_measure_latency: 0.0247710\n",
      "Time taken in motion_measure_latency: 0.0256081\n",
      "Time taken in motion_measure_latency: 0.0247691\n",
      "Time taken in motion_measure_latency: 0.0247645\n",
      "Time taken in motion_measure_latency: 0.0247750\n",
      "Time taken in motion_measure_latency: 0.0248008\n",
      "Time taken in motion_measure_latency: 0.0248075\n",
      "Time taken in motion_measure_latency: 0.0259929\n",
      "Time taken in motion_measure_latency: 0.0252304\n",
      "Time taken in motion_measure_latency: 0.0247483\n",
      "Time taken in motion_measure_latency: 0.0257742\n",
      "Time taken in motion_measure_latency: 0.0252345\n",
      "Time taken in motion_measure_latency: 0.0249643\n",
      "Time taken in motion_measure_latency: 0.0249274\n",
      "Time taken in motion_measure_latency: 0.0249734\n",
      "Time taken in motion_measure_latency: 0.0249741\n",
      "Time taken in motion_measure_latency: 0.0253313\n",
      "Time taken in motion_measure_latency: 0.0251441\n",
      "Time taken in motion_measure_latency: 0.0248103\n",
      "Time taken in motion_measure_latency: 0.0253227\n",
      "Time taken in motion_measure_latency: 0.0250158\n",
      "Time taken in motion_measure_latency: 0.0250039\n",
      "Time taken in motion_measure_latency: 0.0250845\n",
      "Time taken in motion_measure_latency: 0.0253584\n",
      "Time taken in motion_measure_latency: 0.0249746\n",
      "Time taken in motion_measure_latency: 0.0252900\n",
      "Time taken in motion_measure_latency: 0.0250018\n",
      "Time taken in motion_measure_latency: 0.0248501\n",
      "Time taken in motion_measure_latency: 0.0255852\n",
      "Time taken in motion_measure_latency: 0.0248990\n",
      "Time taken in motion_measure_latency: 0.0246773\n",
      "Time taken in motion_measure_latency: 0.0247192\n",
      "Time taken in motion_measure_latency: 0.0247092\n",
      "Time taken in motion_measure_latency: 0.0254254\n",
      "Time taken in motion_measure_latency: 0.0251458\n",
      "Time taken in motion_measure_latency: 0.0253797\n",
      "Time taken in motion_measure_latency: 0.0250163\n",
      "Time taken in motion_measure_latency: 0.0256367\n",
      "Time taken in motion_measure_latency: 0.0253053\n",
      "Time taken in motion_measure_latency: 0.0248785\n",
      "Time taken in motion_measure_latency: 0.0247726\n",
      "Time taken in motion_measure_latency: 0.0252330\n",
      "Time taken in motion_measure_latency: 0.0251944\n",
      "Time taken in motion_measure_latency: 0.0248201\n",
      "Time taken in motion_measure_latency: 0.0249426\n",
      "Time taken in motion_measure_latency: 0.0248840\n",
      "Time taken in motion_measure_latency: 0.0255411\n",
      "Time taken in motion_measure_latency: 0.0251200\n",
      "Time taken in motion_measure_latency: 0.0250728\n",
      "Time taken in motion_measure_latency: 0.0247786\n"
     ]
    },
    {
     "name": "stderr",
     "output_type": "stream",
     "text": [
      "100%|██████████| 2911/2911 [03:08<00:00, 16.29it/s, acc=0.7826, f1=0.7452, precision=0.6155, recall=0.9442]"
     ]
    },
    {
     "name": "stdout",
     "output_type": "stream",
     "text": [
      "Time taken in motion_measure_latency: 0.0258298\n",
      "Time taken in motion_measure_latency: 0.0255687\n",
      "Time taken in motion_measure_latency: 0.0248439\n",
      "Time taken in motion_measure_latency: 0.0252075\n"
     ]
    },
    {
     "ename": "KeyboardInterrupt",
     "evalue": "",
     "output_type": "error",
     "traceback": [
      "\u001b[0;31m---------------------------------------------------------------------------\u001b[0m",
      "\u001b[0;31mKeyboardInterrupt\u001b[0m                         Traceback (most recent call last)",
      "Cell \u001b[0;32mIn[17], line 4\u001b[0m\n\u001b[1;32m      2\u001b[0m image_list \u001b[38;5;241m=\u001b[39m [np\u001b[38;5;241m.\u001b[39mrandom\u001b[38;5;241m.\u001b[39mrandint(\u001b[38;5;241m0\u001b[39m, \u001b[38;5;241m256\u001b[39m, (\u001b[38;5;241m75\u001b[39m, \u001b[38;5;241m75\u001b[39m, \u001b[38;5;241m3\u001b[39m), dtype\u001b[38;5;241m=\u001b[39mnp\u001b[38;5;241m.\u001b[39muint8) \u001b[38;5;28;01mfor\u001b[39;00m i \u001b[38;5;129;01min\u001b[39;00m \u001b[38;5;28mrange\u001b[39m(\u001b[38;5;241m3\u001b[39m)]\n\u001b[1;32m      3\u001b[0m \u001b[38;5;28;01mfor\u001b[39;00m i \u001b[38;5;129;01min\u001b[39;00m \u001b[38;5;28mrange\u001b[39m(\u001b[38;5;241m1000\u001b[39m):\n\u001b[0;32m----> 4\u001b[0m     \u001b[43mmotion_measure_latency\u001b[49m\u001b[43m(\u001b[49m\u001b[43mimage_list\u001b[49m\u001b[43m)\u001b[49m\n",
      "Cell \u001b[0;32mIn[10], line 6\u001b[0m, in \u001b[0;36mtimeit.<locals>.get_time\u001b[0;34m(*args, **kwargs)\u001b[0m\n\u001b[1;32m      4\u001b[0m \u001b[38;5;28;01mdef\u001b[39;00m \u001b[38;5;21mget_time\u001b[39m(\u001b[38;5;241m*\u001b[39margs, \u001b[38;5;241m*\u001b[39m\u001b[38;5;241m*\u001b[39mkwargs): \n\u001b[1;32m      5\u001b[0m     start \u001b[38;5;241m=\u001b[39m time\u001b[38;5;241m.\u001b[39mtime() \n\u001b[0;32m----> 6\u001b[0m     output \u001b[38;5;241m=\u001b[39m \u001b[43mfn\u001b[49m\u001b[43m(\u001b[49m\u001b[38;5;241;43m*\u001b[39;49m\u001b[43margs\u001b[49m\u001b[43m,\u001b[49m\u001b[43m \u001b[49m\u001b[38;5;241;43m*\u001b[39;49m\u001b[38;5;241;43m*\u001b[39;49m\u001b[43mkwargs\u001b[49m\u001b[43m)\u001b[49m\n\u001b[1;32m      7\u001b[0m     \u001b[38;5;28mprint\u001b[39m(\u001b[38;5;124mf\u001b[39m\u001b[38;5;124m\"\u001b[39m\u001b[38;5;124mTime taken in \u001b[39m\u001b[38;5;132;01m{\u001b[39;00mfn\u001b[38;5;241m.\u001b[39m\u001b[38;5;18m__name__\u001b[39m\u001b[38;5;132;01m}\u001b[39;00m\u001b[38;5;124m: \u001b[39m\u001b[38;5;132;01m{\u001b[39;00mtime\u001b[38;5;241m.\u001b[39mtime()\u001b[38;5;250m \u001b[39m\u001b[38;5;241m-\u001b[39m\u001b[38;5;250m \u001b[39mstart\u001b[38;5;132;01m:\u001b[39;00m\u001b[38;5;124m.7f\u001b[39m\u001b[38;5;132;01m}\u001b[39;00m\u001b[38;5;124m\"\u001b[39m)\n\u001b[1;32m      8\u001b[0m     \u001b[38;5;28;01mreturn\u001b[39;00m output\n",
      "Cell \u001b[0;32mIn[15], line 4\u001b[0m, in \u001b[0;36mmotion_measure_latency\u001b[0;34m(input)\u001b[0m\n\u001b[1;32m      1\u001b[0m \u001b[38;5;129m@timeit\u001b[39m\n\u001b[1;32m      2\u001b[0m \u001b[38;5;28;01mdef\u001b[39;00m \u001b[38;5;21mmotion_measure_latency\u001b[39m(\u001b[38;5;28minput\u001b[39m):\n\u001b[1;32m      3\u001b[0m     \u001b[38;5;28;01mfor\u001b[39;00m i \u001b[38;5;129;01min\u001b[39;00m \u001b[38;5;28mrange\u001b[39m(\u001b[38;5;241m1000\u001b[39m):\n\u001b[0;32m----> 4\u001b[0m         \u001b[43mmotion_measure\u001b[49m\u001b[43m(\u001b[49m\u001b[38;5;28;43minput\u001b[39;49m\u001b[43m)\u001b[49m\n",
      "File \u001b[0;32m~/Desktop/vvinh/experiments/model/OurModel/object_detection.py:71\u001b[0m, in \u001b[0;36mmotion_measure\u001b[0;34m(input_motion)\u001b[0m\n\u001b[1;32m     67\u001b[0m input_motion \u001b[38;5;241m=\u001b[39m [cv2\u001b[38;5;241m.\u001b[39mresize(im,(bbox_motion_resize_h,bbox_motion_resize_w))\n\u001b[1;32m     68\u001b[0m                 \u001b[38;5;28;01mfor\u001b[39;00m im \u001b[38;5;129;01min\u001b[39;00m input_motion]\n\u001b[1;32m     69\u001b[0m \u001b[38;5;28;01mfor\u001b[39;00m i \u001b[38;5;129;01min\u001b[39;00m \u001b[38;5;28mrange\u001b[39m(\u001b[38;5;28mlen\u001b[39m(input_motion)\u001b[38;5;241m-\u001b[39m\u001b[38;5;241m1\u001b[39m):\n\u001b[1;32m     70\u001b[0m     \u001b[38;5;66;03m# logger.info(f'diff mmb {similarity(input_motion[i],input_motion[i+1])}')\u001b[39;00m\n\u001b[0;32m---> 71\u001b[0m     sim \u001b[38;5;241m+\u001b[39m\u001b[38;5;241m=\u001b[39m \u001b[43msimilarity\u001b[49m\u001b[43m(\u001b[49m\u001b[43minput_motion\u001b[49m\u001b[43m[\u001b[49m\u001b[43mi\u001b[49m\u001b[43m]\u001b[49m\u001b[43m,\u001b[49m\u001b[43minput_motion\u001b[49m\u001b[43m[\u001b[49m\u001b[43mi\u001b[49m\u001b[38;5;241;43m+\u001b[39;49m\u001b[38;5;241;43m1\u001b[39;49m\u001b[43m]\u001b[49m\u001b[43m)\u001b[49m\n\u001b[1;32m     72\u001b[0m \u001b[38;5;66;03m# logger.log(input_motion)\u001b[39;00m\n\u001b[1;32m     73\u001b[0m \u001b[38;5;28;01mreturn\u001b[39;00m (\u001b[38;5;241m1\u001b[39m\u001b[38;5;241m-\u001b[39msim\u001b[38;5;241m/\u001b[39m(\u001b[38;5;28mlen\u001b[39m(input_motion)\u001b[38;5;241m-\u001b[39m\u001b[38;5;241m1\u001b[39m))\u001b[38;5;241m*\u001b[39m(bbox_motion_resize_h\u001b[38;5;241m*\u001b[39mbbox_motion_resize_w)\u001b[38;5;241m/\u001b[39m(origin_h\u001b[38;5;241m*\u001b[39morgin_w)\n",
      "File \u001b[0;32m~/Desktop/vvinh/experiments/model/OurModel/object_detection.py:61\u001b[0m, in \u001b[0;36msimilarity\u001b[0;34m(img1, img2)\u001b[0m\n\u001b[1;32m     59\u001b[0m diff \u001b[38;5;241m=\u001b[39m cv2\u001b[38;5;241m.\u001b[39mabsdiff(gray1,gray2)\n\u001b[1;32m     60\u001b[0m \u001b[38;5;66;03m# logger.info(f'difference error: {absdiff}')\u001b[39;00m\n\u001b[0;32m---> 61\u001b[0m similarity \u001b[38;5;241m=\u001b[39m \u001b[38;5;241m1\u001b[39m \u001b[38;5;241m-\u001b[39m \u001b[43mdiff\u001b[49m\u001b[38;5;241;43m.\u001b[39;49m\u001b[43msum\u001b[49m\u001b[43m(\u001b[49m\u001b[43m)\u001b[49m \u001b[38;5;241m/\u001b[39m \u001b[38;5;28mfloat\u001b[39m(img1\u001b[38;5;241m.\u001b[39mshape[\u001b[38;5;241m0\u001b[39m]\u001b[38;5;241m*\u001b[39mimg1\u001b[38;5;241m.\u001b[39mshape[\u001b[38;5;241m1\u001b[39m]\u001b[38;5;241m*\u001b[39m\u001b[38;5;241m255\u001b[39m)\n\u001b[1;32m     62\u001b[0m \u001b[38;5;28;01mreturn\u001b[39;00m similarity\n",
      "File \u001b[0;32m~/anaconda3/envs/yolonas/lib/python3.9/site-packages/numpy/core/_methods.py:48\u001b[0m, in \u001b[0;36m_sum\u001b[0;34m(a, axis, dtype, out, keepdims, initial, where)\u001b[0m\n\u001b[1;32m     46\u001b[0m \u001b[38;5;28;01mdef\u001b[39;00m \u001b[38;5;21m_sum\u001b[39m(a, axis\u001b[38;5;241m=\u001b[39m\u001b[38;5;28;01mNone\u001b[39;00m, dtype\u001b[38;5;241m=\u001b[39m\u001b[38;5;28;01mNone\u001b[39;00m, out\u001b[38;5;241m=\u001b[39m\u001b[38;5;28;01mNone\u001b[39;00m, keepdims\u001b[38;5;241m=\u001b[39m\u001b[38;5;28;01mFalse\u001b[39;00m,\n\u001b[1;32m     47\u001b[0m          initial\u001b[38;5;241m=\u001b[39m_NoValue, where\u001b[38;5;241m=\u001b[39m\u001b[38;5;28;01mTrue\u001b[39;00m):\n\u001b[0;32m---> 48\u001b[0m     \u001b[38;5;28;01mreturn\u001b[39;00m \u001b[43mumr_sum\u001b[49m\u001b[43m(\u001b[49m\u001b[43ma\u001b[49m\u001b[43m,\u001b[49m\u001b[43m \u001b[49m\u001b[43maxis\u001b[49m\u001b[43m,\u001b[49m\u001b[43m \u001b[49m\u001b[43mdtype\u001b[49m\u001b[43m,\u001b[49m\u001b[43m \u001b[49m\u001b[43mout\u001b[49m\u001b[43m,\u001b[49m\u001b[43m \u001b[49m\u001b[43mkeepdims\u001b[49m\u001b[43m,\u001b[49m\u001b[43m \u001b[49m\u001b[43minitial\u001b[49m\u001b[43m,\u001b[49m\u001b[43m \u001b[49m\u001b[43mwhere\u001b[49m\u001b[43m)\u001b[49m\n",
      "\u001b[0;31mKeyboardInterrupt\u001b[0m: "
     ]
    }
   ],
   "source": [
    "# Generate random RGB image data\n",
    "image_list = [np.random.randint(0, 256, (75, 75, 3), dtype=np.uint8) for i in range(3)]\n",
    "for i in range(1000):\n",
    "    motion_measure_latency(image_list)"
   ]
  },
  {
   "cell_type": "code",
   "execution_count": null,
   "id": "b0fd77fc",
   "metadata": {},
   "outputs": [
    {
     "name": "stdout",
     "output_type": "stream",
     "text": [
      "Time taken in motion_measure_latency: 0.0384216\n",
      "Time taken in motion_measure_latency: 0.0377262\n",
      "Time taken in motion_measure_latency: 0.0380383\n",
      "Time taken in motion_measure_latency: 0.0379813\n",
      "Time taken in motion_measure_latency: 0.0386267\n",
      "Time taken in motion_measure_latency: 0.0378759\n",
      "Time taken in motion_measure_latency: 0.0387757\n",
      "Time taken in motion_measure_latency: 0.0381277\n",
      "Time taken in motion_measure_latency: 0.0382090\n",
      "Time taken in motion_measure_latency: 0.0384436\n",
      "Time taken in motion_measure_latency: 0.0383945\n",
      "Time taken in motion_measure_latency: 0.0383041\n",
      "Time taken in motion_measure_latency: 0.0380559\n",
      "Time taken in motion_measure_latency: 0.0383222\n",
      "Time taken in motion_measure_latency: 0.0383422\n",
      "Time taken in motion_measure_latency: 0.0378745\n",
      "Time taken in motion_measure_latency: 0.0386131\n",
      "Time taken in motion_measure_latency: 0.0384061\n",
      "Time taken in motion_measure_latency: 0.0383461\n",
      "Time taken in motion_measure_latency: 0.0385673\n",
      "Time taken in motion_measure_latency: 0.0383277\n",
      "Time taken in motion_measure_latency: 0.0388319\n",
      "Time taken in motion_measure_latency: 0.0386190\n",
      "Time taken in motion_measure_latency: 0.0382366\n",
      "Time taken in motion_measure_latency: 0.0386934\n",
      "Time taken in motion_measure_latency: 0.0381470\n",
      "Time taken in motion_measure_latency: 0.0380313\n",
      "Time taken in motion_measure_latency: 0.0382180\n",
      "Time taken in motion_measure_latency: 0.0386629\n",
      "Time taken in motion_measure_latency: 0.0387895\n",
      "Time taken in motion_measure_latency: 0.0385330\n",
      "Time taken in motion_measure_latency: 0.0379853\n",
      "Time taken in motion_measure_latency: 0.0374880\n",
      "Time taken in motion_measure_latency: 0.0374889\n",
      "Time taken in motion_measure_latency: 0.0380797\n",
      "Time taken in motion_measure_latency: 0.0384378\n",
      "Time taken in motion_measure_latency: 0.0381000\n",
      "Time taken in motion_measure_latency: 0.0384355\n",
      "Time taken in motion_measure_latency: 0.0378733\n",
      "Time taken in motion_measure_latency: 0.0378654\n",
      "Time taken in motion_measure_latency: 0.0418189\n",
      "Time taken in motion_measure_latency: 0.0395916\n",
      "Time taken in motion_measure_latency: 0.0382690\n",
      "Time taken in motion_measure_latency: 0.0382061\n",
      "Time taken in motion_measure_latency: 0.0375803\n",
      "Time taken in motion_measure_latency: 0.0380514\n",
      "Time taken in motion_measure_latency: 0.0383730\n",
      "Time taken in motion_measure_latency: 0.0376883\n",
      "Time taken in motion_measure_latency: 0.0379450\n",
      "Time taken in motion_measure_latency: 0.0378311\n",
      "Time taken in motion_measure_latency: 0.0379322\n",
      "Time taken in motion_measure_latency: 0.0376225\n",
      "Time taken in motion_measure_latency: 0.0376997\n",
      "Time taken in motion_measure_latency: 0.0376971\n",
      "Time taken in motion_measure_latency: 0.0384040\n",
      "Time taken in motion_measure_latency: 0.0376732\n",
      "Time taken in motion_measure_latency: 0.0379665\n",
      "Time taken in motion_measure_latency: 0.0377128\n",
      "Time taken in motion_measure_latency: 0.0380504\n",
      "Time taken in motion_measure_latency: 0.0381038\n",
      "Time taken in motion_measure_latency: 0.0379641\n",
      "Time taken in motion_measure_latency: 0.0379026\n",
      "Time taken in motion_measure_latency: 0.0382288\n",
      "Time taken in motion_measure_latency: 0.0379839\n",
      "Time taken in motion_measure_latency: 0.0380948\n",
      "Time taken in motion_measure_latency: 0.0379705\n",
      "Time taken in motion_measure_latency: 0.0381224\n",
      "Time taken in motion_measure_latency: 0.0382562\n",
      "Time taken in motion_measure_latency: 0.0377247\n",
      "Time taken in motion_measure_latency: 0.0378921\n",
      "Time taken in motion_measure_latency: 0.0384924\n",
      "Time taken in motion_measure_latency: 0.0382612\n",
      "Time taken in motion_measure_latency: 0.0380037\n",
      "Time taken in motion_measure_latency: 0.0377607\n",
      "Time taken in motion_measure_latency: 0.0377479\n",
      "Time taken in motion_measure_latency: 0.0380485\n",
      "Time taken in motion_measure_latency: 0.0382473\n",
      "Time taken in motion_measure_latency: 0.0379174\n",
      "Time taken in motion_measure_latency: 0.0385182\n",
      "Time taken in motion_measure_latency: 0.0382814\n",
      "Time taken in motion_measure_latency: 0.0377975\n",
      "Time taken in motion_measure_latency: 0.0377989\n",
      "Time taken in motion_measure_latency: 0.0380075\n",
      "Time taken in motion_measure_latency: 0.0378642\n",
      "Time taken in motion_measure_latency: 0.0378165\n",
      "Time taken in motion_measure_latency: 0.0378366\n",
      "Time taken in motion_measure_latency: 0.0376735\n",
      "Time taken in motion_measure_latency: 0.0383255\n",
      "Time taken in motion_measure_latency: 0.0378056\n",
      "Time taken in motion_measure_latency: 0.0381594\n",
      "Time taken in motion_measure_latency: 0.0380166\n",
      "Time taken in motion_measure_latency: 0.0383289\n",
      "Time taken in motion_measure_latency: 0.0377541\n",
      "Time taken in motion_measure_latency: 0.0378153\n",
      "Time taken in motion_measure_latency: 0.0383632\n",
      "Time taken in motion_measure_latency: 0.0386050\n",
      "Time taken in motion_measure_latency: 0.0385125\n",
      "Time taken in motion_measure_latency: 0.0381484\n",
      "Time taken in motion_measure_latency: 0.0382233\n",
      "Time taken in motion_measure_latency: 0.0380754\n",
      "Time taken in motion_measure_latency: 0.0384057\n",
      "Time taken in motion_measure_latency: 0.0384440\n",
      "Time taken in motion_measure_latency: 0.0380998\n",
      "Time taken in motion_measure_latency: 0.0384672\n",
      "Time taken in motion_measure_latency: 0.0379949\n",
      "Time taken in motion_measure_latency: 0.0382066\n",
      "Time taken in motion_measure_latency: 0.0379996\n",
      "Time taken in motion_measure_latency: 0.0384619\n",
      "Time taken in motion_measure_latency: 0.0383112\n",
      "Time taken in motion_measure_latency: 0.0382998\n",
      "Time taken in motion_measure_latency: 0.0386479\n",
      "Time taken in motion_measure_latency: 0.0381932\n",
      "Time taken in motion_measure_latency: 0.0387039\n",
      "Time taken in motion_measure_latency: 0.0381529\n",
      "Time taken in motion_measure_latency: 0.0390949\n",
      "Time taken in motion_measure_latency: 0.0382226\n",
      "Time taken in motion_measure_latency: 0.0377243\n",
      "Time taken in motion_measure_latency: 0.0382380\n",
      "Time taken in motion_measure_latency: 0.0382071\n",
      "Time taken in motion_measure_latency: 0.0380833\n",
      "Time taken in motion_measure_latency: 0.0394571\n",
      "Time taken in motion_measure_latency: 0.0381258\n",
      "Time taken in motion_measure_latency: 0.0380564\n",
      "Time taken in motion_measure_latency: 0.0381160\n",
      "Time taken in motion_measure_latency: 0.0384676\n",
      "Time taken in motion_measure_latency: 0.0378940\n",
      "Time taken in motion_measure_latency: 0.0382605\n",
      "Time taken in motion_measure_latency: 0.0379021\n",
      "Time taken in motion_measure_latency: 0.0389230\n",
      "Time taken in motion_measure_latency: 0.0379395\n",
      "Time taken in motion_measure_latency: 0.0386145\n",
      "Time taken in motion_measure_latency: 0.0380552\n",
      "Time taken in motion_measure_latency: 0.0381272\n",
      "Time taken in motion_measure_latency: 0.0383592\n",
      "Time taken in motion_measure_latency: 0.0381329\n",
      "Time taken in motion_measure_latency: 0.0378702\n",
      "Time taken in motion_measure_latency: 0.0391777\n",
      "Time taken in motion_measure_latency: 0.0383787\n",
      "Time taken in motion_measure_latency: 0.0383649\n",
      "Time taken in motion_measure_latency: 0.0380299\n",
      "Time taken in motion_measure_latency: 0.0379679\n",
      "Time taken in motion_measure_latency: 0.0382755\n",
      "Time taken in motion_measure_latency: 0.0380487\n",
      "Time taken in motion_measure_latency: 0.0380876\n",
      "Time taken in motion_measure_latency: 0.0408776\n",
      "Time taken in motion_measure_latency: 0.0403206\n",
      "Time taken in motion_measure_latency: 0.0382173\n",
      "Time taken in motion_measure_latency: 0.0379286\n",
      "Time taken in motion_measure_latency: 0.0385654\n",
      "Time taken in motion_measure_latency: 0.0383601\n",
      "Time taken in motion_measure_latency: 0.0384674\n",
      "Time taken in motion_measure_latency: 0.0380962\n",
      "Time taken in motion_measure_latency: 0.0381651\n",
      "Time taken in motion_measure_latency: 0.0381811\n",
      "Time taken in motion_measure_latency: 0.0384705\n",
      "Time taken in motion_measure_latency: 0.0381463\n",
      "Time taken in motion_measure_latency: 0.0382819\n",
      "Time taken in motion_measure_latency: 0.0384490\n",
      "Time taken in motion_measure_latency: 0.0379624\n",
      "Time taken in motion_measure_latency: 0.0379264\n",
      "Time taken in motion_measure_latency: 0.0382578\n",
      "Time taken in motion_measure_latency: 0.0389204\n",
      "Time taken in motion_measure_latency: 0.0386865\n",
      "Time taken in motion_measure_latency: 0.0380890\n",
      "Time taken in motion_measure_latency: 0.0381279\n",
      "Time taken in motion_measure_latency: 0.0379314\n",
      "Time taken in motion_measure_latency: 0.0381219\n",
      "Time taken in motion_measure_latency: 0.0383492\n",
      "Time taken in motion_measure_latency: 0.0379536\n",
      "Time taken in motion_measure_latency: 0.0384655\n",
      "Time taken in motion_measure_latency: 0.0382531\n",
      "Time taken in motion_measure_latency: 0.0376873\n",
      "Time taken in motion_measure_latency: 0.0385406\n",
      "Time taken in motion_measure_latency: 0.0382044\n",
      "Time taken in motion_measure_latency: 0.0380735\n",
      "Time taken in motion_measure_latency: 0.0380116\n",
      "Time taken in motion_measure_latency: 0.0378993\n",
      "Time taken in motion_measure_latency: 0.0385120\n",
      "Time taken in motion_measure_latency: 0.0384319\n",
      "Time taken in motion_measure_latency: 0.0381525\n",
      "Time taken in motion_measure_latency: 0.0381529\n",
      "Time taken in motion_measure_latency: 0.0382485\n",
      "Time taken in motion_measure_latency: 0.0379701\n",
      "Time taken in motion_measure_latency: 0.0378304\n",
      "Time taken in motion_measure_latency: 0.0380938\n",
      "Time taken in motion_measure_latency: 0.0381014\n",
      "Time taken in motion_measure_latency: 0.0392323\n",
      "Time taken in motion_measure_latency: 0.0379741\n",
      "Time taken in motion_measure_latency: 0.0382318\n",
      "Time taken in motion_measure_latency: 0.0378554\n",
      "Time taken in motion_measure_latency: 0.0384464\n",
      "Time taken in motion_measure_latency: 0.0379984\n",
      "Time taken in motion_measure_latency: 0.0381029\n",
      "Time taken in motion_measure_latency: 0.0381167\n",
      "Time taken in motion_measure_latency: 0.0384529\n",
      "Time taken in motion_measure_latency: 0.0374775\n",
      "Time taken in motion_measure_latency: 0.0379090\n",
      "Time taken in motion_measure_latency: 0.0376289\n",
      "Time taken in motion_measure_latency: 0.0377517\n",
      "Time taken in motion_measure_latency: 0.0378027\n",
      "Time taken in motion_measure_latency: 0.0375946\n",
      "Time taken in motion_measure_latency: 0.0384328\n",
      "Time taken in motion_measure_latency: 0.0415654\n",
      "Time taken in motion_measure_latency: 0.0385854\n",
      "Time taken in motion_measure_latency: 0.0379190\n",
      "Time taken in motion_measure_latency: 0.0377624\n",
      "Time taken in motion_measure_latency: 0.0375454\n",
      "Time taken in motion_measure_latency: 0.0379124\n",
      "Time taken in motion_measure_latency: 0.0378568\n",
      "Time taken in motion_measure_latency: 0.0377536\n",
      "Time taken in motion_measure_latency: 0.0383668\n",
      "Time taken in motion_measure_latency: 0.0380001\n",
      "Time taken in motion_measure_latency: 0.0377088\n",
      "Time taken in motion_measure_latency: 0.0376685\n",
      "Time taken in motion_measure_latency: 0.0382500\n",
      "Time taken in motion_measure_latency: 0.0379508\n",
      "Time taken in motion_measure_latency: 0.0381866\n",
      "Time taken in motion_measure_latency: 0.0383856\n",
      "Time taken in motion_measure_latency: 0.0384150\n",
      "Time taken in motion_measure_latency: 0.0382934\n",
      "Time taken in motion_measure_latency: 0.0383978\n",
      "Time taken in motion_measure_latency: 0.0383639\n",
      "Time taken in motion_measure_latency: 0.0386491\n",
      "Time taken in motion_measure_latency: 0.0384014\n",
      "Time taken in motion_measure_latency: 0.0379128\n",
      "Time taken in motion_measure_latency: 0.0383215\n",
      "Time taken in motion_measure_latency: 0.0385547\n",
      "Time taken in motion_measure_latency: 0.0389352\n",
      "Time taken in motion_measure_latency: 0.0384915\n",
      "Time taken in motion_measure_latency: 0.0383770\n",
      "Time taken in motion_measure_latency: 0.0380535\n",
      "Time taken in motion_measure_latency: 0.0381873\n",
      "Time taken in motion_measure_latency: 0.0380235\n",
      "Time taken in motion_measure_latency: 0.0382590\n",
      "Time taken in motion_measure_latency: 0.0381153\n",
      "Time taken in motion_measure_latency: 0.0384266\n",
      "Time taken in motion_measure_latency: 0.0381908\n",
      "Time taken in motion_measure_latency: 0.0381405\n",
      "Time taken in motion_measure_latency: 0.0384090\n",
      "Time taken in motion_measure_latency: 0.0386891\n",
      "Time taken in motion_measure_latency: 0.0383215\n",
      "Time taken in motion_measure_latency: 0.0385120\n",
      "Time taken in motion_measure_latency: 0.0379124\n",
      "Time taken in motion_measure_latency: 0.0387418\n",
      "Time taken in motion_measure_latency: 0.0383978\n",
      "Time taken in motion_measure_latency: 0.0384529\n",
      "Time taken in motion_measure_latency: 0.0382521\n",
      "Time taken in motion_measure_latency: 0.0381472\n",
      "Time taken in motion_measure_latency: 0.0378802\n",
      "Time taken in motion_measure_latency: 0.0378520\n",
      "Time taken in motion_measure_latency: 0.0382879\n",
      "Time taken in motion_measure_latency: 0.0387805\n",
      "Time taken in motion_measure_latency: 0.0383570\n",
      "Time taken in motion_measure_latency: 0.0379953\n",
      "Time taken in motion_measure_latency: 0.0381892\n",
      "Time taken in motion_measure_latency: 0.0377545\n",
      "Time taken in motion_measure_latency: 0.0377347\n",
      "Time taken in motion_measure_latency: 0.0376115\n",
      "Time taken in motion_measure_latency: 0.0377171\n",
      "Time taken in motion_measure_latency: 0.0376623\n",
      "Time taken in motion_measure_latency: 0.0381732\n",
      "Time taken in motion_measure_latency: 0.0374608\n",
      "Time taken in motion_measure_latency: 0.0377038\n",
      "Time taken in motion_measure_latency: 0.0375319\n",
      "Time taken in motion_measure_latency: 0.0379286\n",
      "Time taken in motion_measure_latency: 0.0408673\n",
      "Time taken in motion_measure_latency: 0.0390050\n",
      "Time taken in motion_measure_latency: 0.0387065\n",
      "Time taken in motion_measure_latency: 0.0423248\n",
      "Time taken in motion_measure_latency: 0.0387318\n",
      "Time taken in motion_measure_latency: 0.0387053\n",
      "Time taken in motion_measure_latency: 0.0380697\n",
      "Time taken in motion_measure_latency: 0.0380230\n",
      "Time taken in motion_measure_latency: 0.0383439\n",
      "Time taken in motion_measure_latency: 0.0381918\n",
      "Time taken in motion_measure_latency: 0.0384748\n",
      "Time taken in motion_measure_latency: 0.0383842\n",
      "Time taken in motion_measure_latency: 0.0385044\n",
      "Time taken in motion_measure_latency: 0.0383413\n",
      "Time taken in motion_measure_latency: 0.0384614\n",
      "Time taken in motion_measure_latency: 0.0387259\n",
      "Time taken in motion_measure_latency: 0.0381787\n",
      "Time taken in motion_measure_latency: 0.0387511\n",
      "Time taken in motion_measure_latency: 0.0383935\n",
      "Time taken in motion_measure_latency: 0.0382392\n",
      "Time taken in motion_measure_latency: 0.0379934\n",
      "Time taken in motion_measure_latency: 0.0388827\n",
      "Time taken in motion_measure_latency: 0.0381813\n",
      "Time taken in motion_measure_latency: 0.0383453\n",
      "Time taken in motion_measure_latency: 0.0383999\n",
      "Time taken in motion_measure_latency: 0.0379338\n",
      "Time taken in motion_measure_latency: 0.0384281\n",
      "Time taken in motion_measure_latency: 0.0385439\n",
      "Time taken in motion_measure_latency: 0.0387115\n",
      "Time taken in motion_measure_latency: 0.0389273\n",
      "Time taken in motion_measure_latency: 0.0380337\n",
      "Time taken in motion_measure_latency: 0.0381751\n",
      "Time taken in motion_measure_latency: 0.0381956\n",
      "Time taken in motion_measure_latency: 0.0382886\n",
      "Time taken in motion_measure_latency: 0.0381606\n",
      "Time taken in motion_measure_latency: 0.0383699\n",
      "Time taken in motion_measure_latency: 0.0385606\n",
      "Time taken in motion_measure_latency: 0.0379348\n",
      "Time taken in motion_measure_latency: 0.0382917\n",
      "Time taken in motion_measure_latency: 0.0384681\n",
      "Time taken in motion_measure_latency: 0.0381711\n",
      "Time taken in motion_measure_latency: 0.0379646\n",
      "Time taken in motion_measure_latency: 0.0385203\n",
      "Time taken in motion_measure_latency: 0.0376823\n",
      "Time taken in motion_measure_latency: 0.0386901\n",
      "Time taken in motion_measure_latency: 0.0382609\n",
      "Time taken in motion_measure_latency: 0.0382643\n",
      "Time taken in motion_measure_latency: 0.0381272\n",
      "Time taken in motion_measure_latency: 0.0378664\n",
      "Time taken in motion_measure_latency: 0.0377448\n",
      "Time taken in motion_measure_latency: 0.0379925\n",
      "Time taken in motion_measure_latency: 0.0381596\n",
      "Time taken in motion_measure_latency: 0.0387971\n",
      "Time taken in motion_measure_latency: 0.0384264\n",
      "Time taken in motion_measure_latency: 0.0378332\n",
      "Time taken in motion_measure_latency: 0.0382996\n",
      "Time taken in motion_measure_latency: 0.0379322\n",
      "Time taken in motion_measure_latency: 0.0381653\n",
      "Time taken in motion_measure_latency: 0.0384049\n",
      "Time taken in motion_measure_latency: 0.0381670\n",
      "Time taken in motion_measure_latency: 0.0387709\n",
      "Time taken in motion_measure_latency: 0.0379722\n",
      "Time taken in motion_measure_latency: 0.0381134\n",
      "Time taken in motion_measure_latency: 0.0381622\n",
      "Time taken in motion_measure_latency: 0.0381501\n",
      "Time taken in motion_measure_latency: 0.0382364\n",
      "Time taken in motion_measure_latency: 0.0381021\n",
      "Time taken in motion_measure_latency: 0.0378466\n",
      "Time taken in motion_measure_latency: 0.0379899\n",
      "Time taken in motion_measure_latency: 0.0389636\n",
      "Time taken in motion_measure_latency: 0.0381391\n",
      "Time taken in motion_measure_latency: 0.0383315\n",
      "Time taken in motion_measure_latency: 0.0380046\n",
      "Time taken in motion_measure_latency: 0.0379851\n",
      "Time taken in motion_measure_latency: 0.0377445\n",
      "Time taken in motion_measure_latency: 0.0382771\n",
      "Time taken in motion_measure_latency: 0.0380652\n",
      "Time taken in motion_measure_latency: 0.0390921\n",
      "Time taken in motion_measure_latency: 0.0382366\n",
      "Time taken in motion_measure_latency: 0.0380476\n",
      "Time taken in motion_measure_latency: 0.0377333\n",
      "Time taken in motion_measure_latency: 0.0381837\n",
      "Time taken in motion_measure_latency: 0.0379894\n",
      "Time taken in motion_measure_latency: 0.0383294\n",
      "Time taken in motion_measure_latency: 0.0381815\n",
      "Time taken in motion_measure_latency: 0.0407834\n",
      "Time taken in motion_measure_latency: 0.0402284\n",
      "Time taken in motion_measure_latency: 0.0382371\n",
      "Time taken in motion_measure_latency: 0.0380208\n",
      "Time taken in motion_measure_latency: 0.0380833\n",
      "Time taken in motion_measure_latency: 0.0380569\n",
      "Time taken in motion_measure_latency: 0.0378275\n",
      "Time taken in motion_measure_latency: 0.0380774\n",
      "Time taken in motion_measure_latency: 0.0387394\n",
      "Time taken in motion_measure_latency: 0.0383849\n",
      "Time taken in motion_measure_latency: 0.0383167\n",
      "Time taken in motion_measure_latency: 0.0381966\n",
      "Time taken in motion_measure_latency: 0.0379970\n",
      "Time taken in motion_measure_latency: 0.0379181\n",
      "Time taken in motion_measure_latency: 0.0381470\n",
      "Time taken in motion_measure_latency: 0.0379875\n",
      "Time taken in motion_measure_latency: 0.0383112\n",
      "Time taken in motion_measure_latency: 0.0385864\n",
      "Time taken in motion_measure_latency: 0.0378723\n",
      "Time taken in motion_measure_latency: 0.0383770\n",
      "Time taken in motion_measure_latency: 0.0383630\n",
      "Time taken in motion_measure_latency: 0.0379364\n",
      "Time taken in motion_measure_latency: 0.0381753\n",
      "Time taken in motion_measure_latency: 0.0383630\n",
      "Time taken in motion_measure_latency: 0.0380602\n",
      "Time taken in motion_measure_latency: 0.0383966\n",
      "Time taken in motion_measure_latency: 0.0385082\n",
      "Time taken in motion_measure_latency: 0.0379205\n",
      "Time taken in motion_measure_latency: 0.0385048\n",
      "Time taken in motion_measure_latency: 0.0381761\n",
      "Time taken in motion_measure_latency: 0.0382192\n",
      "Time taken in motion_measure_latency: 0.0380154\n",
      "Time taken in motion_measure_latency: 0.0384529\n",
      "Time taken in motion_measure_latency: 0.0385473\n",
      "Time taken in motion_measure_latency: 0.0389471\n",
      "Time taken in motion_measure_latency: 0.0380282\n",
      "Time taken in motion_measure_latency: 0.0377662\n",
      "Time taken in motion_measure_latency: 0.0379150\n",
      "Time taken in motion_measure_latency: 0.0384231\n",
      "Time taken in motion_measure_latency: 0.0379696\n",
      "Time taken in motion_measure_latency: 0.0383792\n",
      "Time taken in motion_measure_latency: 0.0390801\n",
      "Time taken in motion_measure_latency: 0.0378745\n",
      "Time taken in motion_measure_latency: 0.0376999\n",
      "Time taken in motion_measure_latency: 0.0392704\n",
      "Time taken in motion_measure_latency: 0.0399623\n",
      "Time taken in motion_measure_latency: 0.0386388\n",
      "Time taken in motion_measure_latency: 0.0378168\n",
      "Time taken in motion_measure_latency: 0.0379376\n",
      "Time taken in motion_measure_latency: 0.0383098\n",
      "Time taken in motion_measure_latency: 0.0381134\n",
      "Time taken in motion_measure_latency: 0.0385268\n",
      "Time taken in motion_measure_latency: 0.0381229\n",
      "Time taken in motion_measure_latency: 0.0378706\n",
      "Time taken in motion_measure_latency: 0.0381134\n",
      "Time taken in motion_measure_latency: 0.0378764\n",
      "Time taken in motion_measure_latency: 0.0384371\n",
      "Time taken in motion_measure_latency: 0.0382223\n",
      "Time taken in motion_measure_latency: 0.0387208\n",
      "Time taken in motion_measure_latency: 0.0381880\n",
      "Time taken in motion_measure_latency: 0.0379336\n",
      "Time taken in motion_measure_latency: 0.0379682\n",
      "Time taken in motion_measure_latency: 0.0381980\n",
      "Time taken in motion_measure_latency: 0.0381212\n",
      "Time taken in motion_measure_latency: 0.0381873\n",
      "Time taken in motion_measure_latency: 0.0383310\n",
      "Time taken in motion_measure_latency: 0.0382309\n",
      "Time taken in motion_measure_latency: 0.0384521\n",
      "Time taken in motion_measure_latency: 0.0384181\n",
      "Time taken in motion_measure_latency: 0.0378356\n",
      "Time taken in motion_measure_latency: 0.0382125\n",
      "Time taken in motion_measure_latency: 0.0378821\n",
      "Time taken in motion_measure_latency: 0.0380244\n",
      "Time taken in motion_measure_latency: 0.0378399\n",
      "Time taken in motion_measure_latency: 0.0385809\n",
      "Time taken in motion_measure_latency: 0.0385416\n",
      "Time taken in motion_measure_latency: 0.0382910\n",
      "Time taken in motion_measure_latency: 0.0380116\n",
      "Time taken in motion_measure_latency: 0.0379133\n",
      "Time taken in motion_measure_latency: 0.0376954\n",
      "Time taken in motion_measure_latency: 0.0381417\n",
      "Time taken in motion_measure_latency: 0.0384586\n",
      "Time taken in motion_measure_latency: 0.0393302\n",
      "Time taken in motion_measure_latency: 0.0392613\n",
      "Time taken in motion_measure_latency: 0.0383251\n",
      "Time taken in motion_measure_latency: 0.0384517\n",
      "Time taken in motion_measure_latency: 0.0383656\n",
      "Time taken in motion_measure_latency: 0.0376127\n",
      "Time taken in motion_measure_latency: 0.0379264\n",
      "Time taken in motion_measure_latency: 0.0376856\n",
      "Time taken in motion_measure_latency: 0.0376008\n",
      "Time taken in motion_measure_latency: 0.0381019\n",
      "Time taken in motion_measure_latency: 0.0377512\n",
      "Time taken in motion_measure_latency: 0.0376863\n",
      "Time taken in motion_measure_latency: 0.0377834\n",
      "Time taken in motion_measure_latency: 0.0382807\n",
      "Time taken in motion_measure_latency: 0.0399463\n",
      "Time taken in motion_measure_latency: 0.0375552\n",
      "Time taken in motion_measure_latency: 0.0395677\n",
      "Time taken in motion_measure_latency: 0.0391934\n",
      "Time taken in motion_measure_latency: 0.0380971\n",
      "Time taken in motion_measure_latency: 0.0381539\n",
      "Time taken in motion_measure_latency: 0.0387125\n",
      "Time taken in motion_measure_latency: 0.0377865\n",
      "Time taken in motion_measure_latency: 0.0385821\n",
      "Time taken in motion_measure_latency: 0.0379825\n",
      "Time taken in motion_measure_latency: 0.0387890\n",
      "Time taken in motion_measure_latency: 0.0399544\n",
      "Time taken in motion_measure_latency: 0.0378799\n",
      "Time taken in motion_measure_latency: 0.0380251\n",
      "Time taken in motion_measure_latency: 0.0379288\n",
      "Time taken in motion_measure_latency: 0.0381596\n",
      "Time taken in motion_measure_latency: 0.0379901\n",
      "Time taken in motion_measure_latency: 0.0380814\n",
      "Time taken in motion_measure_latency: 0.0379269\n",
      "Time taken in motion_measure_latency: 0.0383406\n",
      "Time taken in motion_measure_latency: 0.0383208\n",
      "Time taken in motion_measure_latency: 0.0386887\n",
      "Time taken in motion_measure_latency: 0.0383747\n",
      "Time taken in motion_measure_latency: 0.0382490\n",
      "Time taken in motion_measure_latency: 0.0381706\n",
      "Time taken in motion_measure_latency: 0.0378578\n",
      "Time taken in motion_measure_latency: 0.0385575\n",
      "Time taken in motion_measure_latency: 0.0381234\n",
      "Time taken in motion_measure_latency: 0.0389762\n",
      "Time taken in motion_measure_latency: 0.0381155\n",
      "Time taken in motion_measure_latency: 0.0381618\n",
      "Time taken in motion_measure_latency: 0.0377593\n",
      "Time taken in motion_measure_latency: 0.0381367\n",
      "Time taken in motion_measure_latency: 0.0382628\n",
      "Time taken in motion_measure_latency: 0.0380421\n",
      "Time taken in motion_measure_latency: 0.0385244\n",
      "Time taken in motion_measure_latency: 0.0385296\n",
      "Time taken in motion_measure_latency: 0.0381372\n",
      "Time taken in motion_measure_latency: 0.0382836\n",
      "Time taken in motion_measure_latency: 0.0378978\n",
      "Time taken in motion_measure_latency: 0.0382226\n",
      "Time taken in motion_measure_latency: 0.0377178\n",
      "Time taken in motion_measure_latency: 0.0374885\n",
      "Time taken in motion_measure_latency: 0.0376627\n",
      "Time taken in motion_measure_latency: 0.0381570\n",
      "Time taken in motion_measure_latency: 0.0377445\n",
      "Time taken in motion_measure_latency: 0.0377560\n",
      "Time taken in motion_measure_latency: 0.0379150\n",
      "Time taken in motion_measure_latency: 0.0375919\n",
      "Time taken in motion_measure_latency: 0.0375209\n",
      "Time taken in motion_measure_latency: 0.0379715\n",
      "Time taken in motion_measure_latency: 0.0376091\n",
      "Time taken in motion_measure_latency: 0.0381634\n",
      "Time taken in motion_measure_latency: 0.0379171\n",
      "Time taken in motion_measure_latency: 0.0376532\n",
      "Time taken in motion_measure_latency: 0.0374799\n",
      "Time taken in motion_measure_latency: 0.0377412\n",
      "Time taken in motion_measure_latency: 0.0374532\n",
      "Time taken in motion_measure_latency: 0.0374639\n",
      "Time taken in motion_measure_latency: 0.0375733\n",
      "Time taken in motion_measure_latency: 0.0375047\n",
      "Time taken in motion_measure_latency: 0.0376861\n",
      "Time taken in motion_measure_latency: 0.0388591\n",
      "Time taken in motion_measure_latency: 0.0378733\n",
      "Time taken in motion_measure_latency: 0.0377421\n",
      "Time taken in motion_measure_latency: 0.0374525\n",
      "Time taken in motion_measure_latency: 0.0374374\n",
      "Time taken in motion_measure_latency: 0.0374138\n",
      "Time taken in motion_measure_latency: 0.0377538\n",
      "Time taken in motion_measure_latency: 0.0376408\n",
      "Time taken in motion_measure_latency: 0.0382397\n",
      "Time taken in motion_measure_latency: 0.0377536\n",
      "Time taken in motion_measure_latency: 0.0374680\n",
      "Time taken in motion_measure_latency: 0.0374343\n",
      "Time taken in motion_measure_latency: 0.0380750\n",
      "Time taken in motion_measure_latency: 0.0376046\n",
      "Time taken in motion_measure_latency: 0.0376387\n",
      "Time taken in motion_measure_latency: 0.0376265\n",
      "Time taken in motion_measure_latency: 0.0374911\n",
      "Time taken in motion_measure_latency: 0.0376823\n",
      "Time taken in motion_measure_latency: 0.0378394\n",
      "Time taken in motion_measure_latency: 0.0374668\n",
      "Time taken in motion_measure_latency: 0.0376661\n",
      "Time taken in motion_measure_latency: 0.0373950\n",
      "Time taken in motion_measure_latency: 0.0372469\n",
      "Time taken in motion_measure_latency: 0.0373018\n",
      "Time taken in motion_measure_latency: 0.0377126\n",
      "Time taken in motion_measure_latency: 0.0382984\n",
      "Time taken in motion_measure_latency: 0.0379248\n",
      "Time taken in motion_measure_latency: 0.0376062\n",
      "Time taken in motion_measure_latency: 0.0376072\n",
      "Time taken in motion_measure_latency: 0.0374782\n",
      "Time taken in motion_measure_latency: 0.0377145\n",
      "Time taken in motion_measure_latency: 0.0375428\n",
      "Time taken in motion_measure_latency: 0.0376594\n",
      "Time taken in motion_measure_latency: 0.0379891\n",
      "Time taken in motion_measure_latency: 0.0377111\n",
      "Time taken in motion_measure_latency: 0.0374734\n",
      "Time taken in motion_measure_latency: 0.0377386\n",
      "Time taken in motion_measure_latency: 0.0373902\n",
      "Time taken in motion_measure_latency: 0.0377550\n",
      "Time taken in motion_measure_latency: 0.0377538\n",
      "Time taken in motion_measure_latency: 0.0375338\n",
      "Time taken in motion_measure_latency: 0.0373495\n",
      "Time taken in motion_measure_latency: 0.0386019\n",
      "Time taken in motion_measure_latency: 0.0374537\n",
      "Time taken in motion_measure_latency: 0.0376236\n",
      "Time taken in motion_measure_latency: 0.0375483\n",
      "Time taken in motion_measure_latency: 0.0373166\n",
      "Time taken in motion_measure_latency: 0.0373516\n",
      "Time taken in motion_measure_latency: 0.0375695\n",
      "Time taken in motion_measure_latency: 0.0375702\n",
      "Time taken in motion_measure_latency: 0.0383718\n",
      "Time taken in motion_measure_latency: 0.0377159\n",
      "Time taken in motion_measure_latency: 0.0374072\n",
      "Time taken in motion_measure_latency: 0.0374415\n",
      "Time taken in motion_measure_latency: 0.0377257\n",
      "Time taken in motion_measure_latency: 0.0374794\n",
      "Time taken in motion_measure_latency: 0.0377042\n",
      "Time taken in motion_measure_latency: 0.0376017\n",
      "Time taken in motion_measure_latency: 0.0379784\n",
      "Time taken in motion_measure_latency: 0.0376875\n",
      "Time taken in motion_measure_latency: 0.0378859\n",
      "Time taken in motion_measure_latency: 0.0375695\n",
      "Time taken in motion_measure_latency: 0.0374966\n",
      "Time taken in motion_measure_latency: 0.0373361\n",
      "Time taken in motion_measure_latency: 0.0373194\n",
      "Time taken in motion_measure_latency: 0.0375400\n",
      "Time taken in motion_measure_latency: 0.0379744\n",
      "Time taken in motion_measure_latency: 0.0382891\n",
      "Time taken in motion_measure_latency: 0.0380456\n",
      "Time taken in motion_measure_latency: 0.0377641\n",
      "Time taken in motion_measure_latency: 0.0375764\n",
      "Time taken in motion_measure_latency: 0.0376749\n",
      "Time taken in motion_measure_latency: 0.0383403\n",
      "Time taken in motion_measure_latency: 0.0378308\n",
      "Time taken in motion_measure_latency: 0.0379274\n",
      "Time taken in motion_measure_latency: 0.0381098\n",
      "Time taken in motion_measure_latency: 0.0377731\n",
      "Time taken in motion_measure_latency: 0.0377398\n",
      "Time taken in motion_measure_latency: 0.0379176\n",
      "Time taken in motion_measure_latency: 0.0376875\n",
      "Time taken in motion_measure_latency: 0.0377345\n",
      "Time taken in motion_measure_latency: 0.0375032\n",
      "Time taken in motion_measure_latency: 0.0373919\n",
      "Time taken in motion_measure_latency: 0.0376410\n",
      "Time taken in motion_measure_latency: 0.0382276\n",
      "Time taken in motion_measure_latency: 0.0376127\n",
      "Time taken in motion_measure_latency: 0.0375504\n",
      "Time taken in motion_measure_latency: 0.0373781\n",
      "Time taken in motion_measure_latency: 0.0373456\n",
      "Time taken in motion_measure_latency: 0.0373991\n",
      "Time taken in motion_measure_latency: 0.0376618\n",
      "Time taken in motion_measure_latency: 0.0373645\n",
      "Time taken in motion_measure_latency: 0.0385895\n",
      "Time taken in motion_measure_latency: 0.0376544\n",
      "Time taken in motion_measure_latency: 0.0373950\n",
      "Time taken in motion_measure_latency: 0.0374098\n",
      "Time taken in motion_measure_latency: 0.0374026\n",
      "Time taken in motion_measure_latency: 0.0375288\n",
      "Time taken in motion_measure_latency: 0.0385008\n",
      "Time taken in motion_measure_latency: 0.0375760\n",
      "Time taken in motion_measure_latency: 0.0382347\n",
      "Time taken in motion_measure_latency: 0.0381198\n",
      "Time taken in motion_measure_latency: 0.0388792\n",
      "Time taken in motion_measure_latency: 0.0378075\n",
      "Time taken in motion_measure_latency: 0.0377929\n",
      "Time taken in motion_measure_latency: 0.0374269\n",
      "Time taken in motion_measure_latency: 0.0374224\n",
      "Time taken in motion_measure_latency: 0.0374367\n",
      "Time taken in motion_measure_latency: 0.0380368\n",
      "Time taken in motion_measure_latency: 0.0379837\n",
      "Time taken in motion_measure_latency: 0.0376680\n",
      "Time taken in motion_measure_latency: 0.0376105\n",
      "Time taken in motion_measure_latency: 0.0374274\n",
      "Time taken in motion_measure_latency: 0.0375128\n",
      "Time taken in motion_measure_latency: 0.0379097\n",
      "Time taken in motion_measure_latency: 0.0377614\n",
      "Time taken in motion_measure_latency: 0.0378363\n",
      "Time taken in motion_measure_latency: 0.0382209\n",
      "Time taken in motion_measure_latency: 0.0378017\n",
      "Time taken in motion_measure_latency: 0.0380065\n",
      "Time taken in motion_measure_latency: 0.0379782\n",
      "Time taken in motion_measure_latency: 0.0377100\n",
      "Time taken in motion_measure_latency: 0.0376606\n",
      "Time taken in motion_measure_latency: 0.0372887\n",
      "Time taken in motion_measure_latency: 0.0373292\n",
      "Time taken in motion_measure_latency: 0.0379510\n",
      "Time taken in motion_measure_latency: 0.0375884\n",
      "Time taken in motion_measure_latency: 0.0374219\n",
      "Time taken in motion_measure_latency: 0.0374732\n",
      "Time taken in motion_measure_latency: 0.0373633\n",
      "Time taken in motion_measure_latency: 0.0373943\n",
      "Time taken in motion_measure_latency: 0.0372777\n",
      "Time taken in motion_measure_latency: 0.0375605\n",
      "Time taken in motion_measure_latency: 0.0374229\n",
      "Time taken in motion_measure_latency: 0.0378520\n",
      "Time taken in motion_measure_latency: 0.0375240\n",
      "Time taken in motion_measure_latency: 0.0374222\n",
      "Time taken in motion_measure_latency: 0.0374405\n",
      "Time taken in motion_measure_latency: 0.0377631\n",
      "Time taken in motion_measure_latency: 0.0374441\n",
      "Time taken in motion_measure_latency: 0.0376060\n",
      "Time taken in motion_measure_latency: 0.0375614\n",
      "Time taken in motion_measure_latency: 0.0381172\n",
      "Time taken in motion_measure_latency: 0.0374753\n",
      "Time taken in motion_measure_latency: 0.0376246\n",
      "Time taken in motion_measure_latency: 0.0375528\n",
      "Time taken in motion_measure_latency: 0.0382974\n",
      "Time taken in motion_measure_latency: 0.0376813\n",
      "Time taken in motion_measure_latency: 0.0375991\n",
      "Time taken in motion_measure_latency: 0.0373957\n",
      "Time taken in motion_measure_latency: 0.0379741\n",
      "Time taken in motion_measure_latency: 0.0377896\n",
      "Time taken in motion_measure_latency: 0.0377254\n",
      "Time taken in motion_measure_latency: 0.0372782\n",
      "Time taken in motion_measure_latency: 0.0373468\n",
      "Time taken in motion_measure_latency: 0.0372934\n",
      "Time taken in motion_measure_latency: 0.0378568\n",
      "Time taken in motion_measure_latency: 0.0376549\n",
      "Time taken in motion_measure_latency: 0.0378158\n",
      "Time taken in motion_measure_latency: 0.0383487\n",
      "Time taken in motion_measure_latency: 0.0375953\n",
      "Time taken in motion_measure_latency: 0.0375113\n",
      "Time taken in motion_measure_latency: 0.0377929\n",
      "Time taken in motion_measure_latency: 0.0378175\n",
      "Time taken in motion_measure_latency: 0.0379350\n",
      "Time taken in motion_measure_latency: 0.0378106\n",
      "Time taken in motion_measure_latency: 0.0376167\n",
      "Time taken in motion_measure_latency: 0.0381761\n",
      "Time taken in motion_measure_latency: 0.0379899\n",
      "Time taken in motion_measure_latency: 0.0377202\n",
      "Time taken in motion_measure_latency: 0.0378559\n",
      "Time taken in motion_measure_latency: 0.0376353\n",
      "Time taken in motion_measure_latency: 0.0378487\n",
      "Time taken in motion_measure_latency: 0.0376058\n",
      "Time taken in motion_measure_latency: 0.0378983\n",
      "Time taken in motion_measure_latency: 0.0384958\n",
      "Time taken in motion_measure_latency: 0.0379248\n",
      "Time taken in motion_measure_latency: 0.0376990\n",
      "Time taken in motion_measure_latency: 0.0378683\n",
      "Time taken in motion_measure_latency: 0.0375819\n",
      "Time taken in motion_measure_latency: 0.0379260\n",
      "Time taken in motion_measure_latency: 0.0376589\n",
      "Time taken in motion_measure_latency: 0.0377395\n",
      "Time taken in motion_measure_latency: 0.0379524\n",
      "Time taken in motion_measure_latency: 0.0381937\n",
      "Time taken in motion_measure_latency: 0.0376620\n",
      "Time taken in motion_measure_latency: 0.0380957\n",
      "Time taken in motion_measure_latency: 0.0377386\n",
      "Time taken in motion_measure_latency: 0.0377374\n",
      "Time taken in motion_measure_latency: 0.0376313\n",
      "Time taken in motion_measure_latency: 0.0377285\n",
      "Time taken in motion_measure_latency: 0.0376573\n",
      "Time taken in motion_measure_latency: 0.0384457\n",
      "Time taken in motion_measure_latency: 0.0377104\n",
      "Time taken in motion_measure_latency: 0.0378881\n",
      "Time taken in motion_measure_latency: 0.0376616\n",
      "Time taken in motion_measure_latency: 0.0376945\n",
      "Time taken in motion_measure_latency: 0.0375459\n",
      "Time taken in motion_measure_latency: 0.0377419\n",
      "Time taken in motion_measure_latency: 0.0380688\n",
      "Time taken in motion_measure_latency: 0.0383377\n",
      "Time taken in motion_measure_latency: 0.0375454\n",
      "Time taken in motion_measure_latency: 0.0376298\n",
      "Time taken in motion_measure_latency: 0.0374482\n",
      "Time taken in motion_measure_latency: 0.0376165\n",
      "Time taken in motion_measure_latency: 0.0375924\n",
      "Time taken in motion_measure_latency: 0.0375378\n",
      "Time taken in motion_measure_latency: 0.0375438\n",
      "Time taken in motion_measure_latency: 0.0375078\n",
      "Time taken in motion_measure_latency: 0.0376716\n",
      "Time taken in motion_measure_latency: 0.0378797\n",
      "Time taken in motion_measure_latency: 0.0376406\n",
      "Time taken in motion_measure_latency: 0.0377100\n",
      "Time taken in motion_measure_latency: 0.0376458\n",
      "Time taken in motion_measure_latency: 0.0372813\n",
      "Time taken in motion_measure_latency: 0.0372834\n",
      "Time taken in motion_measure_latency: 0.0375445\n",
      "Time taken in motion_measure_latency: 0.0380359\n",
      "Time taken in motion_measure_latency: 0.0378802\n",
      "Time taken in motion_measure_latency: 0.0375097\n",
      "Time taken in motion_measure_latency: 0.0380325\n",
      "Time taken in motion_measure_latency: 0.0373445\n",
      "Time taken in motion_measure_latency: 0.0379434\n",
      "Time taken in motion_measure_latency: 0.0374889\n",
      "Time taken in motion_measure_latency: 0.0375900\n",
      "Time taken in motion_measure_latency: 0.0378702\n",
      "Time taken in motion_measure_latency: 0.0379863\n",
      "Time taken in motion_measure_latency: 0.0375423\n",
      "Time taken in motion_measure_latency: 0.0376687\n",
      "Time taken in motion_measure_latency: 0.0376329\n",
      "Time taken in motion_measure_latency: 0.0377371\n",
      "Time taken in motion_measure_latency: 0.0378830\n",
      "Time taken in motion_measure_latency: 0.0374856\n",
      "Time taken in motion_measure_latency: 0.0375078\n",
      "Time taken in motion_measure_latency: 0.0386598\n",
      "Time taken in motion_measure_latency: 0.0376139\n",
      "Time taken in motion_measure_latency: 0.0377557\n",
      "Time taken in motion_measure_latency: 0.0375724\n",
      "Time taken in motion_measure_latency: 0.0374041\n",
      "Time taken in motion_measure_latency: 0.0374894\n",
      "Time taken in motion_measure_latency: 0.0376675\n",
      "Time taken in motion_measure_latency: 0.0376570\n",
      "Time taken in motion_measure_latency: 0.0384626\n",
      "Time taken in motion_measure_latency: 0.0378876\n",
      "Time taken in motion_measure_latency: 0.0376019\n",
      "Time taken in motion_measure_latency: 0.0374405\n",
      "Time taken in motion_measure_latency: 0.0376952\n",
      "Time taken in motion_measure_latency: 0.0375025\n",
      "Time taken in motion_measure_latency: 0.0375988\n",
      "Time taken in motion_measure_latency: 0.0376232\n",
      "Time taken in motion_measure_latency: 0.0380628\n",
      "Time taken in motion_measure_latency: 0.0376647\n",
      "Time taken in motion_measure_latency: 0.0379026\n",
      "Time taken in motion_measure_latency: 0.0377793\n",
      "Time taken in motion_measure_latency: 0.0376651\n",
      "Time taken in motion_measure_latency: 0.0377736\n",
      "Time taken in motion_measure_latency: 0.0375924\n",
      "Time taken in motion_measure_latency: 0.0375259\n",
      "Time taken in motion_measure_latency: 0.0378749\n",
      "Time taken in motion_measure_latency: 0.0383248\n",
      "Time taken in motion_measure_latency: 0.0379560\n",
      "Time taken in motion_measure_latency: 0.0376132\n",
      "Time taken in motion_measure_latency: 0.0374312\n",
      "Time taken in motion_measure_latency: 0.0375135\n",
      "Time taken in motion_measure_latency: 0.0377276\n",
      "Time taken in motion_measure_latency: 0.0375392\n",
      "Time taken in motion_measure_latency: 0.0377915\n",
      "Time taken in motion_measure_latency: 0.0379059\n",
      "Time taken in motion_measure_latency: 0.0376873\n",
      "Time taken in motion_measure_latency: 0.0375278\n",
      "Time taken in motion_measure_latency: 0.0377643\n",
      "Time taken in motion_measure_latency: 0.0375457\n",
      "Time taken in motion_measure_latency: 0.0375628\n",
      "Time taken in motion_measure_latency: 0.0374339\n",
      "Time taken in motion_measure_latency: 0.0375860\n",
      "Time taken in motion_measure_latency: 0.0376985\n",
      "Time taken in motion_measure_latency: 0.0381150\n",
      "Time taken in motion_measure_latency: 0.0376840\n",
      "Time taken in motion_measure_latency: 0.0376036\n",
      "Time taken in motion_measure_latency: 0.0377553\n",
      "Time taken in motion_measure_latency: 0.0376210\n",
      "Time taken in motion_measure_latency: 0.0374589\n",
      "Time taken in motion_measure_latency: 0.0376000\n",
      "Time taken in motion_measure_latency: 0.0374913\n",
      "Time taken in motion_measure_latency: 0.0387292\n",
      "Time taken in motion_measure_latency: 0.0376136\n",
      "Time taken in motion_measure_latency: 0.0373414\n",
      "Time taken in motion_measure_latency: 0.0374203\n",
      "Time taken in motion_measure_latency: 0.0377936\n",
      "Time taken in motion_measure_latency: 0.0375142\n",
      "Time taken in motion_measure_latency: 0.0375781\n",
      "Time taken in motion_measure_latency: 0.0375741\n",
      "Time taken in motion_measure_latency: 0.0379982\n",
      "Time taken in motion_measure_latency: 0.0374770\n",
      "Time taken in motion_measure_latency: 0.0376613\n",
      "Time taken in motion_measure_latency: 0.0374691\n",
      "Time taken in motion_measure_latency: 0.0376315\n",
      "Time taken in motion_measure_latency: 0.0374982\n",
      "Time taken in motion_measure_latency: 0.0376666\n",
      "Time taken in motion_measure_latency: 0.0374825\n",
      "Time taken in motion_measure_latency: 0.0382454\n",
      "Time taken in motion_measure_latency: 0.0380778\n",
      "Time taken in motion_measure_latency: 0.0378232\n",
      "Time taken in motion_measure_latency: 0.0376036\n",
      "Time taken in motion_measure_latency: 0.0374589\n",
      "Time taken in motion_measure_latency: 0.0373712\n",
      "Time taken in motion_measure_latency: 0.0378399\n",
      "Time taken in motion_measure_latency: 0.0376356\n",
      "Time taken in motion_measure_latency: 0.0378761\n",
      "Time taken in motion_measure_latency: 0.0382462\n",
      "Time taken in motion_measure_latency: 0.0375216\n",
      "Time taken in motion_measure_latency: 0.0374217\n",
      "Time taken in motion_measure_latency: 0.0376124\n",
      "Time taken in motion_measure_latency: 0.0375679\n",
      "Time taken in motion_measure_latency: 0.0378029\n",
      "Time taken in motion_measure_latency: 0.0374830\n",
      "Time taken in motion_measure_latency: 0.0374234\n",
      "Time taken in motion_measure_latency: 0.0378633\n",
      "Time taken in motion_measure_latency: 0.0377777\n",
      "Time taken in motion_measure_latency: 0.0375307\n",
      "Time taken in motion_measure_latency: 0.0376666\n",
      "Time taken in motion_measure_latency: 0.0374320\n",
      "Time taken in motion_measure_latency: 0.0374439\n",
      "Time taken in motion_measure_latency: 0.0374537\n",
      "Time taken in motion_measure_latency: 0.0377557\n",
      "Time taken in motion_measure_latency: 0.0376067\n",
      "Time taken in motion_measure_latency: 0.0380602\n",
      "Time taken in motion_measure_latency: 0.0374377\n",
      "Time taken in motion_measure_latency: 0.0373919\n",
      "Time taken in motion_measure_latency: 0.0373394\n",
      "Time taken in motion_measure_latency: 0.0377364\n",
      "Time taken in motion_measure_latency: 0.0376561\n",
      "Time taken in motion_measure_latency: 0.0377185\n",
      "Time taken in motion_measure_latency: 0.0377874\n",
      "Time taken in motion_measure_latency: 0.0380583\n",
      "Time taken in motion_measure_latency: 0.0376394\n",
      "Time taken in motion_measure_latency: 0.0378115\n",
      "Time taken in motion_measure_latency: 0.0375042\n",
      "Time taken in motion_measure_latency: 0.0377429\n",
      "Time taken in motion_measure_latency: 0.0375221\n",
      "Time taken in motion_measure_latency: 0.0374446\n",
      "Time taken in motion_measure_latency: 0.0374882\n",
      "Time taken in motion_measure_latency: 0.0381317\n",
      "Time taken in motion_measure_latency: 0.0376837\n",
      "Time taken in motion_measure_latency: 0.0377321\n",
      "Time taken in motion_measure_latency: 0.0376110\n",
      "Time taken in motion_measure_latency: 0.0374935\n",
      "Time taken in motion_measure_latency: 0.0372791\n",
      "Time taken in motion_measure_latency: 0.0374846\n",
      "Time taken in motion_measure_latency: 0.0374968\n",
      "Time taken in motion_measure_latency: 0.0376704\n",
      "Time taken in motion_measure_latency: 0.0379446\n",
      "Time taken in motion_measure_latency: 0.0375297\n",
      "Time taken in motion_measure_latency: 0.0374944\n",
      "Time taken in motion_measure_latency: 0.0378013\n",
      "Time taken in motion_measure_latency: 0.0375364\n",
      "Time taken in motion_measure_latency: 0.0375617\n",
      "Time taken in motion_measure_latency: 0.0375514\n",
      "Time taken in motion_measure_latency: 0.0373023\n",
      "Time taken in motion_measure_latency: 0.0378387\n",
      "Time taken in motion_measure_latency: 0.0380652\n",
      "Time taken in motion_measure_latency: 0.0375087\n",
      "Time taken in motion_measure_latency: 0.0378585\n",
      "Time taken in motion_measure_latency: 0.0376091\n",
      "Time taken in motion_measure_latency: 0.0374076\n",
      "Time taken in motion_measure_latency: 0.0373440\n",
      "Time taken in motion_measure_latency: 0.0376196\n",
      "Time taken in motion_measure_latency: 0.0381932\n",
      "Time taken in motion_measure_latency: 0.0380819\n",
      "Time taken in motion_measure_latency: 0.0377891\n",
      "Time taken in motion_measure_latency: 0.0376635\n",
      "Time taken in motion_measure_latency: 0.0374086\n",
      "Time taken in motion_measure_latency: 0.0376925\n",
      "Time taken in motion_measure_latency: 0.0377393\n",
      "Time taken in motion_measure_latency: 0.0376737\n",
      "Time taken in motion_measure_latency: 0.0376513\n",
      "Time taken in motion_measure_latency: 0.0381317\n",
      "Time taken in motion_measure_latency: 0.0375721\n",
      "Time taken in motion_measure_latency: 0.0379159\n",
      "Time taken in motion_measure_latency: 0.0375583\n",
      "Time taken in motion_measure_latency: 0.0378280\n",
      "Time taken in motion_measure_latency: 0.0376101\n",
      "Time taken in motion_measure_latency: 0.0373857\n",
      "Time taken in motion_measure_latency: 0.0374241\n",
      "Time taken in motion_measure_latency: 0.0381691\n",
      "Time taken in motion_measure_latency: 0.0376856\n",
      "Time taken in motion_measure_latency: 0.0378768\n",
      "Time taken in motion_measure_latency: 0.0378513\n",
      "Time taken in motion_measure_latency: 0.0375247\n",
      "Time taken in motion_measure_latency: 0.0375445\n",
      "Time taken in motion_measure_latency: 0.0376072\n",
      "Time taken in motion_measure_latency: 0.0375874\n",
      "Time taken in motion_measure_latency: 0.0376680\n",
      "Time taken in motion_measure_latency: 0.0385108\n",
      "Time taken in motion_measure_latency: 0.0374641\n",
      "Time taken in motion_measure_latency: 0.0373952\n",
      "Time taken in motion_measure_latency: 0.0378540\n",
      "Time taken in motion_measure_latency: 0.0374377\n",
      "Time taken in motion_measure_latency: 0.0375342\n",
      "Time taken in motion_measure_latency: 0.0373230\n",
      "Time taken in motion_measure_latency: 0.0372903\n",
      "Time taken in motion_measure_latency: 0.0375621\n",
      "Time taken in motion_measure_latency: 0.0388708\n",
      "Time taken in motion_measure_latency: 0.0378251\n",
      "Time taken in motion_measure_latency: 0.0377769\n",
      "Time taken in motion_measure_latency: 0.0375605\n",
      "Time taken in motion_measure_latency: 0.0374260\n",
      "Time taken in motion_measure_latency: 0.0374637\n",
      "Time taken in motion_measure_latency: 0.0377278\n",
      "Time taken in motion_measure_latency: 0.0376179\n",
      "Time taken in motion_measure_latency: 0.0382528\n",
      "Time taken in motion_measure_latency: 0.0377672\n",
      "Time taken in motion_measure_latency: 0.0376964\n",
      "Time taken in motion_measure_latency: 0.0375791\n",
      "Time taken in motion_measure_latency: 0.0378375\n",
      "Time taken in motion_measure_latency: 0.0376751\n",
      "Time taken in motion_measure_latency: 0.0378599\n",
      "Time taken in motion_measure_latency: 0.0378599\n",
      "Time taken in motion_measure_latency: 0.0376055\n",
      "Time taken in motion_measure_latency: 0.0378940\n",
      "Time taken in motion_measure_latency: 0.0378556\n",
      "Time taken in motion_measure_latency: 0.0376563\n",
      "Time taken in motion_measure_latency: 0.0377352\n",
      "Time taken in motion_measure_latency: 0.0377233\n",
      "Time taken in motion_measure_latency: 0.0374007\n",
      "Time taken in motion_measure_latency: 0.0373564\n",
      "Time taken in motion_measure_latency: 0.0378790\n",
      "Time taken in motion_measure_latency: 0.0380616\n",
      "Time taken in motion_measure_latency: 0.0378809\n",
      "Time taken in motion_measure_latency: 0.0377035\n",
      "Time taken in motion_measure_latency: 0.0375326\n",
      "Time taken in motion_measure_latency: 0.0376804\n",
      "Time taken in motion_measure_latency: 0.0379758\n",
      "Time taken in motion_measure_latency: 0.0377383\n",
      "Time taken in motion_measure_latency: 0.0379038\n",
      "Time taken in motion_measure_latency: 0.0379622\n",
      "Time taken in motion_measure_latency: 0.0377262\n",
      "Time taken in motion_measure_latency: 0.0375481\n",
      "Time taken in motion_measure_latency: 0.0379608\n",
      "Time taken in motion_measure_latency: 0.0377102\n",
      "Time taken in motion_measure_latency: 0.0378428\n",
      "Time taken in motion_measure_latency: 0.0377252\n",
      "Time taken in motion_measure_latency: 0.0378828\n",
      "Time taken in motion_measure_latency: 0.0379019\n",
      "Time taken in motion_measure_latency: 0.0388272\n",
      "Time taken in motion_measure_latency: 0.0384731\n",
      "Time taken in motion_measure_latency: 0.0387955\n",
      "Time taken in motion_measure_latency: 0.0384634\n",
      "Time taken in motion_measure_latency: 0.0381532\n",
      "Time taken in motion_measure_latency: 0.0378785\n",
      "Time taken in motion_measure_latency: 0.0382609\n",
      "Time taken in motion_measure_latency: 0.0379992\n",
      "Time taken in motion_measure_latency: 0.0387285\n",
      "Time taken in motion_measure_latency: 0.0381036\n",
      "Time taken in motion_measure_latency: 0.0378535\n",
      "Time taken in motion_measure_latency: 0.0380993\n",
      "Time taken in motion_measure_latency: 0.0381467\n",
      "Time taken in motion_measure_latency: 0.0381670\n",
      "Time taken in motion_measure_latency: 0.0383828\n",
      "Time taken in motion_measure_latency: 0.0381689\n",
      "Time taken in motion_measure_latency: 0.0387540\n",
      "Time taken in motion_measure_latency: 0.0380840\n",
      "Time taken in motion_measure_latency: 0.0383422\n",
      "Time taken in motion_measure_latency: 0.0382767\n",
      "Time taken in motion_measure_latency: 0.0381634\n",
      "Time taken in motion_measure_latency: 0.0381930\n",
      "Time taken in motion_measure_latency: 0.0380564\n",
      "Time taken in motion_measure_latency: 0.0380051\n",
      "Time taken in motion_measure_latency: 0.0386810\n",
      "Time taken in motion_measure_latency: 0.0384452\n",
      "Time taken in motion_measure_latency: 0.0382347\n",
      "Time taken in motion_measure_latency: 0.0380998\n",
      "Time taken in motion_measure_latency: 0.0379310\n",
      "Time taken in motion_measure_latency: 0.0379374\n",
      "Time taken in motion_measure_latency: 0.0382583\n",
      "Time taken in motion_measure_latency: 0.0379982\n",
      "Time taken in motion_measure_latency: 0.0382459\n",
      "Time taken in motion_measure_latency: 0.0384388\n",
      "Time taken in motion_measure_latency: 0.0379906\n",
      "Time taken in motion_measure_latency: 0.0380228\n",
      "Time taken in motion_measure_latency: 0.0381398\n",
      "Time taken in motion_measure_latency: 0.0380297\n",
      "Time taken in motion_measure_latency: 0.0380704\n",
      "Time taken in motion_measure_latency: 0.0380046\n",
      "Time taken in motion_measure_latency: 0.0379429\n",
      "Time taken in motion_measure_latency: 0.0383763\n",
      "Time taken in motion_measure_latency: 0.0383525\n",
      "Time taken in motion_measure_latency: 0.0381286\n",
      "Time taken in motion_measure_latency: 0.0382130\n",
      "Time taken in motion_measure_latency: 0.0381606\n",
      "Time taken in motion_measure_latency: 0.0378556\n",
      "Time taken in motion_measure_latency: 0.0383191\n"
     ]
    }
   ],
   "source": [
    "# Generate random RGB image data\n",
    "image_list = [np.random.randint(0, 256, (75, 75, 3), dtype=np.uint8) for i in range(4)]\n",
    "for i in range(1000):\n",
    "    motion_measure_latency(image_list)"
   ]
  },
  {
   "cell_type": "code",
   "execution_count": null,
   "id": "306c48a3",
   "metadata": {},
   "outputs": [
    {
     "name": "stdout",
     "output_type": "stream",
     "text": [
      "Time taken in motion_measure_latency: 0.0500073\n",
      "Time taken in motion_measure_latency: 0.0501926\n",
      "Time taken in motion_measure_latency: 0.0493708\n",
      "Time taken in motion_measure_latency: 0.0490484\n",
      "Time taken in motion_measure_latency: 0.0492318\n",
      "Time taken in motion_measure_latency: 0.0497720\n",
      "Time taken in motion_measure_latency: 0.0498037\n",
      "Time taken in motion_measure_latency: 0.0495512\n",
      "Time taken in motion_measure_latency: 0.0492113\n",
      "Time taken in motion_measure_latency: 0.0491459\n",
      "Time taken in motion_measure_latency: 0.0498028\n",
      "Time taken in motion_measure_latency: 0.0497510\n",
      "Time taken in motion_measure_latency: 0.0494258\n",
      "Time taken in motion_measure_latency: 0.0493698\n",
      "Time taken in motion_measure_latency: 0.0492198\n",
      "Time taken in motion_measure_latency: 0.0495706\n",
      "Time taken in motion_measure_latency: 0.0495234\n",
      "Time taken in motion_measure_latency: 0.0491002\n",
      "Time taken in motion_measure_latency: 0.0491047\n",
      "Time taken in motion_measure_latency: 0.0490704\n",
      "Time taken in motion_measure_latency: 0.0503378\n",
      "Time taken in motion_measure_latency: 0.0497053\n",
      "Time taken in motion_measure_latency: 0.0494914\n",
      "Time taken in motion_measure_latency: 0.0489352\n",
      "Time taken in motion_measure_latency: 0.0489287\n",
      "Time taken in motion_measure_latency: 0.0491054\n",
      "Time taken in motion_measure_latency: 0.0499425\n",
      "Time taken in motion_measure_latency: 0.0489857\n",
      "Time taken in motion_measure_latency: 0.0489409\n",
      "Time taken in motion_measure_latency: 0.0488441\n",
      "Time taken in motion_measure_latency: 0.0494499\n",
      "Time taken in motion_measure_latency: 0.0494468\n",
      "Time taken in motion_measure_latency: 0.0492802\n",
      "Time taken in motion_measure_latency: 0.0494690\n",
      "Time taken in motion_measure_latency: 0.0492737\n",
      "Time taken in motion_measure_latency: 0.0494387\n",
      "Time taken in motion_measure_latency: 0.0493188\n",
      "Time taken in motion_measure_latency: 0.0489514\n",
      "Time taken in motion_measure_latency: 0.0489218\n",
      "Time taken in motion_measure_latency: 0.0495374\n",
      "Time taken in motion_measure_latency: 0.0493720\n",
      "Time taken in motion_measure_latency: 0.0494714\n",
      "Time taken in motion_measure_latency: 0.0494843\n",
      "Time taken in motion_measure_latency: 0.0488138\n",
      "Time taken in motion_measure_latency: 0.0490012\n",
      "Time taken in motion_measure_latency: 0.0496392\n",
      "Time taken in motion_measure_latency: 0.0494819\n",
      "Time taken in motion_measure_latency: 0.0492375\n",
      "Time taken in motion_measure_latency: 0.0489562\n",
      "Time taken in motion_measure_latency: 0.0489352\n",
      "Time taken in motion_measure_latency: 0.0494370\n",
      "Time taken in motion_measure_latency: 0.0492988\n",
      "Time taken in motion_measure_latency: 0.0494659\n",
      "Time taken in motion_measure_latency: 0.0491941\n",
      "Time taken in motion_measure_latency: 0.0492408\n",
      "Time taken in motion_measure_latency: 0.0494199\n",
      "Time taken in motion_measure_latency: 0.0493751\n",
      "Time taken in motion_measure_latency: 0.0491912\n",
      "Time taken in motion_measure_latency: 0.0492389\n",
      "Time taken in motion_measure_latency: 0.0491002\n",
      "Time taken in motion_measure_latency: 0.0493934\n",
      "Time taken in motion_measure_latency: 0.0494061\n",
      "Time taken in motion_measure_latency: 0.0492280\n",
      "Time taken in motion_measure_latency: 0.0491395\n",
      "Time taken in motion_measure_latency: 0.0489323\n",
      "Time taken in motion_measure_latency: 0.0497730\n",
      "Time taken in motion_measure_latency: 0.0494063\n",
      "Time taken in motion_measure_latency: 0.0493245\n",
      "Time taken in motion_measure_latency: 0.0490179\n",
      "Time taken in motion_measure_latency: 0.0491374\n",
      "Time taken in motion_measure_latency: 0.0493536\n",
      "Time taken in motion_measure_latency: 0.0499973\n",
      "Time taken in motion_measure_latency: 0.0490394\n",
      "Time taken in motion_measure_latency: 0.0490248\n",
      "Time taken in motion_measure_latency: 0.0490828\n",
      "Time taken in motion_measure_latency: 0.0493553\n",
      "Time taken in motion_measure_latency: 0.0493357\n",
      "Time taken in motion_measure_latency: 0.0494764\n",
      "Time taken in motion_measure_latency: 0.0489547\n",
      "Time taken in motion_measure_latency: 0.0489340\n",
      "Time taken in motion_measure_latency: 0.0492041\n",
      "Time taken in motion_measure_latency: 0.0493724\n",
      "Time taken in motion_measure_latency: 0.0491962\n",
      "Time taken in motion_measure_latency: 0.0494883\n",
      "Time taken in motion_measure_latency: 0.0495682\n",
      "Time taken in motion_measure_latency: 0.0495996\n",
      "Time taken in motion_measure_latency: 0.0492120\n",
      "Time taken in motion_measure_latency: 0.0491023\n",
      "Time taken in motion_measure_latency: 0.0490539\n",
      "Time taken in motion_measure_latency: 0.0489476\n",
      "Time taken in motion_measure_latency: 0.0496159\n",
      "Time taken in motion_measure_latency: 0.0495553\n",
      "Time taken in motion_measure_latency: 0.0489867\n",
      "Time taken in motion_measure_latency: 0.0489194\n",
      "Time taken in motion_measure_latency: 0.0488954\n",
      "Time taken in motion_measure_latency: 0.0493493\n",
      "Time taken in motion_measure_latency: 0.0494571\n",
      "Time taken in motion_measure_latency: 0.0494604\n",
      "Time taken in motion_measure_latency: 0.0488808\n",
      "Time taken in motion_measure_latency: 0.0490766\n",
      "Time taken in motion_measure_latency: 0.0492992\n",
      "Time taken in motion_measure_latency: 0.0494225\n",
      "Time taken in motion_measure_latency: 0.0487750\n",
      "Time taken in motion_measure_latency: 0.0495055\n",
      "Time taken in motion_measure_latency: 0.0490375\n",
      "Time taken in motion_measure_latency: 0.0492070\n",
      "Time taken in motion_measure_latency: 0.0492196\n",
      "Time taken in motion_measure_latency: 0.0489752\n",
      "Time taken in motion_measure_latency: 0.0489707\n",
      "Time taken in motion_measure_latency: 0.0493302\n",
      "Time taken in motion_measure_latency: 0.0494871\n",
      "Time taken in motion_measure_latency: 0.0492785\n",
      "Time taken in motion_measure_latency: 0.0487611\n",
      "Time taken in motion_measure_latency: 0.0486627\n",
      "Time taken in motion_measure_latency: 0.0487416\n",
      "Time taken in motion_measure_latency: 0.0491912\n",
      "Time taken in motion_measure_latency: 0.0501106\n",
      "Time taken in motion_measure_latency: 0.0489850\n",
      "Time taken in motion_measure_latency: 0.0488906\n",
      "Time taken in motion_measure_latency: 0.0489020\n",
      "Time taken in motion_measure_latency: 0.0492072\n",
      "Time taken in motion_measure_latency: 0.0492563\n",
      "Time taken in motion_measure_latency: 0.0495527\n",
      "Time taken in motion_measure_latency: 0.0490613\n",
      "Time taken in motion_measure_latency: 0.0491488\n",
      "Time taken in motion_measure_latency: 0.0491941\n",
      "Time taken in motion_measure_latency: 0.0493107\n",
      "Time taken in motion_measure_latency: 0.0489297\n",
      "Time taken in motion_measure_latency: 0.0492702\n",
      "Time taken in motion_measure_latency: 0.0492358\n",
      "Time taken in motion_measure_latency: 0.0492141\n",
      "Time taken in motion_measure_latency: 0.0491431\n",
      "Time taken in motion_measure_latency: 0.0490980\n",
      "Time taken in motion_measure_latency: 0.0488126\n",
      "Time taken in motion_measure_latency: 0.0489645\n",
      "Time taken in motion_measure_latency: 0.0496390\n",
      "Time taken in motion_measure_latency: 0.0494058\n",
      "Time taken in motion_measure_latency: 0.0490313\n",
      "Time taken in motion_measure_latency: 0.0488873\n",
      "Time taken in motion_measure_latency: 0.0488482\n",
      "Time taken in motion_measure_latency: 0.0490875\n",
      "Time taken in motion_measure_latency: 0.0496061\n",
      "Time taken in motion_measure_latency: 0.0489705\n",
      "Time taken in motion_measure_latency: 0.0486772\n",
      "Time taken in motion_measure_latency: 0.0490689\n",
      "Time taken in motion_measure_latency: 0.0495181\n",
      "Time taken in motion_measure_latency: 0.0493059\n",
      "Time taken in motion_measure_latency: 0.0488610\n",
      "Time taken in motion_measure_latency: 0.0496747\n",
      "Time taken in motion_measure_latency: 0.0490365\n",
      "Time taken in motion_measure_latency: 0.0492566\n",
      "Time taken in motion_measure_latency: 0.0493319\n",
      "Time taken in motion_measure_latency: 0.0489640\n",
      "Time taken in motion_measure_latency: 0.0489597\n",
      "Time taken in motion_measure_latency: 0.0495203\n",
      "Time taken in motion_measure_latency: 0.0495274\n",
      "Time taken in motion_measure_latency: 0.0494547\n",
      "Time taken in motion_measure_latency: 0.0491314\n",
      "Time taken in motion_measure_latency: 0.0489364\n",
      "Time taken in motion_measure_latency: 0.0489969\n",
      "Time taken in motion_measure_latency: 0.0493274\n",
      "Time taken in motion_measure_latency: 0.0498581\n",
      "Time taken in motion_measure_latency: 0.0491447\n",
      "Time taken in motion_measure_latency: 0.0488493\n",
      "Time taken in motion_measure_latency: 0.0490496\n",
      "Time taken in motion_measure_latency: 0.0494645\n",
      "Time taken in motion_measure_latency: 0.0493987\n",
      "Time taken in motion_measure_latency: 0.0496831\n",
      "Time taken in motion_measure_latency: 0.0489833\n",
      "Time taken in motion_measure_latency: 0.0491965\n",
      "Time taken in motion_measure_latency: 0.0492363\n",
      "Time taken in motion_measure_latency: 0.0493805\n",
      "Time taken in motion_measure_latency: 0.0489538\n",
      "Time taken in motion_measure_latency: 0.0493543\n",
      "Time taken in motion_measure_latency: 0.0489378\n",
      "Time taken in motion_measure_latency: 0.0493345\n",
      "Time taken in motion_measure_latency: 0.0493491\n",
      "Time taken in motion_measure_latency: 0.0488908\n",
      "Time taken in motion_measure_latency: 0.0488727\n",
      "Time taken in motion_measure_latency: 0.0491071\n",
      "Time taken in motion_measure_latency: 0.0497367\n",
      "Time taken in motion_measure_latency: 0.0492895\n",
      "Time taken in motion_measure_latency: 0.0490212\n",
      "Time taken in motion_measure_latency: 0.0490587\n",
      "Time taken in motion_measure_latency: 0.0488992\n",
      "Time taken in motion_measure_latency: 0.0495625\n",
      "Time taken in motion_measure_latency: 0.0501337\n",
      "Time taken in motion_measure_latency: 0.0491910\n",
      "Time taken in motion_measure_latency: 0.0487549\n",
      "Time taken in motion_measure_latency: 0.0489058\n",
      "Time taken in motion_measure_latency: 0.0492542\n",
      "Time taken in motion_measure_latency: 0.0491683\n",
      "Time taken in motion_measure_latency: 0.0491691\n",
      "Time taken in motion_measure_latency: 0.0492024\n",
      "Time taken in motion_measure_latency: 0.0490587\n",
      "Time taken in motion_measure_latency: 0.0494275\n",
      "Time taken in motion_measure_latency: 0.0496144\n",
      "Time taken in motion_measure_latency: 0.0492070\n",
      "Time taken in motion_measure_latency: 0.0489616\n",
      "Time taken in motion_measure_latency: 0.0496390\n",
      "Time taken in motion_measure_latency: 0.0494366\n",
      "Time taken in motion_measure_latency: 0.0493624\n",
      "Time taken in motion_measure_latency: 0.0490286\n",
      "Time taken in motion_measure_latency: 0.0489652\n",
      "Time taken in motion_measure_latency: 0.0489237\n",
      "Time taken in motion_measure_latency: 0.0497456\n",
      "Time taken in motion_measure_latency: 0.0496795\n",
      "Time taken in motion_measure_latency: 0.0496089\n",
      "Time taken in motion_measure_latency: 0.0488479\n",
      "Time taken in motion_measure_latency: 0.0489531\n",
      "Time taken in motion_measure_latency: 0.0494177\n",
      "Time taken in motion_measure_latency: 0.0492723\n",
      "Time taken in motion_measure_latency: 0.0493541\n",
      "Time taken in motion_measure_latency: 0.0489411\n",
      "Time taken in motion_measure_latency: 0.0489566\n",
      "Time taken in motion_measure_latency: 0.0493500\n",
      "Time taken in motion_measure_latency: 0.0493598\n",
      "Time taken in motion_measure_latency: 0.0489569\n",
      "Time taken in motion_measure_latency: 0.0494101\n",
      "Time taken in motion_measure_latency: 0.0490756\n",
      "Time taken in motion_measure_latency: 0.0493028\n",
      "Time taken in motion_measure_latency: 0.0494835\n",
      "Time taken in motion_measure_latency: 0.0490911\n",
      "Time taken in motion_measure_latency: 0.0489132\n",
      "Time taken in motion_measure_latency: 0.0495567\n",
      "Time taken in motion_measure_latency: 0.0495305\n",
      "Time taken in motion_measure_latency: 0.0500209\n",
      "Time taken in motion_measure_latency: 0.0487888\n",
      "Time taken in motion_measure_latency: 0.0484302\n",
      "Time taken in motion_measure_latency: 0.0489895\n",
      "Time taken in motion_measure_latency: 0.0490668\n",
      "Time taken in motion_measure_latency: 0.0496132\n",
      "Time taken in motion_measure_latency: 0.0487502\n",
      "Time taken in motion_measure_latency: 0.0487003\n",
      "Time taken in motion_measure_latency: 0.0486209\n",
      "Time taken in motion_measure_latency: 0.0487959\n",
      "Time taken in motion_measure_latency: 0.0491800\n",
      "Time taken in motion_measure_latency: 0.0490389\n",
      "Time taken in motion_measure_latency: 0.0501888\n",
      "Time taken in motion_measure_latency: 0.0489159\n",
      "Time taken in motion_measure_latency: 0.0490699\n",
      "Time taken in motion_measure_latency: 0.0488763\n",
      "Time taken in motion_measure_latency: 0.0485613\n",
      "Time taken in motion_measure_latency: 0.0484569\n",
      "Time taken in motion_measure_latency: 0.0491450\n",
      "Time taken in motion_measure_latency: 0.0489397\n",
      "Time taken in motion_measure_latency: 0.0492713\n",
      "Time taken in motion_measure_latency: 0.0488806\n",
      "Time taken in motion_measure_latency: 0.0496628\n",
      "Time taken in motion_measure_latency: 0.0488458\n",
      "Time taken in motion_measure_latency: 0.0491743\n",
      "Time taken in motion_measure_latency: 0.0495312\n",
      "Time taken in motion_measure_latency: 0.0486751\n",
      "Time taken in motion_measure_latency: 0.0487902\n",
      "Time taken in motion_measure_latency: 0.0486321\n",
      "Time taken in motion_measure_latency: 0.0488820\n",
      "Time taken in motion_measure_latency: 0.0492158\n",
      "Time taken in motion_measure_latency: 0.0492806\n",
      "Time taken in motion_measure_latency: 0.0485423\n",
      "Time taken in motion_measure_latency: 0.0485978\n",
      "Time taken in motion_measure_latency: 0.0490243\n",
      "Time taken in motion_measure_latency: 0.0488982\n",
      "Time taken in motion_measure_latency: 0.0487511\n",
      "Time taken in motion_measure_latency: 0.0492098\n",
      "Time taken in motion_measure_latency: 0.0486851\n",
      "Time taken in motion_measure_latency: 0.0487607\n",
      "Time taken in motion_measure_latency: 0.0488980\n",
      "Time taken in motion_measure_latency: 0.0489571\n",
      "Time taken in motion_measure_latency: 0.0484793\n",
      "Time taken in motion_measure_latency: 0.0485325\n",
      "Time taken in motion_measure_latency: 0.0494320\n",
      "Time taken in motion_measure_latency: 0.0489604\n",
      "Time taken in motion_measure_latency: 0.0484962\n",
      "Time taken in motion_measure_latency: 0.0483902\n",
      "Time taken in motion_measure_latency: 0.0483105\n",
      "Time taken in motion_measure_latency: 0.0487025\n",
      "Time taken in motion_measure_latency: 0.0490737\n",
      "Time taken in motion_measure_latency: 0.0487456\n",
      "Time taken in motion_measure_latency: 0.0483918\n",
      "Time taken in motion_measure_latency: 0.0485020\n",
      "Time taken in motion_measure_latency: 0.0486600\n",
      "Time taken in motion_measure_latency: 0.0487103\n",
      "Time taken in motion_measure_latency: 0.0485609\n",
      "Time taken in motion_measure_latency: 0.0488861\n",
      "Time taken in motion_measure_latency: 0.0487685\n",
      "Time taken in motion_measure_latency: 0.0489080\n",
      "Time taken in motion_measure_latency: 0.0489044\n",
      "Time taken in motion_measure_latency: 0.0488427\n",
      "Time taken in motion_measure_latency: 0.0487823\n",
      "Time taken in motion_measure_latency: 0.0492826\n",
      "Time taken in motion_measure_latency: 0.0490763\n",
      "Time taken in motion_measure_latency: 0.0490637\n",
      "Time taken in motion_measure_latency: 0.0486696\n",
      "Time taken in motion_measure_latency: 0.0484502\n",
      "Time taken in motion_measure_latency: 0.0485556\n",
      "Time taken in motion_measure_latency: 0.0489728\n",
      "Time taken in motion_measure_latency: 0.0495222\n",
      "Time taken in motion_measure_latency: 0.0485606\n",
      "Time taken in motion_measure_latency: 0.0483992\n",
      "Time taken in motion_measure_latency: 0.0484030\n",
      "Time taken in motion_measure_latency: 0.0487895\n",
      "Time taken in motion_measure_latency: 0.0490732\n",
      "Time taken in motion_measure_latency: 0.0496073\n",
      "Time taken in motion_measure_latency: 0.0488150\n",
      "Time taken in motion_measure_latency: 0.0486577\n",
      "Time taken in motion_measure_latency: 0.0488336\n",
      "Time taken in motion_measure_latency: 0.0488145\n",
      "Time taken in motion_measure_latency: 0.0486541\n",
      "Time taken in motion_measure_latency: 0.0489733\n",
      "Time taken in motion_measure_latency: 0.0487380\n",
      "Time taken in motion_measure_latency: 0.0491369\n",
      "Time taken in motion_measure_latency: 0.0489748\n",
      "Time taken in motion_measure_latency: 0.0488172\n",
      "Time taken in motion_measure_latency: 0.0484631\n",
      "Time taken in motion_measure_latency: 0.0484757\n",
      "Time taken in motion_measure_latency: 0.0493114\n",
      "Time taken in motion_measure_latency: 0.0491374\n",
      "Time taken in motion_measure_latency: 0.0486085\n",
      "Time taken in motion_measure_latency: 0.0486095\n",
      "Time taken in motion_measure_latency: 0.0483677\n",
      "Time taken in motion_measure_latency: 0.0488200\n",
      "Time taken in motion_measure_latency: 0.0492036\n",
      "Time taken in motion_measure_latency: 0.0488169\n",
      "Time taken in motion_measure_latency: 0.0488081\n",
      "Time taken in motion_measure_latency: 0.0484951\n",
      "Time taken in motion_measure_latency: 0.0488031\n",
      "Time taken in motion_measure_latency: 0.0488636\n",
      "Time taken in motion_measure_latency: 0.0486381\n",
      "Time taken in motion_measure_latency: 0.0490472\n",
      "Time taken in motion_measure_latency: 0.0487099\n",
      "Time taken in motion_measure_latency: 0.0487466\n",
      "Time taken in motion_measure_latency: 0.0487874\n",
      "Time taken in motion_measure_latency: 0.0485823\n",
      "Time taken in motion_measure_latency: 0.0484700\n",
      "Time taken in motion_measure_latency: 0.0486336\n",
      "Time taken in motion_measure_latency: 0.0488377\n",
      "Time taken in motion_measure_latency: 0.0488133\n",
      "Time taken in motion_measure_latency: 0.0487223\n",
      "Time taken in motion_measure_latency: 0.0486484\n",
      "Time taken in motion_measure_latency: 0.0484095\n",
      "Time taken in motion_measure_latency: 0.0488648\n",
      "Time taken in motion_measure_latency: 0.0493855\n",
      "Time taken in motion_measure_latency: 0.0488605\n",
      "Time taken in motion_measure_latency: 0.0486708\n",
      "Time taken in motion_measure_latency: 0.0486786\n",
      "Time taken in motion_measure_latency: 0.0489786\n",
      "Time taken in motion_measure_latency: 0.0491014\n",
      "Time taken in motion_measure_latency: 0.0493038\n",
      "Time taken in motion_measure_latency: 0.0486243\n",
      "Time taken in motion_measure_latency: 0.0486333\n",
      "Time taken in motion_measure_latency: 0.0490131\n",
      "Time taken in motion_measure_latency: 0.0490322\n",
      "Time taken in motion_measure_latency: 0.0488517\n",
      "Time taken in motion_measure_latency: 0.0489326\n",
      "Time taken in motion_measure_latency: 0.0490119\n",
      "Time taken in motion_measure_latency: 0.0488200\n",
      "Time taken in motion_measure_latency: 0.0490372\n",
      "Time taken in motion_measure_latency: 0.0487757\n",
      "Time taken in motion_measure_latency: 0.0487692\n",
      "Time taken in motion_measure_latency: 0.0485883\n",
      "Time taken in motion_measure_latency: 0.0491636\n",
      "Time taken in motion_measure_latency: 0.0495574\n",
      "Time taken in motion_measure_latency: 0.0487294\n",
      "Time taken in motion_measure_latency: 0.0487688\n",
      "Time taken in motion_measure_latency: 0.0485137\n",
      "Time taken in motion_measure_latency: 0.0493350\n",
      "Time taken in motion_measure_latency: 0.0493619\n",
      "Time taken in motion_measure_latency: 0.0491967\n",
      "Time taken in motion_measure_latency: 0.0487149\n",
      "Time taken in motion_measure_latency: 0.0487809\n",
      "Time taken in motion_measure_latency: 0.0494919\n",
      "Time taken in motion_measure_latency: 0.0492690\n",
      "Time taken in motion_measure_latency: 0.0489924\n",
      "Time taken in motion_measure_latency: 0.0493550\n",
      "Time taken in motion_measure_latency: 0.0489342\n",
      "Time taken in motion_measure_latency: 0.0492630\n",
      "Time taken in motion_measure_latency: 0.0491662\n",
      "Time taken in motion_measure_latency: 0.0488153\n",
      "Time taken in motion_measure_latency: 0.0489006\n",
      "Time taken in motion_measure_latency: 0.0490177\n",
      "Time taken in motion_measure_latency: 0.0493288\n",
      "Time taken in motion_measure_latency: 0.0493598\n",
      "Time taken in motion_measure_latency: 0.0488493\n",
      "Time taken in motion_measure_latency: 0.0486732\n",
      "Time taken in motion_measure_latency: 0.0488083\n",
      "Time taken in motion_measure_latency: 0.0490499\n",
      "Time taken in motion_measure_latency: 0.0497303\n",
      "Time taken in motion_measure_latency: 0.0487185\n",
      "Time taken in motion_measure_latency: 0.0487182\n",
      "Time taken in motion_measure_latency: 0.0487320\n",
      "Time taken in motion_measure_latency: 0.0494220\n",
      "Time taken in motion_measure_latency: 0.0492041\n",
      "Time taken in motion_measure_latency: 0.0493624\n",
      "Time taken in motion_measure_latency: 0.0487654\n",
      "Time taken in motion_measure_latency: 0.0487416\n",
      "Time taken in motion_measure_latency: 0.0491152\n",
      "Time taken in motion_measure_latency: 0.0490515\n",
      "Time taken in motion_measure_latency: 0.0485339\n",
      "Time taken in motion_measure_latency: 0.0485270\n",
      "Time taken in motion_measure_latency: 0.0488763\n",
      "Time taken in motion_measure_latency: 0.0491652\n",
      "Time taken in motion_measure_latency: 0.0490315\n",
      "Time taken in motion_measure_latency: 0.0485773\n",
      "Time taken in motion_measure_latency: 0.0484898\n",
      "Time taken in motion_measure_latency: 0.0485449\n",
      "Time taken in motion_measure_latency: 0.0495639\n",
      "Time taken in motion_measure_latency: 0.0494542\n",
      "Time taken in motion_measure_latency: 0.0486610\n",
      "Time taken in motion_measure_latency: 0.0487504\n",
      "Time taken in motion_measure_latency: 0.0485744\n",
      "Time taken in motion_measure_latency: 0.0491970\n",
      "Time taken in motion_measure_latency: 0.0498559\n",
      "Time taken in motion_measure_latency: 0.0492897\n",
      "Time taken in motion_measure_latency: 0.0489099\n",
      "Time taken in motion_measure_latency: 0.0489421\n",
      "Time taken in motion_measure_latency: 0.0494301\n",
      "Time taken in motion_measure_latency: 0.0497091\n",
      "Time taken in motion_measure_latency: 0.0491588\n",
      "Time taken in motion_measure_latency: 0.0490937\n",
      "Time taken in motion_measure_latency: 0.0487411\n",
      "Time taken in motion_measure_latency: 0.0492625\n",
      "Time taken in motion_measure_latency: 0.0491164\n",
      "Time taken in motion_measure_latency: 0.0485888\n",
      "Time taken in motion_measure_latency: 0.0487893\n",
      "Time taken in motion_measure_latency: 0.0489728\n",
      "Time taken in motion_measure_latency: 0.0494881\n",
      "Time taken in motion_measure_latency: 0.0489547\n",
      "Time taken in motion_measure_latency: 0.0488741\n",
      "Time taken in motion_measure_latency: 0.0488133\n",
      "Time taken in motion_measure_latency: 0.0492885\n",
      "Time taken in motion_measure_latency: 0.0493751\n",
      "Time taken in motion_measure_latency: 0.0497937\n",
      "Time taken in motion_measure_latency: 0.0488210\n",
      "Time taken in motion_measure_latency: 0.0487409\n",
      "Time taken in motion_measure_latency: 0.0488079\n",
      "Time taken in motion_measure_latency: 0.0493782\n",
      "Time taken in motion_measure_latency: 0.0492201\n",
      "Time taken in motion_measure_latency: 0.0492978\n",
      "Time taken in motion_measure_latency: 0.0487607\n",
      "Time taken in motion_measure_latency: 0.0485117\n",
      "Time taken in motion_measure_latency: 0.0489056\n",
      "Time taken in motion_measure_latency: 0.0494044\n",
      "Time taken in motion_measure_latency: 0.0488172\n",
      "Time taken in motion_measure_latency: 0.0487187\n",
      "Time taken in motion_measure_latency: 0.0491254\n",
      "Time taken in motion_measure_latency: 0.0488720\n",
      "Time taken in motion_measure_latency: 0.0488999\n",
      "Time taken in motion_measure_latency: 0.0486884\n",
      "Time taken in motion_measure_latency: 0.0486655\n",
      "Time taken in motion_measure_latency: 0.0486104\n",
      "Time taken in motion_measure_latency: 0.0493457\n",
      "Time taken in motion_measure_latency: 0.0490513\n",
      "Time taken in motion_measure_latency: 0.0489583\n",
      "Time taken in motion_measure_latency: 0.0486732\n",
      "Time taken in motion_measure_latency: 0.0487769\n",
      "Time taken in motion_measure_latency: 0.0489767\n",
      "Time taken in motion_measure_latency: 0.0492268\n",
      "Time taken in motion_measure_latency: 0.0488219\n",
      "Time taken in motion_measure_latency: 0.0486054\n",
      "Time taken in motion_measure_latency: 0.0484757\n",
      "Time taken in motion_measure_latency: 0.0487528\n",
      "Time taken in motion_measure_latency: 0.0487108\n",
      "Time taken in motion_measure_latency: 0.0486009\n",
      "Time taken in motion_measure_latency: 0.0489168\n",
      "Time taken in motion_measure_latency: 0.0483978\n",
      "Time taken in motion_measure_latency: 0.0487809\n",
      "Time taken in motion_measure_latency: 0.0487325\n",
      "Time taken in motion_measure_latency: 0.0484495\n",
      "Time taken in motion_measure_latency: 0.0485225\n",
      "Time taken in motion_measure_latency: 0.0489082\n",
      "Time taken in motion_measure_latency: 0.0490775\n",
      "Time taken in motion_measure_latency: 0.0491652\n",
      "Time taken in motion_measure_latency: 0.0487785\n",
      "Time taken in motion_measure_latency: 0.0488241\n",
      "Time taken in motion_measure_latency: 0.0488179\n",
      "Time taken in motion_measure_latency: 0.0492194\n",
      "Time taken in motion_measure_latency: 0.0495379\n",
      "Time taken in motion_measure_latency: 0.0489399\n",
      "Time taken in motion_measure_latency: 0.0486531\n",
      "Time taken in motion_measure_latency: 0.0487132\n",
      "Time taken in motion_measure_latency: 0.0490239\n",
      "Time taken in motion_measure_latency: 0.0491276\n",
      "Time taken in motion_measure_latency: 0.0491276\n",
      "Time taken in motion_measure_latency: 0.0489910\n",
      "Time taken in motion_measure_latency: 0.0487311\n",
      "Time taken in motion_measure_latency: 0.0490923\n",
      "Time taken in motion_measure_latency: 0.0491259\n",
      "Time taken in motion_measure_latency: 0.0488665\n",
      "Time taken in motion_measure_latency: 0.0486515\n",
      "Time taken in motion_measure_latency: 0.0491922\n",
      "Time taken in motion_measure_latency: 0.0490499\n",
      "Time taken in motion_measure_latency: 0.0491829\n",
      "Time taken in motion_measure_latency: 0.0489702\n",
      "Time taken in motion_measure_latency: 0.0489955\n",
      "Time taken in motion_measure_latency: 0.0488355\n",
      "Time taken in motion_measure_latency: 0.0495372\n",
      "Time taken in motion_measure_latency: 0.0491252\n",
      "Time taken in motion_measure_latency: 0.0488422\n",
      "Time taken in motion_measure_latency: 0.0487261\n",
      "Time taken in motion_measure_latency: 0.0488088\n",
      "Time taken in motion_measure_latency: 0.0489378\n",
      "Time taken in motion_measure_latency: 0.0492458\n",
      "Time taken in motion_measure_latency: 0.0490818\n",
      "Time taken in motion_measure_latency: 0.0487061\n",
      "Time taken in motion_measure_latency: 0.0486324\n",
      "Time taken in motion_measure_latency: 0.0490000\n",
      "Time taken in motion_measure_latency: 0.0493009\n",
      "Time taken in motion_measure_latency: 0.0489633\n",
      "Time taken in motion_measure_latency: 0.0493591\n",
      "Time taken in motion_measure_latency: 0.0490177\n",
      "Time taken in motion_measure_latency: 0.0490277\n",
      "Time taken in motion_measure_latency: 0.0490196\n",
      "Time taken in motion_measure_latency: 0.0491190\n",
      "Time taken in motion_measure_latency: 0.0490994\n",
      "Time taken in motion_measure_latency: 0.0498586\n",
      "Time taken in motion_measure_latency: 0.0493193\n",
      "Time taken in motion_measure_latency: 0.0493200\n",
      "Time taken in motion_measure_latency: 0.0489113\n",
      "Time taken in motion_measure_latency: 0.0488358\n",
      "Time taken in motion_measure_latency: 0.0487754\n",
      "Time taken in motion_measure_latency: 0.0490432\n",
      "Time taken in motion_measure_latency: 0.0493472\n",
      "Time taken in motion_measure_latency: 0.0490465\n",
      "Time taken in motion_measure_latency: 0.0487835\n",
      "Time taken in motion_measure_latency: 0.0487831\n",
      "Time taken in motion_measure_latency: 0.0491054\n",
      "Time taken in motion_measure_latency: 0.0491569\n",
      "Time taken in motion_measure_latency: 0.0494010\n",
      "Time taken in motion_measure_latency: 0.0489266\n",
      "Time taken in motion_measure_latency: 0.0487773\n",
      "Time taken in motion_measure_latency: 0.0491540\n",
      "Time taken in motion_measure_latency: 0.0489199\n",
      "Time taken in motion_measure_latency: 0.0487742\n",
      "Time taken in motion_measure_latency: 0.0487318\n",
      "Time taken in motion_measure_latency: 0.0491004\n",
      "Time taken in motion_measure_latency: 0.0489914\n",
      "Time taken in motion_measure_latency: 0.0489137\n",
      "Time taken in motion_measure_latency: 0.0486665\n",
      "Time taken in motion_measure_latency: 0.0484505\n",
      "Time taken in motion_measure_latency: 0.0484281\n",
      "Time taken in motion_measure_latency: 0.0496609\n",
      "Time taken in motion_measure_latency: 0.0490086\n",
      "Time taken in motion_measure_latency: 0.0486870\n",
      "Time taken in motion_measure_latency: 0.0484912\n",
      "Time taken in motion_measure_latency: 0.0485244\n",
      "Time taken in motion_measure_latency: 0.0487444\n",
      "Time taken in motion_measure_latency: 0.0492074\n",
      "Time taken in motion_measure_latency: 0.0488043\n",
      "Time taken in motion_measure_latency: 0.0500081\n",
      "Time taken in motion_measure_latency: 0.0487516\n",
      "Time taken in motion_measure_latency: 0.0493307\n",
      "Time taken in motion_measure_latency: 0.0491171\n",
      "Time taken in motion_measure_latency: 0.0489113\n",
      "Time taken in motion_measure_latency: 0.0486770\n",
      "Time taken in motion_measure_latency: 0.0485651\n",
      "Time taken in motion_measure_latency: 0.0501926\n",
      "Time taken in motion_measure_latency: 0.0494492\n",
      "Time taken in motion_measure_latency: 0.0487301\n",
      "Time taken in motion_measure_latency: 0.0487823\n",
      "Time taken in motion_measure_latency: 0.0484354\n",
      "Time taken in motion_measure_latency: 0.0490429\n",
      "Time taken in motion_measure_latency: 0.0497606\n",
      "Time taken in motion_measure_latency: 0.0487909\n",
      "Time taken in motion_measure_latency: 0.0487740\n",
      "Time taken in motion_measure_latency: 0.0486083\n",
      "Time taken in motion_measure_latency: 0.0490086\n",
      "Time taken in motion_measure_latency: 0.0491247\n",
      "Time taken in motion_measure_latency: 0.0493853\n",
      "Time taken in motion_measure_latency: 0.0486920\n",
      "Time taken in motion_measure_latency: 0.0488062\n",
      "Time taken in motion_measure_latency: 0.0491254\n",
      "Time taken in motion_measure_latency: 0.0491915\n",
      "Time taken in motion_measure_latency: 0.0486815\n",
      "Time taken in motion_measure_latency: 0.0486565\n",
      "Time taken in motion_measure_latency: 0.0487585\n",
      "Time taken in motion_measure_latency: 0.0492353\n",
      "Time taken in motion_measure_latency: 0.0493007\n",
      "Time taken in motion_measure_latency: 0.0488560\n",
      "Time taken in motion_measure_latency: 0.0484517\n",
      "Time taken in motion_measure_latency: 0.0488291\n",
      "Time taken in motion_measure_latency: 0.0496545\n",
      "Time taken in motion_measure_latency: 0.0494113\n",
      "Time taken in motion_measure_latency: 0.0487223\n",
      "Time taken in motion_measure_latency: 0.0488448\n",
      "Time taken in motion_measure_latency: 0.0485134\n",
      "Time taken in motion_measure_latency: 0.0493066\n",
      "Time taken in motion_measure_latency: 0.0491295\n",
      "Time taken in motion_measure_latency: 0.0493169\n",
      "Time taken in motion_measure_latency: 0.0487385\n",
      "Time taken in motion_measure_latency: 0.0486093\n",
      "Time taken in motion_measure_latency: 0.0488744\n",
      "Time taken in motion_measure_latency: 0.0488956\n",
      "Time taken in motion_measure_latency: 0.0489492\n",
      "Time taken in motion_measure_latency: 0.0494268\n",
      "Time taken in motion_measure_latency: 0.0489302\n",
      "Time taken in motion_measure_latency: 0.0489299\n",
      "Time taken in motion_measure_latency: 0.0491884\n",
      "Time taken in motion_measure_latency: 0.0487876\n",
      "Time taken in motion_measure_latency: 0.0488005\n",
      "Time taken in motion_measure_latency: 0.0486619\n",
      "Time taken in motion_measure_latency: 0.0493069\n",
      "Time taken in motion_measure_latency: 0.0488355\n",
      "Time taken in motion_measure_latency: 0.0486245\n",
      "Time taken in motion_measure_latency: 0.0485170\n",
      "Time taken in motion_measure_latency: 0.0486047\n",
      "Time taken in motion_measure_latency: 0.0488195\n",
      "Time taken in motion_measure_latency: 0.0494950\n",
      "Time taken in motion_measure_latency: 0.0488040\n",
      "Time taken in motion_measure_latency: 0.0485644\n",
      "Time taken in motion_measure_latency: 0.0484638\n",
      "Time taken in motion_measure_latency: 0.0487263\n",
      "Time taken in motion_measure_latency: 0.0487881\n",
      "Time taken in motion_measure_latency: 0.0488431\n",
      "Time taken in motion_measure_latency: 0.0486846\n",
      "Time taken in motion_measure_latency: 0.0487163\n",
      "Time taken in motion_measure_latency: 0.0487273\n",
      "Time taken in motion_measure_latency: 0.0489836\n",
      "Time taken in motion_measure_latency: 0.0486255\n",
      "Time taken in motion_measure_latency: 0.0489101\n",
      "Time taken in motion_measure_latency: 0.0489652\n",
      "Time taken in motion_measure_latency: 0.0492744\n",
      "Time taken in motion_measure_latency: 0.0488248\n",
      "Time taken in motion_measure_latency: 0.0488939\n",
      "Time taken in motion_measure_latency: 0.0486348\n",
      "Time taken in motion_measure_latency: 0.0486574\n",
      "Time taken in motion_measure_latency: 0.0496693\n",
      "Time taken in motion_measure_latency: 0.0491385\n",
      "Time taken in motion_measure_latency: 0.0486000\n",
      "Time taken in motion_measure_latency: 0.0487437\n",
      "Time taken in motion_measure_latency: 0.0486374\n",
      "Time taken in motion_measure_latency: 0.0487578\n",
      "Time taken in motion_measure_latency: 0.0487053\n",
      "Time taken in motion_measure_latency: 0.0491369\n",
      "Time taken in motion_measure_latency: 0.0485961\n",
      "Time taken in motion_measure_latency: 0.0485263\n",
      "Time taken in motion_measure_latency: 0.0488133\n",
      "Time taken in motion_measure_latency: 0.0485299\n",
      "Time taken in motion_measure_latency: 0.0486722\n",
      "Time taken in motion_measure_latency: 0.0491807\n",
      "Time taken in motion_measure_latency: 0.0487895\n",
      "Time taken in motion_measure_latency: 0.0488448\n",
      "Time taken in motion_measure_latency: 0.0489123\n",
      "Time taken in motion_measure_latency: 0.0487130\n",
      "Time taken in motion_measure_latency: 0.0486016\n",
      "Time taken in motion_measure_latency: 0.0484695\n",
      "Time taken in motion_measure_latency: 0.0494630\n",
      "Time taken in motion_measure_latency: 0.0488515\n",
      "Time taken in motion_measure_latency: 0.0487163\n",
      "Time taken in motion_measure_latency: 0.0486424\n",
      "Time taken in motion_measure_latency: 0.0486228\n",
      "Time taken in motion_measure_latency: 0.0488448\n",
      "Time taken in motion_measure_latency: 0.0492892\n",
      "Time taken in motion_measure_latency: 0.0486765\n",
      "Time taken in motion_measure_latency: 0.0485585\n",
      "Time taken in motion_measure_latency: 0.0484385\n",
      "Time taken in motion_measure_latency: 0.0487916\n",
      "Time taken in motion_measure_latency: 0.0488009\n",
      "Time taken in motion_measure_latency: 0.0485826\n",
      "Time taken in motion_measure_latency: 0.0487862\n",
      "Time taken in motion_measure_latency: 0.0485289\n",
      "Time taken in motion_measure_latency: 0.0486972\n",
      "Time taken in motion_measure_latency: 0.0487087\n",
      "Time taken in motion_measure_latency: 0.0485492\n",
      "Time taken in motion_measure_latency: 0.0486679\n",
      "Time taken in motion_measure_latency: 0.0487628\n",
      "Time taken in motion_measure_latency: 0.0488653\n",
      "Time taken in motion_measure_latency: 0.0486467\n",
      "Time taken in motion_measure_latency: 0.0483537\n",
      "Time taken in motion_measure_latency: 0.0482328\n",
      "Time taken in motion_measure_latency: 0.0482366\n",
      "Time taken in motion_measure_latency: 0.0485971\n",
      "Time taken in motion_measure_latency: 0.0490282\n",
      "Time taken in motion_measure_latency: 0.0486298\n",
      "Time taken in motion_measure_latency: 0.0482450\n",
      "Time taken in motion_measure_latency: 0.0483811\n",
      "Time taken in motion_measure_latency: 0.0486944\n",
      "Time taken in motion_measure_latency: 0.0488224\n",
      "Time taken in motion_measure_latency: 0.0489795\n",
      "Time taken in motion_measure_latency: 0.0486434\n",
      "Time taken in motion_measure_latency: 0.0483191\n",
      "Time taken in motion_measure_latency: 0.0488751\n",
      "Time taken in motion_measure_latency: 0.0489502\n",
      "Time taken in motion_measure_latency: 0.0485551\n",
      "Time taken in motion_measure_latency: 0.0485311\n",
      "Time taken in motion_measure_latency: 0.0489919\n",
      "Time taken in motion_measure_latency: 0.0487819\n",
      "Time taken in motion_measure_latency: 0.0489173\n",
      "Time taken in motion_measure_latency: 0.0485632\n",
      "Time taken in motion_measure_latency: 0.0486224\n",
      "Time taken in motion_measure_latency: 0.0483191\n",
      "Time taken in motion_measure_latency: 0.0491621\n",
      "Time taken in motion_measure_latency: 0.0488229\n",
      "Time taken in motion_measure_latency: 0.0485408\n",
      "Time taken in motion_measure_latency: 0.0484149\n",
      "Time taken in motion_measure_latency: 0.0484929\n",
      "Time taken in motion_measure_latency: 0.0485435\n",
      "Time taken in motion_measure_latency: 0.0488074\n",
      "Time taken in motion_measure_latency: 0.0490401\n",
      "Time taken in motion_measure_latency: 0.0484560\n",
      "Time taken in motion_measure_latency: 0.0486331\n",
      "Time taken in motion_measure_latency: 0.0489666\n",
      "Time taken in motion_measure_latency: 0.0490251\n",
      "Time taken in motion_measure_latency: 0.0485346\n",
      "Time taken in motion_measure_latency: 0.0489757\n",
      "Time taken in motion_measure_latency: 0.0484362\n",
      "Time taken in motion_measure_latency: 0.0488129\n",
      "Time taken in motion_measure_latency: 0.0488992\n",
      "Time taken in motion_measure_latency: 0.0486085\n",
      "Time taken in motion_measure_latency: 0.0485466\n",
      "Time taken in motion_measure_latency: 0.0487320\n",
      "Time taken in motion_measure_latency: 0.0490324\n",
      "Time taken in motion_measure_latency: 0.0488601\n",
      "Time taken in motion_measure_latency: 0.0485663\n",
      "Time taken in motion_measure_latency: 0.0483921\n",
      "Time taken in motion_measure_latency: 0.0483000\n",
      "Time taken in motion_measure_latency: 0.0487020\n",
      "Time taken in motion_measure_latency: 0.0492456\n",
      "Time taken in motion_measure_latency: 0.0485330\n",
      "Time taken in motion_measure_latency: 0.0483651\n",
      "Time taken in motion_measure_latency: 0.0486565\n",
      "Time taken in motion_measure_latency: 0.0488875\n",
      "Time taken in motion_measure_latency: 0.0489838\n",
      "Time taken in motion_measure_latency: 0.0490084\n",
      "Time taken in motion_measure_latency: 0.0486646\n",
      "Time taken in motion_measure_latency: 0.0486479\n",
      "Time taken in motion_measure_latency: 0.0488892\n",
      "Time taken in motion_measure_latency: 0.0488620\n",
      "Time taken in motion_measure_latency: 0.0486629\n",
      "Time taken in motion_measure_latency: 0.0484810\n",
      "Time taken in motion_measure_latency: 0.0489490\n",
      "Time taken in motion_measure_latency: 0.0490975\n",
      "Time taken in motion_measure_latency: 0.0487838\n",
      "Time taken in motion_measure_latency: 0.0487795\n",
      "Time taken in motion_measure_latency: 0.0484924\n",
      "Time taken in motion_measure_latency: 0.0486450\n",
      "Time taken in motion_measure_latency: 0.0494111\n",
      "Time taken in motion_measure_latency: 0.0490339\n",
      "Time taken in motion_measure_latency: 0.0491307\n",
      "Time taken in motion_measure_latency: 0.0486536\n",
      "Time taken in motion_measure_latency: 0.0485158\n",
      "Time taken in motion_measure_latency: 0.0488517\n",
      "Time taken in motion_measure_latency: 0.0488818\n",
      "Time taken in motion_measure_latency: 0.0494018\n",
      "Time taken in motion_measure_latency: 0.0485015\n",
      "Time taken in motion_measure_latency: 0.0485260\n",
      "Time taken in motion_measure_latency: 0.0488379\n",
      "Time taken in motion_measure_latency: 0.0489907\n",
      "Time taken in motion_measure_latency: 0.0486174\n",
      "Time taken in motion_measure_latency: 0.0492063\n",
      "Time taken in motion_measure_latency: 0.0485446\n",
      "Time taken in motion_measure_latency: 0.0489500\n",
      "Time taken in motion_measure_latency: 0.0489144\n",
      "Time taken in motion_measure_latency: 0.0486341\n",
      "Time taken in motion_measure_latency: 0.0484235\n",
      "Time taken in motion_measure_latency: 0.0486550\n",
      "Time taken in motion_measure_latency: 0.0493121\n",
      "Time taken in motion_measure_latency: 0.0489895\n",
      "Time taken in motion_measure_latency: 0.0487225\n",
      "Time taken in motion_measure_latency: 0.0487504\n",
      "Time taken in motion_measure_latency: 0.0489533\n",
      "Time taken in motion_measure_latency: 0.0490820\n",
      "Time taken in motion_measure_latency: 0.0494590\n",
      "Time taken in motion_measure_latency: 0.0489655\n",
      "Time taken in motion_measure_latency: 0.0487063\n",
      "Time taken in motion_measure_latency: 0.0484533\n",
      "Time taken in motion_measure_latency: 0.0486393\n",
      "Time taken in motion_measure_latency: 0.0488646\n",
      "Time taken in motion_measure_latency: 0.0487201\n",
      "Time taken in motion_measure_latency: 0.0487525\n",
      "Time taken in motion_measure_latency: 0.0485539\n",
      "Time taken in motion_measure_latency: 0.0489721\n",
      "Time taken in motion_measure_latency: 0.0487487\n",
      "Time taken in motion_measure_latency: 0.0485725\n",
      "Time taken in motion_measure_latency: 0.0484395\n",
      "Time taken in motion_measure_latency: 0.0488803\n",
      "Time taken in motion_measure_latency: 0.0486708\n",
      "Time taken in motion_measure_latency: 0.0487595\n",
      "Time taken in motion_measure_latency: 0.0487504\n",
      "Time taken in motion_measure_latency: 0.0485232\n",
      "Time taken in motion_measure_latency: 0.0484366\n",
      "Time taken in motion_measure_latency: 0.0489063\n",
      "Time taken in motion_measure_latency: 0.0492404\n",
      "Time taken in motion_measure_latency: 0.0487292\n",
      "Time taken in motion_measure_latency: 0.0486939\n",
      "Time taken in motion_measure_latency: 0.0485198\n",
      "Time taken in motion_measure_latency: 0.0488019\n",
      "Time taken in motion_measure_latency: 0.0488346\n",
      "Time taken in motion_measure_latency: 0.0490961\n",
      "Time taken in motion_measure_latency: 0.0486422\n",
      "Time taken in motion_measure_latency: 0.0484860\n",
      "Time taken in motion_measure_latency: 0.0487237\n",
      "Time taken in motion_measure_latency: 0.0487800\n",
      "Time taken in motion_measure_latency: 0.0485647\n",
      "Time taken in motion_measure_latency: 0.0492144\n",
      "Time taken in motion_measure_latency: 0.0487988\n",
      "Time taken in motion_measure_latency: 0.0489328\n",
      "Time taken in motion_measure_latency: 0.0488582\n",
      "Time taken in motion_measure_latency: 0.0486679\n",
      "Time taken in motion_measure_latency: 0.0485837\n",
      "Time taken in motion_measure_latency: 0.0484486\n",
      "Time taken in motion_measure_latency: 0.0493693\n",
      "Time taken in motion_measure_latency: 0.0490453\n",
      "Time taken in motion_measure_latency: 0.0489874\n",
      "Time taken in motion_measure_latency: 0.0487616\n",
      "Time taken in motion_measure_latency: 0.0487986\n",
      "Time taken in motion_measure_latency: 0.0488939\n",
      "Time taken in motion_measure_latency: 0.0493269\n",
      "Time taken in motion_measure_latency: 0.0489178\n",
      "Time taken in motion_measure_latency: 0.0488207\n",
      "Time taken in motion_measure_latency: 0.0485313\n",
      "Time taken in motion_measure_latency: 0.0488625\n",
      "Time taken in motion_measure_latency: 0.0490589\n",
      "Time taken in motion_measure_latency: 0.0487471\n",
      "Time taken in motion_measure_latency: 0.0490801\n",
      "Time taken in motion_measure_latency: 0.0486722\n",
      "Time taken in motion_measure_latency: 0.0490131\n",
      "Time taken in motion_measure_latency: 0.0490057\n",
      "Time taken in motion_measure_latency: 0.0487165\n",
      "Time taken in motion_measure_latency: 0.0486791\n",
      "Time taken in motion_measure_latency: 0.0490613\n",
      "Time taken in motion_measure_latency: 0.0488539\n",
      "Time taken in motion_measure_latency: 0.0490093\n",
      "Time taken in motion_measure_latency: 0.0489049\n",
      "Time taken in motion_measure_latency: 0.0487032\n",
      "Time taken in motion_measure_latency: 0.0486636\n",
      "Time taken in motion_measure_latency: 0.0491130\n",
      "Time taken in motion_measure_latency: 0.0494642\n",
      "Time taken in motion_measure_latency: 0.0486913\n",
      "Time taken in motion_measure_latency: 0.0488937\n",
      "Time taken in motion_measure_latency: 0.0486176\n",
      "Time taken in motion_measure_latency: 0.0489485\n",
      "Time taken in motion_measure_latency: 0.0490575\n",
      "Time taken in motion_measure_latency: 0.0492814\n",
      "Time taken in motion_measure_latency: 0.0488527\n",
      "Time taken in motion_measure_latency: 0.0486069\n",
      "Time taken in motion_measure_latency: 0.0498533\n",
      "Time taken in motion_measure_latency: 0.0490820\n",
      "Time taken in motion_measure_latency: 0.0488653\n",
      "Time taken in motion_measure_latency: 0.0490203\n",
      "Time taken in motion_measure_latency: 0.0487554\n",
      "Time taken in motion_measure_latency: 0.0488660\n",
      "Time taken in motion_measure_latency: 0.0488191\n",
      "Time taken in motion_measure_latency: 0.0486419\n",
      "Time taken in motion_measure_latency: 0.0486279\n",
      "Time taken in motion_measure_latency: 0.0485268\n",
      "Time taken in motion_measure_latency: 0.0495934\n",
      "Time taken in motion_measure_latency: 0.0490317\n",
      "Time taken in motion_measure_latency: 0.0488226\n",
      "Time taken in motion_measure_latency: 0.0489469\n",
      "Time taken in motion_measure_latency: 0.0488467\n",
      "Time taken in motion_measure_latency: 0.0489118\n",
      "Time taken in motion_measure_latency: 0.0494976\n",
      "Time taken in motion_measure_latency: 0.0488968\n",
      "Time taken in motion_measure_latency: 0.0485539\n",
      "Time taken in motion_measure_latency: 0.0485229\n",
      "Time taken in motion_measure_latency: 0.0487971\n",
      "Time taken in motion_measure_latency: 0.0488636\n",
      "Time taken in motion_measure_latency: 0.0487144\n",
      "Time taken in motion_measure_latency: 0.0489328\n",
      "Time taken in motion_measure_latency: 0.0499496\n",
      "Time taken in motion_measure_latency: 0.0492015\n",
      "Time taken in motion_measure_latency: 0.0498025\n",
      "Time taken in motion_measure_latency: 0.0492179\n",
      "Time taken in motion_measure_latency: 0.0488329\n",
      "Time taken in motion_measure_latency: 0.0493648\n",
      "Time taken in motion_measure_latency: 0.0495491\n",
      "Time taken in motion_measure_latency: 0.0493455\n",
      "Time taken in motion_measure_latency: 0.0487041\n",
      "Time taken in motion_measure_latency: 0.0486314\n",
      "Time taken in motion_measure_latency: 0.0486276\n",
      "Time taken in motion_measure_latency: 0.0487604\n",
      "Time taken in motion_measure_latency: 0.0490093\n",
      "Time taken in motion_measure_latency: 0.0494888\n",
      "Time taken in motion_measure_latency: 0.0485404\n",
      "Time taken in motion_measure_latency: 0.0486338\n",
      "Time taken in motion_measure_latency: 0.0489151\n",
      "Time taken in motion_measure_latency: 0.0494182\n",
      "Time taken in motion_measure_latency: 0.0489037\n",
      "Time taken in motion_measure_latency: 0.0491190\n",
      "Time taken in motion_measure_latency: 0.0485215\n",
      "Time taken in motion_measure_latency: 0.0488400\n",
      "Time taken in motion_measure_latency: 0.0489578\n",
      "Time taken in motion_measure_latency: 0.0487487\n",
      "Time taken in motion_measure_latency: 0.0485864\n",
      "Time taken in motion_measure_latency: 0.0489712\n",
      "Time taken in motion_measure_latency: 0.0495532\n",
      "Time taken in motion_measure_latency: 0.0490489\n",
      "Time taken in motion_measure_latency: 0.0488553\n",
      "Time taken in motion_measure_latency: 0.0486243\n",
      "Time taken in motion_measure_latency: 0.0485413\n",
      "Time taken in motion_measure_latency: 0.0491321\n",
      "Time taken in motion_measure_latency: 0.0492532\n",
      "Time taken in motion_measure_latency: 0.0487387\n",
      "Time taken in motion_measure_latency: 0.0485227\n",
      "Time taken in motion_measure_latency: 0.0486395\n",
      "Time taken in motion_measure_latency: 0.0487041\n",
      "Time taken in motion_measure_latency: 0.0487959\n",
      "Time taken in motion_measure_latency: 0.0488660\n",
      "Time taken in motion_measure_latency: 0.0491502\n",
      "Time taken in motion_measure_latency: 0.0486348\n",
      "Time taken in motion_measure_latency: 0.0487862\n",
      "Time taken in motion_measure_latency: 0.0488753\n",
      "Time taken in motion_measure_latency: 0.0486202\n",
      "Time taken in motion_measure_latency: 0.0485380\n",
      "Time taken in motion_measure_latency: 0.0492594\n",
      "Time taken in motion_measure_latency: 0.0489609\n",
      "Time taken in motion_measure_latency: 0.0489056\n",
      "Time taken in motion_measure_latency: 0.0489244\n",
      "Time taken in motion_measure_latency: 0.0486679\n",
      "Time taken in motion_measure_latency: 0.0484993\n",
      "Time taken in motion_measure_latency: 0.0493321\n",
      "Time taken in motion_measure_latency: 0.0494559\n",
      "Time taken in motion_measure_latency: 0.0489414\n",
      "Time taken in motion_measure_latency: 0.0489972\n",
      "Time taken in motion_measure_latency: 0.0488491\n",
      "Time taken in motion_measure_latency: 0.0492389\n",
      "Time taken in motion_measure_latency: 0.0490432\n",
      "Time taken in motion_measure_latency: 0.0497050\n",
      "Time taken in motion_measure_latency: 0.0487843\n",
      "Time taken in motion_measure_latency: 0.0487623\n",
      "Time taken in motion_measure_latency: 0.0488713\n",
      "Time taken in motion_measure_latency: 0.0488496\n",
      "Time taken in motion_measure_latency: 0.0486851\n",
      "Time taken in motion_measure_latency: 0.0491168\n",
      "Time taken in motion_measure_latency: 0.0488605\n",
      "Time taken in motion_measure_latency: 0.0489426\n",
      "Time taken in motion_measure_latency: 0.0489268\n",
      "Time taken in motion_measure_latency: 0.0487702\n",
      "Time taken in motion_measure_latency: 0.0486197\n",
      "Time taken in motion_measure_latency: 0.0487039\n",
      "Time taken in motion_measure_latency: 0.0494275\n",
      "Time taken in motion_measure_latency: 0.0494006\n",
      "Time taken in motion_measure_latency: 0.0487761\n",
      "Time taken in motion_measure_latency: 0.0487015\n",
      "Time taken in motion_measure_latency: 0.0485182\n",
      "Time taken in motion_measure_latency: 0.0489614\n",
      "Time taken in motion_measure_latency: 0.0494394\n",
      "Time taken in motion_measure_latency: 0.0488031\n",
      "Time taken in motion_measure_latency: 0.0484962\n",
      "Time taken in motion_measure_latency: 0.0486016\n",
      "Time taken in motion_measure_latency: 0.0489273\n",
      "Time taken in motion_measure_latency: 0.0488763\n",
      "Time taken in motion_measure_latency: 0.0487869\n",
      "Time taken in motion_measure_latency: 0.0492117\n",
      "Time taken in motion_measure_latency: 0.0486846\n",
      "Time taken in motion_measure_latency: 0.0489514\n",
      "Time taken in motion_measure_latency: 0.0491176\n",
      "Time taken in motion_measure_latency: 0.0486906\n",
      "Time taken in motion_measure_latency: 0.0487206\n",
      "Time taken in motion_measure_latency: 0.0489621\n",
      "Time taken in motion_measure_latency: 0.0489640\n",
      "Time taken in motion_measure_latency: 0.0487940\n",
      "Time taken in motion_measure_latency: 0.0486794\n",
      "Time taken in motion_measure_latency: 0.0483553\n",
      "Time taken in motion_measure_latency: 0.0483456\n",
      "Time taken in motion_measure_latency: 0.0492077\n",
      "Time taken in motion_measure_latency: 0.0491917\n",
      "Time taken in motion_measure_latency: 0.0487072\n",
      "Time taken in motion_measure_latency: 0.0486126\n",
      "Time taken in motion_measure_latency: 0.0485649\n",
      "Time taken in motion_measure_latency: 0.0487716\n",
      "Time taken in motion_measure_latency: 0.0490644\n",
      "Time taken in motion_measure_latency: 0.0492895\n",
      "Time taken in motion_measure_latency: 0.0488248\n",
      "Time taken in motion_measure_latency: 0.0486531\n",
      "Time taken in motion_measure_latency: 0.0490618\n",
      "Time taken in motion_measure_latency: 0.0490844\n",
      "Time taken in motion_measure_latency: 0.0488608\n",
      "Time taken in motion_measure_latency: 0.0492585\n",
      "Time taken in motion_measure_latency: 0.0488131\n",
      "Time taken in motion_measure_latency: 0.0488403\n",
      "Time taken in motion_measure_latency: 0.0489163\n",
      "Time taken in motion_measure_latency: 0.0487959\n",
      "Time taken in motion_measure_latency: 0.0488639\n",
      "Time taken in motion_measure_latency: 0.0486548\n",
      "Time taken in motion_measure_latency: 0.0495875\n",
      "Time taken in motion_measure_latency: 0.0490789\n",
      "Time taken in motion_measure_latency: 0.0487411\n",
      "Time taken in motion_measure_latency: 0.0485404\n",
      "Time taken in motion_measure_latency: 0.0486493\n",
      "Time taken in motion_measure_latency: 0.0489101\n",
      "Time taken in motion_measure_latency: 0.0494144\n",
      "Time taken in motion_measure_latency: 0.0489326\n",
      "Time taken in motion_measure_latency: 0.0487633\n",
      "Time taken in motion_measure_latency: 0.0487056\n",
      "Time taken in motion_measure_latency: 0.0489347\n",
      "Time taken in motion_measure_latency: 0.0491960\n",
      "Time taken in motion_measure_latency: 0.0492785\n",
      "Time taken in motion_measure_latency: 0.0492117\n",
      "Time taken in motion_measure_latency: 0.0491991\n",
      "Time taken in motion_measure_latency: 0.0490136\n",
      "Time taken in motion_measure_latency: 0.0492918\n",
      "Time taken in motion_measure_latency: 0.0489168\n",
      "Time taken in motion_measure_latency: 0.0489948\n",
      "Time taken in motion_measure_latency: 0.0491292\n",
      "Time taken in motion_measure_latency: 0.0489900\n",
      "Time taken in motion_measure_latency: 0.0488729\n",
      "Time taken in motion_measure_latency: 0.0488379\n",
      "Time taken in motion_measure_latency: 0.0486617\n",
      "Time taken in motion_measure_latency: 0.0486975\n"
     ]
    }
   ],
   "source": [
    "# Generate random RGB image data\n",
    "image_list = [np.random.randint(0, 256, (75, 75, 3), dtype=np.uint8) for i in range(5)]\n",
    "for i in range(1000):\n",
    "    motion_measure_latency(image_list)"
   ]
  },
  {
   "cell_type": "code",
   "execution_count": null,
   "id": "495b27a7",
   "metadata": {},
   "outputs": [],
   "source": []
  }
 ],
 "metadata": {
  "kernelspec": {
   "display_name": "Python 3 (ipykernel)",
   "language": "python",
   "name": "python3"
  },
  "language_info": {
   "codemirror_mode": {
    "name": "ipython",
    "version": 3
   },
   "file_extension": ".py",
   "mimetype": "text/x-python",
   "name": "python",
   "nbconvert_exporter": "python",
   "pygments_lexer": "ipython3",
   "version": "3.9.16"
  }
 },
 "nbformat": 4,
 "nbformat_minor": 5
}
