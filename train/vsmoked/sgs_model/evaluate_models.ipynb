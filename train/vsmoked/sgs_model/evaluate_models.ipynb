{
 "cells": [
  {
   "cell_type": "code",
   "execution_count": 1,
   "metadata": {},
   "outputs": [
    {
     "name": "stdout",
     "output_type": "stream",
     "text": [
      "Looking in indexes: https://pypi.org/simple, https://pypi.ngc.nvidia.com\n",
      "Requirement already satisfied: pandas in /home/iec-ptit/anaconda3/envs/segmentation/lib/python3.9/site-packages (2.1.3)\n",
      "Requirement already satisfied: numpy<2,>=1.22.4 in /home/iec-ptit/anaconda3/envs/segmentation/lib/python3.9/site-packages (from pandas) (1.26.1)\n",
      "Requirement already satisfied: python-dateutil>=2.8.2 in /home/iec-ptit/anaconda3/envs/segmentation/lib/python3.9/site-packages (from pandas) (2.8.2)\n",
      "Requirement already satisfied: pytz>=2020.1 in /home/iec-ptit/anaconda3/envs/segmentation/lib/python3.9/site-packages (from pandas) (2023.3.post1)\n",
      "Requirement already satisfied: tzdata>=2022.1 in /home/iec-ptit/anaconda3/envs/segmentation/lib/python3.9/site-packages (from pandas) (2023.3)\n",
      "Requirement already satisfied: six>=1.5 in /home/iec-ptit/anaconda3/envs/segmentation/lib/python3.9/site-packages (from python-dateutil>=2.8.2->pandas) (1.16.0)\n",
      "\u001b[33mDEPRECATION: pytorch-lightning 1.5.4 has a non-standard dependency specifier torch>=1.7.*. pip 24.0 will enforce this behaviour change. A possible replacement is to upgrade to a newer version of pytorch-lightning or contact the author to suggest that they release a version with a conforming dependency specifiers. Discussion can be found at https://github.com/pypa/pip/issues/12063\u001b[0m\u001b[33m\n",
      "\u001b[0m"
     ]
    }
   ],
   "source": [
    "! pip install pandas"
   ]
  },
  {
   "cell_type": "code",
   "execution_count": 2,
   "metadata": {},
   "outputs": [
    {
     "name": "stderr",
     "output_type": "stream",
     "text": [
      "/home/iec-ptit/anaconda3/envs/segmentation/lib/python3.9/site-packages/tqdm/auto.py:21: TqdmWarning: IProgress not found. Please update jupyter and ipywidgets. See https://ipywidgets.readthedocs.io/en/stable/user_install.html\n",
      "  from .autonotebook import tqdm as notebook_tqdm\n"
     ]
    }
   ],
   "source": [
    "import torch\n",
    "import os\n",
    "os.environ['CUDA_VISIBLE_DEVICES'] = '0'\n",
    "\n",
    "import numpy as np\n",
    "import cv2\n",
    "import matplotlib.pyplot as plt\n",
    "from torch.utils.data import DataLoader\n",
    "from torch.utils.data import Dataset as BaseDataset\n",
    "DATA_DIR = './data/'\n",
    "ENCODER = 'timm-mobilenetv3_small_minimal_100'\n",
    "ENCODER_WEIGHTS = 'imagenet'\n",
    "CLASSES = ['sky']\n",
    "ACTIVATION = 'sigmoid' # could be None for logits or 'softmax2d' for multiclass segmentation\n",
    "DEVICE = 'cuda'\n",
    "import torch\n",
    "import numpy as np\n",
    "import segmentation_models_pytorch as smp\n"
   ]
  },
  {
   "cell_type": "code",
   "execution_count": 3,
   "metadata": {},
   "outputs": [],
   "source": [
    "# helper function for data visualization\n",
    "def visualize(**images):\n",
    "    \"\"\"PLot images in one row.\"\"\"\n",
    "    n = len(images)\n",
    "    plt.figure(figsize=(16, 5))\n",
    "    for i, (name, image) in enumerate(images.items()):\n",
    "        plt.subplot(1, n, i + 1)\n",
    "        plt.xticks([])\n",
    "        plt.yticks([])\n",
    "        plt.title(' '.join(name.split('_')).title())\n",
    "        plt.imshow(image)\n",
    "    plt.show()"
   ]
  },
  {
   "cell_type": "code",
   "execution_count": 4,
   "metadata": {},
   "outputs": [],
   "source": [
    "x_train_dir = os.path.join(DATA_DIR, 'train')\n",
    "y_train_dir = os.path.join(DATA_DIR, 'trainannot')\n",
    "\n",
    "x_valid_dir = os.path.join(DATA_DIR, 'val')\n",
    "y_valid_dir = os.path.join(DATA_DIR, 'valannot')\n",
    "\n",
    "x_test_dir = os.path.join(DATA_DIR, 'test')\n",
    "y_test_dir = os.path.join(DATA_DIR, 'testannot')"
   ]
  },
  {
   "cell_type": "code",
   "execution_count": 5,
   "metadata": {},
   "outputs": [],
   "source": [
    "class Dataset(BaseDataset):\n",
    "    \"\"\"CamVid Dataset. Read images, apply augmentation and preprocessing transformations.\n",
    "    \n",
    "    Args:\n",
    "        images_dir (str): path to images folder\n",
    "        masks_dir (str): path to segmentation masks folder\n",
    "        class_values (list): values of classes to extract from segmentation mask\n",
    "        augmentation (Amentations.Compose): data transfromation pipeline \n",
    "            (e.g. flip, scale, etc.)\n",
    "        preprocessing (Amentations.Compose): data preprocessing \n",
    "            (e.g. noralization, shape manipulation, etc.)\n",
    "    \n",
    "    \"\"\"\n",
    "    \n",
    "    CLASSES = ['sky']\n",
    "    \n",
    "    def __init__(\n",
    "            self, \n",
    "            images_dir, \n",
    "            masks_dir, \n",
    "            classes=None, \n",
    "            augmentation=None, \n",
    "            preprocessing=None,\n",
    "    ):\n",
    "        self.ids = os.listdir(images_dir)\n",
    "        self.images_fps = [os.path.join(images_dir, image_id) for image_id in self.ids]\n",
    "        self.masks_fps = [os.path.join(masks_dir, image_id.replace('.jpg','.png')) for image_id in self.ids]\n",
    "        \n",
    "        # convert str names to class values on masks\n",
    "        self.class_values = [255]\n",
    "        (print(self.class_values))\n",
    "        self.augmentation = augmentation\n",
    "        self.preprocessing = preprocessing\n",
    "    \n",
    "    def __getitem__(self, i):\n",
    "        \n",
    "        # read data\n",
    "        image = cv2.imread(self.images_fps[i])\n",
    "        image = cv2.cvtColor(image, cv2.COLOR_BGR2RGB)\n",
    "        mask = cv2.imread(self.masks_fps[i], 0)\n",
    "        \n",
    "        # extract certain classes from mask (e.g. cars)\n",
    "        masks = [(mask == v) for v in self.class_values]\n",
    "        mask = np.stack(masks, axis=-1).astype('float')\n",
    "        \n",
    "        # apply augmentations\n",
    "        if self.augmentation:\n",
    "            sample = self.augmentation(image=image, mask=mask)\n",
    "            image, mask = sample['image'], sample['mask']\n",
    "        \n",
    "        # apply preprocessing\n",
    "        if self.preprocessing:\n",
    "            sample = self.preprocessing(image=image, mask=mask)\n",
    "            image, mask = sample['image'], sample['mask']\n",
    "            \n",
    "        return image, mask\n",
    "        \n",
    "    def __len__(self):\n",
    "        return len(self.ids)"
   ]
  },
  {
   "cell_type": "code",
   "execution_count": 6,
   "metadata": {},
   "outputs": [],
   "source": [
    "import albumentations as A"
   ]
  },
  {
   "cell_type": "code",
   "execution_count": 7,
   "metadata": {},
   "outputs": [],
   "source": [
    "def get_training_augmentation(size = 224):\n",
    "    train_transform = [\n",
    "\n",
    "        A.HorizontalFlip(p=0.5),  # Randomly flip the image horizontally\n",
    "        # A.Rotate(limit=15, p=0.5),  # Randomly rotate the image by up to 15 degrees\n",
    "        A.RandomBrightnessContrast(p=0.2),  # Randomly adjust brightness and contrast\n",
    "        A.RandomGamma(p=0.2),  # Randomly adjust gamma\n",
    "        A.Blur(blur_limit=3, p=0.1),  # Randomly apply blur\n",
    "        A.GaussNoise(var_limit=(1, 5), p=0.1),  # Randomly add Gaussian noise\n",
    "        A.OneOf([\n",
    "            A.MotionBlur(p=0.2),\n",
    "            A.MedianBlur(blur_limit=3, p=0.1),\n",
    "            A.GaussianBlur(blur_limit=3, p=0.1),\n",
    "        ], p=0.2),  # Randomly choose one type of blur\n",
    "        A.Resize(size, size),  # Resize the image to a fixed size\n",
    "        # A.Normalize(), \n",
    "        ] # Normalize the image\n",
    "    return A.Compose(train_transform)\n",
    "\n",
    "\n",
    "def get_validation_augmentation(size = 224):\n",
    "    \"\"\"Add paddings to make image shape divisible by 32\"\"\"\n",
    "    test_transform = [\n",
    "       A.Resize(size, size)\n",
    "    ]\n",
    "    return A.Compose(test_transform)\n",
    "\n",
    "\n",
    "def to_tensor(x, **kwargs):\n",
    "    return x.transpose(2, 0, 1).astype('float32')\n",
    "\n",
    "\n",
    "def get_preprocessing(preprocessing_fn):\n",
    "    \"\"\"Construct preprocessing transform\n",
    "    \n",
    "    Args:\n",
    "        preprocessing_fn (callbale): data normalization function \n",
    "            (can be specific for each pretrained neural network)\n",
    "    Return:\n",
    "        transform: Amentations.Compose\n",
    "    \n",
    "    \"\"\"\n",
    "    \n",
    "    _transform = [\n",
    "        A.Lambda(image=preprocessing_fn),\n",
    "        A.Lambda(image=to_tensor, mask=to_tensor),\n",
    "    ]\n",
    "    return A.Compose(_transform)"
   ]
  },
  {
   "cell_type": "code",
   "execution_count": 8,
   "metadata": {},
   "outputs": [],
   "source": [
    "preprocessing_fn = smp.encoders.get_preprocessing_fn(ENCODER, ENCODER_WEIGHTS)\n",
    "# load best saved checkpoint"
   ]
  },
  {
   "cell_type": "code",
   "execution_count": 9,
   "metadata": {},
   "outputs": [],
   "source": [
    "import segmentation_models_pytorch.utils.metrics as metrics"
   ]
  },
  {
   "cell_type": "code",
   "execution_count": 10,
   "metadata": {},
   "outputs": [],
   "source": [
    "# Dice/F1 score - https://en.wikipedia.org/wiki/S%C3%B8rensen%E2%80%93Dice_coefficient\n",
    "# IoU/Jaccard score - https://en.wikipedia.org/wiki/Jaccard_index\n",
    "\n",
    "loss = smp.utils.losses.DiceLoss()\n",
    "metrics = [\n",
    "    smp.utils.metrics.IoU(threshold=0.5),\n",
    "]"
   ]
  },
  {
   "cell_type": "code",
   "execution_count": 11,
   "metadata": {},
   "outputs": [
    {
     "name": "stdout",
     "output_type": "stream",
     "text": [
      "[255]\n"
     ]
    }
   ],
   "source": [
    "# create test dataset\n",
    "test_dataset = Dataset(\n",
    "    x_test_dir, \n",
    "    y_test_dir, \n",
    "    augmentation=get_validation_augmentation(size=32), \n",
    "    preprocessing=get_preprocessing(preprocessing_fn),\n",
    "    classes=CLASSES,\n",
    ")\n",
    "\n",
    "test_dataloader = DataLoader(test_dataset)"
   ]
  },
  {
   "cell_type": "code",
   "execution_count": 12,
   "metadata": {},
   "outputs": [],
   "source": [
    "from tqdm import tqdm"
   ]
  },
  {
   "cell_type": "code",
   "execution_count": 13,
   "metadata": {},
   "outputs": [
    {
     "name": "stdout",
     "output_type": "stream",
     "text": [
      "[255]\n",
      "[255]\n"
     ]
    }
   ],
   "source": [
    "# create test dataset\n",
    "test_dataset_32 = Dataset(\n",
    "    x_test_dir, \n",
    "    y_test_dir, \n",
    "    augmentation=get_validation_augmentation(size=32), \n",
    "    preprocessing=get_preprocessing(preprocessing_fn),\n",
    "    classes=CLASSES,\n",
    ")\n",
    "\n",
    "test_dataloader_32 = DataLoader(test_dataset)\n",
    "\n",
    "test_dataset_640 = Dataset(\n",
    "    x_test_dir, \n",
    "    y_test_dir, \n",
    "    augmentation=get_validation_augmentation(size=640), \n",
    "    preprocessing=get_preprocessing(preprocessing_fn),\n",
    "    classes=CLASSES,\n",
    ")\n",
    "\n",
    "test_dataloader_32 = DataLoader(test_dataset)"
   ]
  },
  {
   "cell_type": "code",
   "execution_count": 14,
   "metadata": {},
   "outputs": [
    {
     "name": "stdout",
     "output_type": "stream",
     "text": [
      "[255]\n",
      "[255]\n",
      "[255]\n",
      "[255]\n",
      "[255]\n",
      "[255]\n",
      "[255]\n",
      "[255]\n",
      "[255]\n",
      "[255]\n",
      "[255]\n",
      "[255]\n",
      "[255]\n",
      "[255]\n",
      "[255]\n",
      "[255]\n",
      "[255]\n",
      "[255]\n",
      "[255]\n",
      "[255]\n"
     ]
    }
   ],
   "source": [
    "test_datasets = [Dataset(\n",
    "    x_test_dir, \n",
    "    y_test_dir, \n",
    "    augmentation=get_validation_augmentation(size=size), \n",
    "    preprocessing=get_preprocessing(preprocessing_fn),\n",
    "    classes=CLASSES,\n",
    ") for size in range(32,641,32) ]"
   ]
  },
  {
   "cell_type": "code",
   "execution_count": 15,
   "metadata": {},
   "outputs": [
    {
     "name": "stdout",
     "output_type": "stream",
     "text": [
      "[255]\n"
     ]
    }
   ],
   "source": [
    "# test dataset without transformations for image visualization\n",
    "test_dataset_vis = Dataset(\n",
    "    x_test_dir, y_test_dir, \n",
    "    classes=CLASSES,\n",
    ")"
   ]
  },
  {
   "cell_type": "code",
   "execution_count": 16,
   "metadata": {},
   "outputs": [],
   "source": [
    "import pandas as pd\n",
    "df = pd.DataFrame([],columns=['size','accuracy'])"
   ]
  },
  {
   "cell_type": "code",
   "execution_count": 17,
   "metadata": {},
   "outputs": [
    {
     "name": "stderr",
     "output_type": "stream",
     "text": [
      "  0%|          | 6/2251 [00:00<01:33, 24.10it/s]"
     ]
    },
    {
     "name": "stderr",
     "output_type": "stream",
     "text": [
      "100%|██████████| 2251/2251 [00:53<00:00, 42.23it/s]\n",
      "/tmp/ipykernel_1696198/593552864.py:35: FutureWarning: The behavior of DataFrame concatenation with empty or all-NA entries is deprecated. In a future version, this will no longer exclude empty or all-NA columns when determining the result dtypes. To retain the old behavior, exclude the relevant entries before the concat operation.\n",
      "  df = pd.concat([df, pd.DataFrame([{'size':32*(1+exp),'accuracy':iou_scores.sum()/len(test_dataset)}])], ignore_index=True)\n",
      "100%|██████████| 2251/2251 [00:53<00:00, 41.94it/s]\n",
      "100%|██████████| 2251/2251 [00:53<00:00, 42.01it/s]\n",
      "100%|██████████| 2251/2251 [00:54<00:00, 41.66it/s]\n",
      "100%|██████████| 2251/2251 [00:54<00:00, 41.46it/s]\n",
      "100%|██████████| 2251/2251 [00:55<00:00, 40.36it/s]\n",
      "100%|██████████| 2251/2251 [00:57<00:00, 39.44it/s]\n",
      "100%|██████████| 2251/2251 [01:01<00:00, 36.71it/s]\n",
      "100%|██████████| 2251/2251 [01:01<00:00, 36.46it/s]\n",
      "100%|██████████| 2251/2251 [01:04<00:00, 34.98it/s]\n",
      "100%|██████████| 2251/2251 [01:06<00:00, 33.89it/s]\n",
      "100%|██████████| 2251/2251 [01:05<00:00, 34.17it/s]\n",
      "100%|██████████| 2251/2251 [01:06<00:00, 33.65it/s]\n",
      "100%|██████████| 2251/2251 [01:08<00:00, 32.91it/s]\n",
      "100%|██████████| 2251/2251 [01:11<00:00, 31.49it/s]\n",
      "100%|██████████| 2251/2251 [01:14<00:00, 30.32it/s]\n",
      "100%|██████████| 2251/2251 [01:17<00:00, 29.18it/s]\n",
      "100%|██████████| 2251/2251 [01:19<00:00, 28.16it/s]\n",
      "100%|██████████| 2251/2251 [01:23<00:00, 26.97it/s]\n",
      "100%|██████████| 2251/2251 [01:26<00:00, 26.16it/s]\n"
     ]
    }
   ],
   "source": [
    "exp_accuracy =[]\n",
    "num_of_exp = len(test_datasets)\n",
    "for exp in range(num_of_exp):\n",
    "    iou_scores = np.array([])\n",
    "    test_dataset = test_datasets[exp]\n",
    "    best_model = torch.load(f'./models/best_model_{32*(1+exp)}x{32*(1+exp)}.pth')\n",
    "    for i in tqdm(range(len(test_dataset)),):#tqdm(range(len(test_dataset_32))):\n",
    "        \n",
    "        image, gt_mask = test_dataset[i]\n",
    "        _, gt_mask = test_datasets[num_of_exp-1][i]\n",
    "        gt_mask = torch.tensor(np.expand_dims(gt_mask,0)).long().to(DEVICE)\n",
    "        x_tensor = torch.from_numpy(image).to(DEVICE).unsqueeze(0)\n",
    "        pr_mask = best_model.predict(x_tensor)\n",
    "        pr_mask = (pr_mask)\n",
    "        pr_mask_array = pr_mask.squeeze(1).to('cpu').numpy()\n",
    "        resized_images = []\n",
    "        for img in pr_mask_array:\n",
    "            resized_img = cv2.resize(img, (640, 640), interpolation=cv2.INTER_NEAREST)\n",
    "            resized_images.append(resized_img)\n",
    "        resized_mask = torch.from_numpy(np.array(resized_images)).unsqueeze(1).to(DEVICE)\n",
    "        # print(resized_mask)\n",
    "        tp, fp, fn, tn = smp.metrics.get_stats(resized_mask, gt_mask, mode=\"binary\", threshold=0.5)\n",
    "        iou_score = smp.metrics.iou_score(tp, fp, fn, tn)\n",
    "        iou_scores = np.append(iou_scores,iou_score.to('cpu').numpy())\n",
    "        # resized_mask = (resized_mask.squeeze().cpu().numpy().round())\n",
    "        # pr_mask = (pr_mask.squeeze().cpu().numpy().round())\n",
    "        # _, gt_mask = test_dataset_640[i]\n",
    "        # gt_mask = gt_mask.squeeze()\n",
    "        # visualize(\n",
    "        #     image=image_vis, \n",
    "        #     ground_truth_mask_640=gt_mask, \n",
    "        #     predicted_mask_640=resized_mask\n",
    "        # )\n",
    "    iou_scores.sum()/len(test_dataset)\n",
    "    df = pd.concat([df, pd.DataFrame([{'size':32*(1+exp),'accuracy':iou_scores.sum()/len(test_dataset)}])], ignore_index=True)\n",
    "    \n",
    "        "
   ]
  },
  {
   "cell_type": "code",
   "execution_count": 18,
   "metadata": {},
   "outputs": [
    {
     "ename": "",
     "evalue": "",
     "output_type": "error",
     "traceback": [
      "\u001b[1;31mThe Kernel crashed while executing code in the the current cell or a previous cell. Please review the code in the cell(s) to identify a possible cause of the failure. Click <a href='https://aka.ms/vscodeJupyterKernelCrash'>here</a> for more info. View Jupyter <a href='command:jupyter.viewOutput'>log</a> for further details."
     ]
    }
   ],
   "source": [
    "df.to_csv('experimental_result/accuracy.csv',index=False)"
   ]
  }
 ],
 "metadata": {
  "kernelspec": {
   "display_name": "segmentation",
   "language": "python",
   "name": "python3"
  },
  "language_info": {
   "codemirror_mode": {
    "name": "ipython",
    "version": 3
   },
   "file_extension": ".py",
   "mimetype": "text/x-python",
   "name": "python",
   "nbconvert_exporter": "python",
   "pygments_lexer": "ipython3",
   "version": "3.9.18"
  }
 },
 "nbformat": 4,
 "nbformat_minor": 2
}
